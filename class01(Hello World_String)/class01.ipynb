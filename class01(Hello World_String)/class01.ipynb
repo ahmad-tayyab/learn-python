{
 "cells": [
  {
   "cell_type": "markdown",
   "metadata": {},
   "source": [
    "\n",
    "# I am so happy to start programming\n"
   ]
  },
  {
   "cell_type": "code",
   "execution_count": 1,
   "metadata": {},
   "outputs": [
    {
     "name": "stdout",
     "output_type": "stream",
     "text": [
      "hello world\n"
     ]
    }
   ],
   "source": [
    "print(\"hello world\")"
   ]
  },
  {
   "cell_type": "code",
   "execution_count": 2,
   "metadata": {},
   "outputs": [
    {
     "name": "stdout",
     "output_type": "stream",
     "text": [
      "abc\n",
      "123\n",
      "Pakistan\n",
      "England\n",
      "Match\n"
     ]
    }
   ],
   "source": [
    "print(\"abc\")\n",
    "print(\"123\")\n",
    "print(\"Pakistan\")\n",
    "print(\"England\")\n",
    "print(\"Match\")"
   ]
  },
  {
   "cell_type": "code",
   "execution_count": 3,
   "metadata": {},
   "outputs": [
    {
     "name": "stdout",
     "output_type": "stream",
     "text": [
      "# use for headings in jupyter\n",
      "we will create environment\n",
      "naming convention search on google 'pep 8 naming convention'\n",
      "why we need environment\n",
      "using python by eric book\n"
     ]
    }
   ],
   "source": [
    "print(\"# use for headings in jupyter\")\n",
    "print(\"we will create environment\")\n",
    "print(\"naming convention search on google 'pep 8 naming convention'\")\n",
    "print(\"why we need environment\")\n",
    "print(\"using python by eric book\")"
   ]
  },
  {
   "cell_type": "code",
   "execution_count": 4,
   "metadata": {},
   "outputs": [
    {
     "name": "stdout",
     "output_type": "stream",
     "text": [
      "searc 'google colab'\n",
      "it is used if we have a low resources of hardware\n",
      "make a file name on google colab it gives 12 gb ram and ssd for free\n",
      "to change runtime select t4gpu if you need gpu\n",
      "its memory is 16gb for free\n"
     ]
    }
   ],
   "source": [
    "print(\"searc 'google colab'\")\n",
    "print(\"it is used if we have a low resources of hardware\")\n",
    "print(\"make a file name on google colab it gives 12 gb ram and ssd for free\")\n",
    "print(\"to change runtime select t4gpu if you need gpu\")\n",
    "print(\"its memory is 16gb for free\")"
   ]
  },
  {
   "cell_type": "markdown",
   "metadata": {},
   "source": [
    "# To Check list of environments\n",
    "conda env list\n",
    "# To delete an environment\n",
    "conda env remove --name environment_name"
   ]
  },
  {
   "cell_type": "code",
   "execution_count": 3,
   "metadata": {},
   "outputs": [
    {
     "name": "stdout",
     "output_type": "stream",
     "text": [
      "IDE where we did coding for example VS Code\n",
      "now we create environment for python\n",
      "conda create -n python12 python==3.12 -y\n",
      "conda activate python12\n",
      "make a file requirements.txt\n",
      "pip install -r requirements.txt\n"
     ]
    }
   ],
   "source": [
    "print(\"IDE where we did coding for example VS Code\")\n",
    "print(\"now we create environment for python\")\n",
    "# commands\n",
    "print(\"conda create -n python12 python==3.12 -y\")\n",
    "print(\"conda activate python12\")\n",
    "# installing packages in a bulk\n",
    "print(\"make a file requirements.txt\")\n",
    "# provide names of packages 1.mypy 2.jupyter 3.pandas 4.numpy\n",
    "print(\"pip install -r requirements.txt\")"
   ]
  },
  {
   "cell_type": "markdown",
   "metadata": {},
   "source": [
    "# String"
   ]
  },
  {
   "cell_type": "code",
   "execution_count": 1,
   "metadata": {},
   "outputs": [
    {
     "name": "stdout",
     "output_type": "stream",
     "text": [
      "Hafiz Muhammad Ahmad\n",
      "<class 'str'>\n",
      "2130141169392\n",
      "['capitalize', 'casefold', 'center', 'count', 'encode', 'endswith', 'expandtabs', 'find', 'format', 'format_map', 'index', 'isalnum', 'isalpha', 'isascii', 'isdecimal', 'isdigit', 'isidentifier', 'islower', 'isnumeric', 'isprintable', 'isspace', 'istitle', 'isupper', 'join', 'ljust', 'lower', 'lstrip', 'maketrans', 'partition', 'removeprefix', 'removesuffix', 'replace', 'rfind', 'rindex', 'rjust', 'rpartition', 'rsplit', 'rstrip', 'split', 'splitlines', 'startswith', 'strip', 'swapcase', 'title', 'translate', 'upper', 'zfill']\n"
     ]
    }
   ],
   "source": [
    "name : str = \"Hafiz Muhammad Ahmad\"\n",
    "print(name)\n",
    "print(type(name))\n",
    "print(id(name))\n",
    "print([i for i in dir(name) if \"__\" not in i])"
   ]
  },
  {
   "cell_type": "code",
   "execution_count": 2,
   "metadata": {},
   "outputs": [
    {
     "name": "stdout",
     "output_type": "stream",
     "text": [
      "1000\n",
      "<class 'int'>\n",
      "2240336420048\n",
      "['as_integer_ratio', 'bit_count', 'bit_length', 'conjugate', 'denominator', 'from_bytes', 'imag', 'is_integer', 'numerator', 'real', 'to_bytes']\n"
     ]
    }
   ],
   "source": [
    "name : int = 1000\n",
    "print(name)\n",
    "print(type(name))\n",
    "print(id(name))\n",
    "print([i for i in dir(name) if \"__\" not in i])"
   ]
  },
  {
   "cell_type": "code",
   "execution_count": null,
   "metadata": {},
   "outputs": [],
   "source": [
    "name : list[str] = ['a','b','c']\n",
    "print(name)\n",
    "print(type(name))\n",
    "print(id(name))\n",
    "print([i for i in dir(name) if \"__\" not in i])"
   ]
  }
 ],
 "metadata": {
  "kernelspec": {
   "display_name": "base",
   "language": "python",
   "name": "python3"
  },
  "language_info": {
   "codemirror_mode": {
    "name": "ipython",
    "version": 3
   },
   "file_extension": ".py",
   "mimetype": "text/x-python",
   "name": "python",
   "nbconvert_exporter": "python",
   "pygments_lexer": "ipython3",
   "version": "3.12.0"
  }
 },
 "nbformat": 4,
 "nbformat_minor": 2
}
