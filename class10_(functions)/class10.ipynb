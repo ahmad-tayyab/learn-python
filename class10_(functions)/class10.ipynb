{
 "cells": [
  {
   "cell_type": "markdown",
   "metadata": {},
   "source": [
    "# Function\n",
    "* pre-define function\n",
    "    * provided by in language\n",
    "* user-define function\n",
    "    * custom functioin\n",
    "## Similar properties on both types\n",
    "* Return and None_return function\n",
    "    * Return\n",
    "        * we can assign this function output in any variable\n",
    "    * None-Return\n",
    "        * only run we can't assign value to variable\n",
    "## components\n",
    "* function declaration\n",
    "* function body\n",
    "* function calling\n",
    "\n",
    "### Syntax function\n",
    "```\n",
    "def function_name(param1:type, param2:type,...)->Return_type:\n",
    "    function_body\n",
    "\n",
    "function_name(arg1,arg2)\n",
    "```\n",
    "\n",
    "### Syntax lambda function\n",
    "* one line function\n",
    "* without name\n",
    "* only use in this line\n",
    "\n",
    "```\n",
    "lambda param1:type, param2:type : function_body\n",
    "\n",
    "```"
   ]
  },
  {
   "cell_type": "markdown",
   "metadata": {},
   "source": [
    "# Pre-define function\n",
    "* print \n",
    "* len\n",
    "* id\n",
    "* dir\n",
    "* chr\n",
    "* ord\n",
    "* exec"
   ]
  },
  {
   "cell_type": "markdown",
   "metadata": {},
   "source": [
    "# Return and NOne-Return function\n"
   ]
  },
  {
   "cell_type": "code",
   "execution_count": 2,
   "metadata": {},
   "outputs": [
    {
     "name": "stdout",
     "output_type": "stream",
     "text": [
      "paksitan\n"
     ]
    },
    {
     "data": {
      "text/plain": [
       "None"
      ]
     },
     "metadata": {},
     "output_type": "display_data"
    }
   ],
   "source": [
    "a: str = print(\"paksitan\")    # a = \"pakistan\" | None\n",
    "\n",
    "display(a)"
   ]
  },
  {
   "cell_type": "code",
   "execution_count": 3,
   "metadata": {},
   "outputs": [
    {
     "data": {
      "text/plain": [
       "8"
      ]
     },
     "metadata": {},
     "output_type": "display_data"
    }
   ],
   "source": [
    "a : int = len(\"pakistan\")  # a = 8\n",
    "display(a)"
   ]
  },
  {
   "cell_type": "code",
   "execution_count": 4,
   "metadata": {},
   "outputs": [
    {
     "name": "stdout",
     "output_type": "stream",
     "text": [
      "aa\n",
      "4\n"
     ]
    }
   ],
   "source": [
    "print(\"aa\")\n",
    "print(len(\"aaaa\"))"
   ]
  },
  {
   "cell_type": "markdown",
   "metadata": {},
   "source": [
    "### Create simple function without any argument (default function)"
   ]
  },
  {
   "cell_type": "code",
   "execution_count": 7,
   "metadata": {},
   "outputs": [
    {
     "name": "stdout",
     "output_type": "stream",
     "text": [
      "PIAIC Generative Artificial Intelligence\n",
      "Python Crash Course\n"
     ]
    }
   ],
   "source": [
    "def piaic()->None: # funciton declaration\n",
    "    # function body start\n",
    "    print(\"PIAIC Generative Artificial Intelligence\") # statement 1\n",
    "    print(\"Python Crash Course\") # statement 2\n",
    "    # function body end\n",
    "piaic()"
   ]
  },
  {
   "cell_type": "code",
   "execution_count": 8,
   "metadata": {},
   "outputs": [
    {
     "name": "stdout",
     "output_type": "stream",
     "text": [
      "PIAIC Generative Artificial Intelligence\n",
      "Python Crash Course\n",
      "PIAIC Generative Artificial Intelligence\n",
      "Python Crash Course\n",
      "PIAIC Generative Artificial Intelligence\n",
      "Python Crash Course\n"
     ]
    }
   ],
   "source": [
    "piaic()\n",
    "piaic()\n",
    "piaic()"
   ]
  },
  {
   "cell_type": "markdown",
   "metadata": {},
   "source": [
    "# Required Parameters Functions"
   ]
  },
  {
   "cell_type": "code",
   "execution_count": 9,
   "metadata": {},
   "outputs": [
    {
     "data": {
      "text/plain": [
       "27"
      ]
     },
     "execution_count": 9,
     "metadata": {},
     "output_type": "execute_result"
    }
   ],
   "source": [
    "#                   param1       param2\n",
    "def add_two_numbers(num1 : int , num2 : int)->int:\n",
    "    return num1 + num2\n",
    "\n",
    "\n",
    "add_two_numbers(7,20) # arg1 , arg2s"
   ]
  },
  {
   "cell_type": "code",
   "execution_count": 10,
   "metadata": {},
   "outputs": [
    {
     "ename": "TypeError",
     "evalue": "add_two_numbers() missing 1 required positional argument: 'num2'",
     "output_type": "error",
     "traceback": [
      "\u001b[1;31m---------------------------------------------------------------------------\u001b[0m",
      "\u001b[1;31mTypeError\u001b[0m                                 Traceback (most recent call last)",
      "\u001b[1;32mc:\\Users\\Ahmad\\Desktop\\Python\\class10_(functions)\\class10.ipynb Cell 12\u001b[0m line \u001b[0;36m1\n\u001b[1;32m----> <a href='vscode-notebook-cell:/c%3A/Users/Ahmad/Desktop/Python/class10_%28functions%29/class10.ipynb#X14sZmlsZQ%3D%3D?line=0'>1</a>\u001b[0m add_two_numbers(\u001b[39m3\u001b[39;49m)\n",
      "\u001b[1;31mTypeError\u001b[0m: add_two_numbers() missing 1 required positional argument: 'num2'"
     ]
    }
   ],
   "source": [
    "add_two_numbers(3) # must give two parameters"
   ]
  },
  {
   "cell_type": "markdown",
   "metadata": {},
   "source": [
    "# function with optional parameters"
   ]
  },
  {
   "cell_type": "code",
   "execution_count": 11,
   "metadata": {},
   "outputs": [
    {
     "data": {
      "text/plain": [
       "3"
      ]
     },
     "execution_count": 11,
     "metadata": {},
     "output_type": "execute_result"
    }
   ],
   "source": [
    "def add_two_numbers(num1 : int , num2 : int = 0) -> int:\n",
    "    return num1 + num2\n",
    "\n",
    "\n",
    "add_two_numbers(3)"
   ]
  },
  {
   "cell_type": "code",
   "execution_count": 13,
   "metadata": {},
   "outputs": [
    {
     "data": {
      "text/plain": [
       "8"
      ]
     },
     "execution_count": 13,
     "metadata": {},
     "output_type": "execute_result"
    }
   ],
   "source": [
    "add_two_numbers(3,5) # over_write 0"
   ]
  },
  {
   "cell_type": "markdown",
   "metadata": {},
   "source": [
    "### Syntax lambda function\n",
    "* one line function\n",
    "* without name\n",
    "* only use in this line\n",
    "\n",
    "```\n",
    "lambda param1:type, param2:type : function_body\n",
    "\n",
    "```"
   ]
  },
  {
   "cell_type": "code",
   "execution_count": 14,
   "metadata": {},
   "outputs": [
    {
     "data": {
      "text/plain": [
       "9"
      ]
     },
     "execution_count": 14,
     "metadata": {},
     "output_type": "execute_result"
    }
   ],
   "source": [
    "a = lambda num1, num2 : num1 + num2\n",
    "\n",
    "a(4,5)"
   ]
  },
  {
   "cell_type": "code",
   "execution_count": 16,
   "metadata": {},
   "outputs": [
    {
     "data": {
      "text/plain": [
       "[2, 4, 6, 8, 10, 12, 14, 16, 18, 20]"
      ]
     },
     "execution_count": 16,
     "metadata": {},
     "output_type": "execute_result"
    }
   ],
   "source": [
    "data : list[int] = [1,2,3,4,5,6,7,8,9,10]\n",
    "\n",
    "data = list(map(lambda x:x*2, data))\n",
    "data"
   ]
  },
  {
   "cell_type": "code",
   "execution_count": 17,
   "metadata": {},
   "outputs": [
    {
     "data": {
      "text/plain": [
       "[2, 4, 6, 8, 10]"
      ]
     },
     "execution_count": 17,
     "metadata": {},
     "output_type": "execute_result"
    }
   ],
   "source": [
    "data : list[int] = [1,2,3,4,5,6,7,8,9,10]\n",
    "\n",
    "data = list(filter(lambda x:x%2==0, data))\n",
    "data"
   ]
  },
  {
   "cell_type": "markdown",
   "metadata": {},
   "source": [
    "https://stackoverflow.com/questions/33833881/is-it-possible-to-type-hint-a-lambda-function"
   ]
  },
  {
   "cell_type": "code",
   "execution_count": 19,
   "metadata": {},
   "outputs": [
    {
     "name": "stdout",
     "output_type": "stream",
     "text": [
      "50\n"
     ]
    }
   ],
   "source": [
    "from typing import Callable\n",
    "\n",
    "add: Callable[[int,int], int] = lambda x, y : x + y\n",
    "result = add(20, 30)\n",
    "print(result)"
   ]
  },
  {
   "cell_type": "markdown",
   "metadata": {},
   "source": [
    "### Generator Function\n",
    "* iterate on element one by one\n",
    "* stop after each iteration\n",
    "* remember old iteration value ( last iterate value)\n",
    "* next iterate \n",
    "    * go forward from last iterate value"
   ]
  },
  {
   "cell_type": "code",
   "execution_count": 21,
   "metadata": {},
   "outputs": [
    {
     "name": "stdout",
     "output_type": "stream",
     "text": [
      "[1, 2, 3, 4, 5, 6, 7, 8, 9]\n"
     ]
    }
   ],
   "source": [
    "### Generator Function\n",
    "def my_range(start:int , end:int , step: int=1):\n",
    "    for i in range(start,end,step):\n",
    "        yield i # Generator function\n",
    "\n",
    "\n",
    "\n",
    "\n",
    "a = my_range(1,10)\n",
    "print(list(a))  # first method"
   ]
  },
  {
   "cell_type": "code",
   "execution_count": 23,
   "metadata": {},
   "outputs": [
    {
     "name": "stdout",
     "output_type": "stream",
     "text": [
      "1\n",
      "2\n",
      "3\n",
      "4\n",
      "5\n"
     ]
    }
   ],
   "source": [
    "a = my_range(1,10)\n",
    "print(next(a))\n",
    "print(next(a))\n",
    "print(next(a))\n",
    "print(next(a))\n",
    "print(next(a))  # second method"
   ]
  }
 ],
 "metadata": {
  "kernelspec": {
   "display_name": "python12",
   "language": "python",
   "name": "python3"
  },
  "language_info": {
   "codemirror_mode": {
    "name": "ipython",
    "version": 3
   },
   "file_extension": ".py",
   "mimetype": "text/x-python",
   "name": "python",
   "nbconvert_exporter": "python",
   "pygments_lexer": "ipython3",
   "version": "3.12.0"
  }
 },
 "nbformat": 4,
 "nbformat_minor": 2
}
