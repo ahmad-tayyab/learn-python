{
 "cells": [
  {
   "cell_type": "markdown",
   "id": "5fe56aab-9934-4c4a-a46c-2756476ad789",
   "metadata": {},
   "source": [
    "# If-else-elif\n",
    "```\n",
    "\n",
    "if logic:\n",
    "    True_block\n",
    "else:\n",
    "    False_block\n",
    "```\n",
    "\n",
    "## comprehensive if-else\n",
    "\n",
    "```\n",
    "True_block if logic else False_block\n",
    "```\n",
    "* if\n",
    "* if-else\n",
    "* if-elif-else"
   ]
  },
  {
   "cell_type": "code",
   "execution_count": 1,
   "id": "02461f01-ef2b-4de1-8d5f-556cb0b1001d",
   "metadata": {},
   "outputs": [
    {
     "name": "stdout",
     "output_type": "stream",
     "text": [
      "Happy\n"
     ]
    }
   ],
   "source": [
    "if True:\n",
    "    print(\"Happy\")\n",
    "else:\n",
    "    print(\"Sad\")"
   ]
  },
  {
   "cell_type": "code",
   "execution_count": 2,
   "id": "22f0afee-9653-47a8-89f1-dc8d8e680a7a",
   "metadata": {},
   "outputs": [
    {
     "name": "stdout",
     "output_type": "stream",
     "text": [
      "Sad\n"
     ]
    }
   ],
   "source": [
    "if False:\n",
    "    print(\"Happy\")\n",
    "else:\n",
    "    print(\"Sad\")"
   ]
  },
  {
   "cell_type": "code",
   "execution_count": 3,
   "id": "e7e4664c-5756-4b02-bd9a-955dcc738329",
   "metadata": {},
   "outputs": [
    {
     "name": "stdout",
     "output_type": "stream",
     "text": [
      "Sad\n"
     ]
    }
   ],
   "source": [
    "#    True_block    logic        False_block\n",
    "print(\"Happy\") if False else print(\"Sad\")"
   ]
  },
  {
   "cell_type": "code",
   "execution_count": 4,
   "id": "3f9a5f08-062e-4e6b-aee0-c45c22e03041",
   "metadata": {},
   "outputs": [
    {
     "name": "stdout",
     "output_type": "stream",
     "text": [
      "Happy\n"
     ]
    }
   ],
   "source": [
    "print(\"Happy\") if True else print(\"Sad\")"
   ]
  },
  {
   "cell_type": "markdown",
   "id": "43fd1ee0-0824-45a7-b478-c5a70e0077cb",
   "metadata": {},
   "source": [
    "# comparison operators\n",
    "* ==\n",
    "* '>='\n",
    "* <=\n",
    "* !=\n",
    "## logic\n",
    "* and\n",
    "* or\n",
    "* not"
   ]
  },
  {
   "cell_type": "code",
   "execution_count": 5,
   "id": "01f079f8-b69d-4bd2-87a7-8a40d36ffdf2",
   "metadata": {},
   "outputs": [
    {
     "name": "stdout",
     "output_type": "stream",
     "text": [
      "True\n",
      "1\n",
      "2\n",
      "3\n"
     ]
    }
   ],
   "source": [
    "if True:\n",
    "    print(\"True\")\n",
    "print(1)\n",
    "print(2)\n",
    "print(3)\n",
    "    "
   ]
  },
  {
   "cell_type": "code",
   "execution_count": 6,
   "id": "4b0778c3-520b-4514-98ba-d67cf4c43238",
   "metadata": {},
   "outputs": [
    {
     "name": "stdout",
     "output_type": "stream",
     "text": [
      "1\n",
      "2\n",
      "3\n"
     ]
    }
   ],
   "source": [
    "if False:\n",
    "    print(\"True\")\n",
    "print(1)\n",
    "print(2)\n",
    "print(3)\n",
    "    "
   ]
  },
  {
   "cell_type": "code",
   "execution_count": 7,
   "id": "79328fa4-15a8-4c2a-8f2c-de7fc7260a4a",
   "metadata": {},
   "outputs": [
    {
     "name": "stdout",
     "output_type": "stream",
     "text": [
      "True_Block\n"
     ]
    }
   ],
   "source": [
    "if True:\n",
    "    print(\"True_Block\")\n",
    "elif False:\n",
    "    print(\"elif logic 1\")\n",
    "elif False:\n",
    "    print(\"elif logic 2\")\n",
    "else:\n",
    "    print(\"final else block\")"
   ]
  },
  {
   "cell_type": "code",
   "execution_count": 8,
   "id": "87e23e0a-f9b0-400c-95f6-f68773b9550d",
   "metadata": {},
   "outputs": [
    {
     "name": "stdout",
     "output_type": "stream",
     "text": [
      "final else block\n"
     ]
    }
   ],
   "source": [
    "if False:\n",
    "    print(\"True_Block\")\n",
    "elif False:\n",
    "    print(\"elif logic 1\")\n",
    "elif False:\n",
    "    print(\"elif logic 2\")\n",
    "else:\n",
    "    print(\"final else block\")"
   ]
  },
  {
   "cell_type": "code",
   "execution_count": 9,
   "id": "bd9f0978-6723-4bf0-86b4-128474781dd7",
   "metadata": {},
   "outputs": [
    {
     "name": "stdout",
     "output_type": "stream",
     "text": [
      "elif logic 1\n"
     ]
    }
   ],
   "source": [
    "if False:\n",
    "    print(\"True_Block\")\n",
    "elif True:\n",
    "    print(\"elif logic 1\")\n",
    "elif False:\n",
    "    print(\"elif logic 2\")\n",
    "else:\n",
    "    print(\"final else block\")"
   ]
  },
  {
   "cell_type": "code",
   "execution_count": 10,
   "id": "c70e4956-c941-4f44-9080-986620bf5e98",
   "metadata": {},
   "outputs": [
    {
     "name": "stdout",
     "output_type": "stream",
     "text": [
      "elif logic 2\n"
     ]
    }
   ],
   "source": [
    "if False:\n",
    "    print(\"True_Block\")\n",
    "elif False:\n",
    "    print(\"elif logic 1\")\n",
    "elif True:\n",
    "    print(\"elif logic 2\")\n",
    "else:\n",
    "    print(\"final else block\")"
   ]
  },
  {
   "cell_type": "code",
   "execution_count": 11,
   "id": "11bd6e73-704c-4a86-a5a8-3a2791831e3a",
   "metadata": {},
   "outputs": [
    {
     "name": "stdout",
     "output_type": "stream",
     "text": [
      "elif logic 1\n"
     ]
    }
   ],
   "source": [
    "# Run only one block\n",
    "if False:\n",
    "    print(\"True_Block\")\n",
    "elif True:\n",
    "    print(\"elif logic 1\")\n",
    "elif True:\n",
    "    print(\"elif logic 2\")\n",
    "else:\n",
    "    print(\"final else block\")"
   ]
  },
  {
   "cell_type": "code",
   "execution_count": 12,
   "id": "38027cc2-63fd-4e6a-8660-41b3df81488b",
   "metadata": {},
   "outputs": [
    {
     "name": "stdout",
     "output_type": "stream",
     "text": [
      "a is greater than b\n"
     ]
    }
   ],
   "source": [
    "a = 200\n",
    "b = 33\n",
    "if b > a:\n",
    "  print(\"b is greater than a\")\n",
    "elif a == b:\n",
    "  print(\"a and b are equal\")\n",
    "else:\n",
    "  print(\"a is greater than b\")"
   ]
  },
  {
   "cell_type": "markdown",
   "id": "c555a1b3-2a5e-45ea-a223-8ed89d397c20",
   "metadata": {},
   "source": [
    "# Grading Rule\n",
    "\n",
    "https://www.infoworld.com/article/3630372/get-started-with-python-type-hints.html"
   ]
  },
  {
   "cell_type": "code",
   "execution_count": 15,
   "id": "12d20a85-7793-4335-90ee-3966aaf4395a",
   "metadata": {},
   "outputs": [
    {
     "name": "stdin",
     "output_type": "stream",
     "text": [
      "Enter your percentage:\t 44\n"
     ]
    },
    {
     "name": "stdout",
     "output_type": "stream",
     "text": [
      "Dear Student your percentage is 44 now your calculated grade is:\t D\n"
     ]
    }
   ],
   "source": [
    "from typing import Union\n",
    "per: Union[int, float] = int(input(\"Enter your percentage:\\t\"))\n",
    "grade: Union[str, None] = None\n",
    "\n",
    "if per >= 80:\n",
    "    grade = \"A+\"\n",
    "elif per >= 70:\n",
    "    grade = \"A\"\n",
    "elif per >= 60:\n",
    "    grade = \"B\"\n",
    "elif per >= 50:\n",
    "    grade = \"C\"\n",
    "elif per >= 40:\n",
    "    grade = \"D\"\n",
    "elif per < 33:\n",
    "    grade = \"E\"\n",
    "else:\n",
    "    grade = \"Fail\"\n",
    "\n",
    "print(f\"Dear Student your percentage is {per} now your calculated grade is:\\t {grade}\")\n",
    "\n"
   ]
  },
  {
   "cell_type": "code",
   "execution_count": 21,
   "id": "f7994f75-feaa-41cd-86ef-313b5bdcc20f",
   "metadata": {},
   "outputs": [
    {
     "name": "stdout",
     "output_type": "stream",
     "text": [
      "Dear Student your percentage is 7 now your calculated grade is:\t E\n"
     ]
    }
   ],
   "source": [
    "from typing import Union, Optional\n",
    "\n",
    "per: Union[int, float] = 7\n",
    "# per: int |float = 7  alternative of above code\n",
    "grade: Optional[str] = None\n",
    "\n",
    "if per >= 80:\n",
    "    grade = \"A+\"\n",
    "elif per >= 70:\n",
    "    grade = \"A\"\n",
    "elif per >= 60:\n",
    "    grade = \"B\"\n",
    "elif per >= 50:\n",
    "    grade = \"C\"\n",
    "elif per >= 40:\n",
    "    grade = \"D\"\n",
    "elif per < 33:\n",
    "    grade = \"E\"\n",
    "else:\n",
    "    grade = \"Fail\"\n",
    "\n",
    "print(f\"Dear Student your percentage is {\n",
    "      per} now your calculated grade is:\\t {grade}\")\n",
    "\n",
    "\n",
    "# grade: str = None we can't assign str type to a None type\n"
   ]
  },
  {
   "cell_type": "code",
   "execution_count": 24,
   "id": "d62de116-eb57-49e6-a9e2-9994727c555f",
   "metadata": {},
   "outputs": [
    {
     "name": "stdin",
     "output_type": "stream",
     "text": [
      "Enter your percentage:\t 5.2\n"
     ]
    },
    {
     "name": "stdout",
     "output_type": "stream",
     "text": [
      "Dear Student your percentage is 5.2 now your calculated grade is:\t Fail\n"
     ]
    }
   ],
   "source": [
    "from typing import Union\n",
    "per: Union[int, float] = float(input(\"Enter your percentage:\\t\"))\n",
    "grade: Union[str, None] = None\n",
    "\n",
    "if per >= 0 and per <33:\n",
    "    grade = \"Fail\"\n",
    "elif per >= 33 and per < 50:\n",
    "    grade = \"E\"\n",
    "elif per >= 50 and per < 60:\n",
    "    grade = \"c\"\n",
    "elif per >= 60 and per < 70:\n",
    "    grade = \"B\"\n",
    "elif per >= 70 and per < 80:\n",
    "    grade = \"A\"\n",
    "elif per < 80 and per <= 100: \n",
    "    grade = \"A+\"\n",
    "else:\n",
    "    grade = \"Fail\"\n",
    "\n",
    "print(f\"Dear Student your percentage is {per} now your calculated grade is:\\t {grade}\")\n",
    "\n"
   ]
  },
  {
   "cell_type": "markdown",
   "id": "69b1b485-7b7d-4cfd-b5ca-2849062769e2",
   "metadata": {},
   "source": [
    "# student percentage \n",
    "\n",
    "https://peps.python.org/pep-0484/#type-aliases"
   ]
  },
  {
   "cell_type": "code",
   "execution_count": 37,
   "id": "0d4b05fe-e4ab-4e37-9039-867607fb71fd",
   "metadata": {},
   "outputs": [
    {
     "name": "stdout",
     "output_type": "stream",
     "text": [
      "[88, 99.9, 59, 65, 70]\n",
      "['A+', 'A+', 'c', 'B', 'A']\n"
     ]
    }
   ],
   "source": [
    "from typing import Union\n",
    "PerType = Union[float, int]\n",
    "\n",
    "percentages : list[PerType] \n",
    "percentages = [88, 99.9, 59, 65, 70] \n",
    "grades: list[str] = []\n",
    "for per in percentages:\n",
    "    grade : str = \"\"\n",
    "    if (per >= 0) and (per < 33):\n",
    "       grade = \"Fail\"\n",
    "    elif (per >= 33) and (per < 50):\n",
    "       grade = \"E\"\n",
    "    elif (per >= 50) and (per < 60):\n",
    "       grade = \"c\"\n",
    "    elif (per >= 60) and (per < 70):\n",
    "       grade = \"B\"\n",
    "    elif (per >= 70) and (per < 80):\n",
    "       grade = \"A\"\n",
    "    elif (per > 80) and (per <= 100):\n",
    "       grade = \"A+\"\n",
    "    else:\n",
    "       grade = \"Fail\"\n",
    "    grades.append(grade)\n",
    "print(percentages)\n",
    "print(grades)"
   ]
  },
  {
   "cell_type": "code",
   "execution_count": 45,
   "id": "c6cad2b7-5083-4f4e-a632-07186a5d6e42",
   "metadata": {},
   "outputs": [
    {
     "data": {
      "text/plain": [
       "<zip at 0x2430728d600>"
      ]
     },
     "execution_count": 45,
     "metadata": {},
     "output_type": "execute_result"
    }
   ],
   "source": [
    "zip(percentages, grades, list(range(len(percentages)))) # generator function so we have to generate values"
   ]
  },
  {
   "cell_type": "code",
   "execution_count": 49,
   "id": "092c27e8-1394-4ff2-801d-3e0fc9665e13",
   "metadata": {},
   "outputs": [
    {
     "data": {
      "text/plain": [
       "[(88, 'A+'), (99.9, 'A+'), (59, 'c'), (65, 'B'), (70, 'A')]"
      ]
     },
     "execution_count": 49,
     "metadata": {},
     "output_type": "execute_result"
    }
   ],
   "source": [
    "list(zip(percentages, grades))"
   ]
  },
  {
   "cell_type": "code",
   "execution_count": 50,
   "id": "abf694d7-6014-44e6-87d1-d8271f70385a",
   "metadata": {},
   "outputs": [
    {
     "data": {
      "text/plain": [
       "[0, 1, 2, 3, 4]"
      ]
     },
     "execution_count": 50,
     "metadata": {},
     "output_type": "execute_result"
    }
   ],
   "source": [
    "roll_no: list[int] =  list(range(len(percentages)))\n",
    "roll_no"
   ]
  },
  {
   "cell_type": "code",
   "execution_count": 51,
   "id": "192d853a-380b-43ae-a737-061ba6d22525",
   "metadata": {},
   "outputs": [
    {
     "data": {
      "text/plain": [
       "[(0, 88, 'A+'), (1, 99.9, 'A+'), (2, 59, 'c'), (3, 65, 'B'), (4, 70, 'A')]"
      ]
     },
     "execution_count": 51,
     "metadata": {},
     "output_type": "execute_result"
    }
   ],
   "source": [
    "data_base = list(zip(roll_no, percentages, grades))\n",
    "data_base"
   ]
  },
  {
   "cell_type": "code",
   "execution_count": null,
   "id": "e895c940-c744-4771-a4b9-84dc01ef4019",
   "metadata": {},
   "outputs": [],
   "source": [
    "percentages : list["
   ]
  }
 ],
 "metadata": {
  "kernelspec": {
   "display_name": "Python 3 (ipykernel)",
   "language": "python",
   "name": "python3"
  },
  "language_info": {
   "codemirror_mode": {
    "name": "ipython",
    "version": 3
   },
   "file_extension": ".py",
   "mimetype": "text/x-python",
   "name": "python",
   "nbconvert_exporter": "python",
   "pygments_lexer": "ipython3",
   "version": "3.12.0"
  }
 },
 "nbformat": 4,
 "nbformat_minor": 5
}
