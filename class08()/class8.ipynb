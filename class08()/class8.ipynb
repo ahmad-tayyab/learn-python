{
 "cells": [
  {
   "cell_type": "code",
   "execution_count": 4,
   "metadata": {},
   "outputs": [
    {
     "name": "stdout",
     "output_type": "stream",
     "text": [
      "['clear', 'copy', 'fromkeys', 'get', 'items', 'keys', 'pop', 'popitem', 'setdefault', 'update', 'values']\n"
     ]
    }
   ],
   "source": [
    "from typing import Dict, Union, Optional\n",
    "import pprint    # to give the styling to output\n",
    "\n",
    "Key = Union[int,str]  # custom type\n",
    "Value = Union[int,str, list, dict, tuple, set]\n",
    "\n",
    "data : Dict[Key,Value] = {\n",
    "                          \"name\" : \"Aslam\" , \n",
    "                          \"fname\" : \"Qasim\" ,\n",
    "                          \"education\" : \"MBBS\", \n",
    "                          }\n",
    "\n",
    "methods : list[str] = [m for m in dir(data) if \"__\" not in m]\n",
    "print(methods)"
   ]
  },
  {
   "cell_type": "code",
   "execution_count": 5,
   "metadata": {},
   "outputs": [
    {
     "name": "stdout",
     "output_type": "stream",
     "text": [
      "before {'name': 'Aslam', 'fname': 'Qasim', 'education': 'MBBS'}\n",
      "before {}\n",
      "['clear', 'copy', 'fromkeys', 'get', 'items', 'keys', 'pop', 'popitem', 'setdefault', 'update', 'values']\n"
     ]
    }
   ],
   "source": [
    "from typing import Dict, Union, Optional\n",
    "import pprint    # to give the styling to output\n",
    "\n",
    "Key = Union[int,str]  # custom type\n",
    "Value = Union[int,str, list, dict, tuple, set]\n",
    "\n",
    "data : Dict[Key,Value] = {\n",
    "                          \"name\" : \"Aslam\" , \n",
    "                          \"fname\" : \"Qasim\" ,\n",
    "                          \"education\" : \"MBBS\", \n",
    "                          }\n",
    "\n",
    "\n",
    "print(\"before\" , data)\n",
    "\n",
    "data.clear()\n",
    "\n",
    "print(\"before\" , data)\n",
    "\n",
    "methods : list[str] = [m for m in dir(data) if \"__\" not in m]\n",
    "print(methods)"
   ]
  },
  {
   "cell_type": "code",
   "execution_count": 6,
   "metadata": {},
   "outputs": [
    {
     "name": "stdout",
     "output_type": "stream",
     "text": [
      "before {'name': 'Aslam', 'fname': 'Qasim', 'education': 'MBBS'}\n"
     ]
    },
    {
     "ename": "NameError",
     "evalue": "name 'data' is not defined",
     "output_type": "error",
     "traceback": [
      "\u001b[1;31m---------------------------------------------------------------------------\u001b[0m",
      "\u001b[1;31mNameError\u001b[0m                                 Traceback (most recent call last)",
      "\u001b[1;32mc:\\Users\\Ahmad\\Desktop\\Python\\class08()\\class8.ipynb Cell 3\u001b[0m line \u001b[0;36m1\n\u001b[0;32m     <a href='vscode-notebook-cell:/c%3A/Users/Ahmad/Desktop/Python/class08%28%29/class8.ipynb#W2sZmlsZQ%3D%3D?line=13'>14</a>\u001b[0m \u001b[39mprint\u001b[39m(\u001b[39m\"\u001b[39m\u001b[39mbefore\u001b[39m\u001b[39m\"\u001b[39m , data)\n\u001b[0;32m     <a href='vscode-notebook-cell:/c%3A/Users/Ahmad/Desktop/Python/class08%28%29/class8.ipynb#W2sZmlsZQ%3D%3D?line=15'>16</a>\u001b[0m \u001b[39mdel\u001b[39;00m data\n\u001b[1;32m---> <a href='vscode-notebook-cell:/c%3A/Users/Ahmad/Desktop/Python/class08%28%29/class8.ipynb#W2sZmlsZQ%3D%3D?line=17'>18</a>\u001b[0m \u001b[39mprint\u001b[39m(\u001b[39m\"\u001b[39m\u001b[39mbefore\u001b[39m\u001b[39m\"\u001b[39m , data)\n\u001b[0;32m     <a href='vscode-notebook-cell:/c%3A/Users/Ahmad/Desktop/Python/class08%28%29/class8.ipynb#W2sZmlsZQ%3D%3D?line=19'>20</a>\u001b[0m methods : \u001b[39mlist\u001b[39m[\u001b[39mstr\u001b[39m] \u001b[39m=\u001b[39m [m \u001b[39mfor\u001b[39;00m m \u001b[39min\u001b[39;00m \u001b[39mdir\u001b[39m(data) \u001b[39mif\u001b[39;00m \u001b[39m\"\u001b[39m\u001b[39m__\u001b[39m\u001b[39m\"\u001b[39m \u001b[39mnot\u001b[39;00m \u001b[39min\u001b[39;00m m]\n\u001b[0;32m     <a href='vscode-notebook-cell:/c%3A/Users/Ahmad/Desktop/Python/class08%28%29/class8.ipynb#W2sZmlsZQ%3D%3D?line=20'>21</a>\u001b[0m \u001b[39mprint\u001b[39m(methods)\n",
      "\u001b[1;31mNameError\u001b[0m: name 'data' is not defined"
     ]
    }
   ],
   "source": [
    "from typing import Dict, Union, Optional\n",
    "import pprint    # to give the styling to output\n",
    "\n",
    "Key = Union[int,str]  # custom type\n",
    "Value = Union[int,str, list, dict, tuple, set]\n",
    "\n",
    "data : Dict[Key,Value] = {\n",
    "                          \"name\" : \"Aslam\" , \n",
    "                          \"fname\" : \"Qasim\" ,\n",
    "                          \"education\" : \"MBBS\", \n",
    "                          }\n",
    "\n",
    "\n",
    "print(\"before\" , data)\n",
    "\n",
    "del data\n",
    "\n",
    "print(\"before\" , data)\n",
    "\n",
    "methods : list[str] = [m for m in dir(data) if \"__\" not in m]\n",
    "print(methods)"
   ]
  },
  {
   "cell_type": "code",
   "execution_count": null,
   "metadata": {},
   "outputs": [
    {
     "name": "stdout",
     "output_type": "stream",
     "text": [
      "before {'name': 'Aslam', 'fname': 'Qasim', 'education': 'MBBS'}\n",
      "MBBS\n",
      "after {'name': 'Aslam', 'fname': 'Qasim'}\n",
      "['clear', 'copy', 'fromkeys', 'get', 'items', 'keys', 'pop', 'popitem', 'setdefault', 'update', 'values']\n"
     ]
    }
   ],
   "source": [
    "from typing import Dict, Union, Optional\n",
    "import pprint    # to give the styling to output\n",
    "\n",
    "Key = Union[int,str]  # custom type\n",
    "Value = Union[int,str, list, dict, tuple, set]\n",
    "\n",
    "data : Dict[Key,Value] = {\n",
    "                          \"name\" : \"Aslam\" , \n",
    "                          \"fname\" : \"Qasim\" ,\n",
    "                          \"education\" : \"MBBS\", \n",
    "                          }\n",
    "\n",
    "\n",
    "print(\"before\" , data)\n",
    "\n",
    "a:str = data.pop(\"education\")\n",
    "print(a)\n",
    "\n",
    "print(\"after\" , data)\n",
    "\n",
    "methods : list[str] = [m for m in dir(data) if \"__\" not in m]\n",
    "print(methods)"
   ]
  },
  {
   "cell_type": "code",
   "execution_count": null,
   "metadata": {},
   "outputs": [
    {
     "name": "stdout",
     "output_type": "stream",
     "text": [
      "before {'name': 'Aslam', 'fname': 'Qasim', 'education': 'MBBS'}\n",
      "('education', 'MBBS')\n",
      "after {'name': 'Aslam', 'fname': 'Qasim'}\n",
      "['clear', 'copy', 'fromkeys', 'get', 'items', 'keys', 'pop', 'popitem', 'setdefault', 'update', 'values']\n"
     ]
    }
   ],
   "source": [
    "from typing import Dict, Union, Optional\n",
    "import pprint    # to give the styling to output\n",
    "\n",
    "Key = Union[int,str]  # custom type\n",
    "Value = Union[int,str, list, dict, tuple, set]\n",
    "\n",
    "data : Dict[Key,Value] = {\n",
    "                          \"name\" : \"Aslam\" , \n",
    "                          \"fname\" : \"Qasim\" ,\n",
    "                          \"education\" : \"MBBS\", \n",
    "                          }\n",
    "\n",
    "\n",
    "print(\"before\" , data)\n",
    "\n",
    "a:str = data.popitem()\n",
    "print(a)\n",
    "\n",
    "print(\"after\" , data)\n",
    "\n",
    "methods : list[str] = [m for m in dir(data) if \"__\" not in m]\n",
    "print(methods)"
   ]
  },
  {
   "cell_type": "code",
   "execution_count": null,
   "metadata": {},
   "outputs": [
    {
     "name": "stdout",
     "output_type": "stream",
     "text": [
      "before {'name': 'Aslam', 'fname': 'Qasim', 'education': 'MBBS'}\n",
      "NA\n",
      "after {'name': 'Aslam', 'fname': 'Qasim', 'education': 'MBBS'}\n",
      "['clear', 'copy', 'fromkeys', 'get', 'items', 'keys', 'pop', 'popitem', 'setdefault', 'update', 'values']\n"
     ]
    }
   ],
   "source": [
    "from typing import Dict, Union, Optional\n",
    "import pprint    # to give the styling to output\n",
    "\n",
    "Key = Union[int,str]  # custom type\n",
    "Value = Union[int,str, list, dict, tuple, set]\n",
    "\n",
    "data : Dict[Key,Value] = {\n",
    "                          \"name\" : \"Aslam\" , \n",
    "                          \"fname\" : \"Qasim\" ,\n",
    "                          \"education\" : \"MBBS\", \n",
    "                          }\n",
    "\n",
    "\n",
    "print(\"before\" , data)\n",
    "\n",
    "a:str = data.get(\"pakistan\",\"NA\")\n",
    "print(a)\n",
    "\n",
    "print(\"after\" , data)\n",
    "\n",
    "methods : list[str] = [m for m in dir(data) if \"__\" not in m]\n",
    "print(methods)"
   ]
  },
  {
   "cell_type": "code",
   "execution_count": null,
   "metadata": {},
   "outputs": [
    {
     "name": "stdout",
     "output_type": "stream",
     "text": [
      "before {'name': 'Aslam', 'fname': 'Qasim', 'education': 'MBBS'}\n",
      "None\n",
      "after {'name': 'Aslam', 'fname': 'Qasim', 'education': 'MBBS', 'pakistan': None}\n",
      "['clear', 'copy', 'fromkeys', 'get', 'items', 'keys', 'pop', 'popitem', 'setdefault', 'update', 'values']\n"
     ]
    }
   ],
   "source": [
    "from typing import Dict, Union, Optional\n",
    "import pprint    # to give the styling to output\n",
    "\n",
    "Key = Union[int,str]  # custom type\n",
    "Value = Union[int,str, list, dict, tuple, set]\n",
    "\n",
    "data : Dict[Key,Value] = {\n",
    "                          \"name\" : \"Aslam\" , \n",
    "                          \"fname\" : \"Qasim\" ,\n",
    "                          \"education\" : \"MBBS\", \n",
    "                          }\n",
    "\n",
    "\n",
    "print(\"before\" , data)\n",
    "\n",
    "a:str = data.setdefault(\"pakistan\")\n",
    "print(a)\n",
    "\n",
    "print(\"after\" , data)\n",
    "\n",
    "methods : list[str] = [m for m in dir(data) if \"__\" not in m]\n",
    "print(methods)"
   ]
  },
  {
   "cell_type": "code",
   "execution_count": null,
   "metadata": {},
   "outputs": [
    {
     "name": "stdout",
     "output_type": "stream",
     "text": [
      "before {'name': 'Aslam', 'fname': 'Qasim', 'education': 'MBBS'}\n",
      "empty value\n",
      "after {'name': 'Aslam', 'fname': 'Qasim', 'education': 'MBBS', 'pakistan': 'empty value'}\n",
      "['clear', 'copy', 'fromkeys', 'get', 'items', 'keys', 'pop', 'popitem', 'setdefault', 'update', 'values']\n"
     ]
    }
   ],
   "source": [
    "from typing import Dict, Union, Optional\n",
    "import pprint    # to give the styling to output\n",
    "\n",
    "Key = Union[int,str]  # custom type\n",
    "Value = Union[int,str, list, dict, tuple, set]\n",
    "\n",
    "data : Dict[Key,Value] = {\n",
    "                          \"name\" : \"Aslam\" , \n",
    "                          \"fname\" : \"Qasim\" ,\n",
    "                          \"education\" : \"MBBS\", \n",
    "                          }\n",
    "\n",
    "\n",
    "print(\"before\" , data)\n",
    "\n",
    "a:str = data.setdefault(\"pakistan\",\"empty value\")\n",
    "print(a)\n",
    "\n",
    "print(\"after\" , data)\n",
    "\n",
    "methods : list[str] = [m for m in dir(data) if \"__\" not in m]\n",
    "print(methods)"
   ]
  },
  {
   "cell_type": "code",
   "execution_count": null,
   "metadata": {},
   "outputs": [
    {
     "data": {
      "text/plain": [
       "{'name': 'm.qasim',\n",
       " 'fname': 'Qasim',\n",
       " 'education': 'MBBS',\n",
       " 'age': 35,\n",
       " 'height': '6 feet'}"
      ]
     },
     "execution_count": 17,
     "metadata": {},
     "output_type": "execute_result"
    }
   ],
   "source": [
    "from typing import Dict, Union, Optional\n",
    "import pprint    # to give the styling to output\n",
    "\n",
    "Key = Union[int,str]  # custom type\n",
    "Value = Union[int,str, list, dict, tuple, set]\n",
    "\n",
    "data : Dict[Key,Value] = {\n",
    "                          \"name\" : \"Aslam\" , \n",
    "                          \"fname\" : \"Qasim\" ,\n",
    "                          \"education\" : \"MBBS\", \n",
    "                          }\n",
    "\n",
    "data1: Dict[Key,Value] = {\"name\" : \"m.qasim\",\n",
    "                          \"age\" : 35,\n",
    "                          \"height\" : \"6 feet\"}\n",
    "\n",
    "\n",
    "data.update(data1)\n",
    "data\n"
   ]
  },
  {
   "cell_type": "code",
   "execution_count": null,
   "metadata": {},
   "outputs": [
    {
     "data": {
      "text/html": [
       "<div>\n",
       "<style scoped>\n",
       "    .dataframe tbody tr th:only-of-type {\n",
       "        vertical-align: middle;\n",
       "    }\n",
       "\n",
       "    .dataframe tbody tr th {\n",
       "        vertical-align: top;\n",
       "    }\n",
       "\n",
       "    .dataframe thead th {\n",
       "        text-align: right;\n",
       "    }\n",
       "</style>\n",
       "<table border=\"1\" class=\"dataframe\">\n",
       "  <thead>\n",
       "    <tr style=\"text-align: right;\">\n",
       "      <th></th>\n",
       "      <th>roll no</th>\n",
       "      <th>name</th>\n",
       "      <th>education</th>\n",
       "    </tr>\n",
       "  </thead>\n",
       "  <tbody>\n",
       "    <tr>\n",
       "      <th>0</th>\n",
       "      <td>1</td>\n",
       "      <td>Zia</td>\n",
       "      <td>Master</td>\n",
       "    </tr>\n",
       "    <tr>\n",
       "      <th>1</th>\n",
       "      <td>2</td>\n",
       "      <td>Inam</td>\n",
       "      <td>PHd</td>\n",
       "    </tr>\n",
       "    <tr>\n",
       "      <th>2</th>\n",
       "      <td>3</td>\n",
       "      <td>Qasim</td>\n",
       "      <td>Mphill</td>\n",
       "    </tr>\n",
       "  </tbody>\n",
       "</table>\n",
       "</div>"
      ],
      "text/plain": [
       "   roll no   name education\n",
       "0        1    Zia    Master\n",
       "1        2   Inam       PHd\n",
       "2        3  Qasim    Mphill"
      ]
     },
     "execution_count": 3,
     "metadata": {},
     "output_type": "execute_result"
    }
   ],
   "source": [
    "import pandas as pd\n",
    "from typing import Any,Dict\n",
    "\n",
    "student_data : Dict[str, list[Any]] = {\n",
    "    \"roll no\" : [1,2,3],\n",
    "    \"name\" : [\"Zia\",\"Inam\",\"Qasim\"],\n",
    "    \"education\" : [\"Master\",\"PHd\",\"Mphill\"]\n",
    "}\n",
    "\n",
    "df : pd.DataFrame = pd.DataFrame(student_data)\n",
    "df"
   ]
  },
  {
   "cell_type": "code",
   "execution_count": 7,
   "metadata": {},
   "outputs": [
    {
     "name": "stdout",
     "output_type": "stream",
     "text": [
      "Original position: 0\n",
      "New position: 2\n"
     ]
    }
   ],
   "source": [
    "alien_0 = {'x_position': 0, 'y_position': 25, 'speed': 'medium'}\n",
    "print(f\"Original position: {alien_0['x_position']}\")\n",
    "# Move the alien to the right.\n",
    "# Determine how far to move the alien based on its current speed.\n",
    "if alien_0['speed'] == 'slow':\n",
    " x_increment = 1\n",
    "elif alien_0['speed'] == 'medium':\n",
    " x_increment = 2\n",
    "else:\n",
    " # This must be a fast alien.\n",
    " x_increment = 3\n",
    "# The new position is the old position plus the increment.\n",
    "alien_0['x_position'] = alien_0['x_position'] + x_increment\n",
    "print(f\"New position: {alien_0['x_position']}\")"
   ]
  },
  {
   "cell_type": "code",
   "execution_count": 8,
   "metadata": {},
   "outputs": [
    {
     "name": "stdout",
     "output_type": "stream",
     "text": [
      "{'name': 'm.qasim', 'fname': 'Qasim', 'education': 'MBBS'}\n"
     ]
    }
   ],
   "source": [
    "from typing import Dict, Union, Optional\n",
    "import pprint    # to give the styling to output\n",
    "\n",
    "Key = Union[int,str]  # custom type\n",
    "Value = Union[int,str, list, dict, tuple, set]\n",
    "\n",
    "data : Dict[Key,Value] = {\n",
    "                          \"name\" : \"Aslam\" , \n",
    "                          \"fname\" : \"Qasim\" ,\n",
    "                          \"education\" : \"MBBS\", \n",
    "                          \"name\": \"m.qasim\"\n",
    "                          }\n",
    "print(data)"
   ]
  },
  {
   "cell_type": "code",
   "execution_count": 9,
   "metadata": {},
   "outputs": [
    {
     "name": "stdout",
     "output_type": "stream",
     "text": [
      "{'name': 'Aslam', 'fname': 'Qasim', 'education': 'MBBS'}\n",
      "<class 'dict'>\n"
     ]
    }
   ],
   "source": [
    "from typing import Dict, Union, Optional\n",
    "import pprint    # to give the styling to output\n",
    "\n",
    "Key = Union[int,str]  # custom type\n",
    "Value = Union[int,str, list, dict, tuple, set]\n",
    "\n",
    "data : Dict[Key,Value] = {\n",
    "                          \"name\" : \"Aslam\" , \n",
    "                          \"fname\" : \"Qasim\" ,\n",
    "                          \"education\" : \"MBBS\", \n",
    "                          }\n",
    "\n",
    "\n",
    "print(data)\n",
    "print(type(data))\n"
   ]
  },
  {
   "cell_type": "code",
   "execution_count": 12,
   "metadata": {},
   "outputs": [
    {
     "name": "stdout",
     "output_type": "stream",
     "text": [
      "<class 'str'>\n",
      "{\n",
      "    \"name\": \"Aslam\",\n",
      "    \"fname\": \"Qasim\",\n",
      "    \"education\": \"MBBS\"\n",
      "}\n"
     ]
    }
   ],
   "source": [
    "import json\n",
    "\n",
    "data1 = json.dumps(data, indent=4)\n",
    "\n",
    "print(type(data1))\n",
    "print(data1)"
   ]
  }
 ],
 "metadata": {
  "kernelspec": {
   "display_name": "python12",
   "language": "python",
   "name": "python3"
  },
  "language_info": {
   "codemirror_mode": {
    "name": "ipython",
    "version": 3
   },
   "file_extension": ".py",
   "mimetype": "text/x-python",
   "name": "python",
   "nbconvert_exporter": "python",
   "pygments_lexer": "ipython3",
   "version": "3.12.0"
  }
 },
 "nbformat": 4,
 "nbformat_minor": 2
}
