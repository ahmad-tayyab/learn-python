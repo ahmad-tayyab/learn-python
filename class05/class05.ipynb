{
 "cells": [
  {
   "cell_type": "markdown",
   "id": "b2a61ab3-16f7-4fa1-9176-57643e395f97",
   "metadata": {},
   "source": [
    "# List \n",
    "* iteration operation with loop\n",
    "* apply any operation on element"
   ]
  },
  {
   "cell_type": "code",
   "execution_count": 1,
   "id": "f1ddc098-736b-468a-90e1-28e42852610a",
   "metadata": {},
   "outputs": [
    {
     "name": "stdout",
     "output_type": "stream",
     "text": [
      "['Zia', 'Qasim', 'Tayyab']\n"
     ]
    }
   ],
   "source": [
    "names : list[str] = ['Zia' , 'Qasim' , \"Tayyab\"]\n",
    "print(names)"
   ]
  },
  {
   "cell_type": "markdown",
   "id": "955fbde0-8a44-46f4-adc9-d377da9f4465",
   "metadata": {},
   "source": [
    "'''\n",
    "names = ['Zia' , 'Qasim' , \"Tayyab\"]\n",
    "\n",
    "for(i=0 ; i<length(names); i++){\n",
    "names[i]\n",
    "}\n",
    "'''"
   ]
  },
  {
   "cell_type": "code",
   "execution_count": 7,
   "id": "028ba265-d60b-4a63-beb7-e015018ac954",
   "metadata": {},
   "outputs": [
    {
     "name": "stdout",
     "output_type": "stream",
     "text": [
      "Zia\n",
      "Qasim\n",
      "Tayyab\n"
     ]
    }
   ],
   "source": [
    "names : list[str] = ['Zia' , 'Qasim' , \"Tayyab\"]\n",
    "for name in names:  # for is for iteration\n",
    "    print(name)"
   ]
  },
  {
   "cell_type": "code",
   "execution_count": 8,
   "id": "3e56ce3b-e568-4e7c-9ab6-5108c02177d5",
   "metadata": {},
   "outputs": [
    {
     "name": "stdout",
     "output_type": "stream",
     "text": [
      "Zia\n",
      "Qasim\n",
      "Tayyab\n"
     ]
    }
   ],
   "source": [
    "names = ['Zia' , 'Qasim' , \"Tayyab\"]\n",
    "i:int = 0  # counter = 0\n",
    "while i<len(names):  # names length = 3\n",
    "    print(names[i])\n",
    "    i += 1"
   ]
  },
  {
   "cell_type": "code",
   "execution_count": 9,
   "id": "14259621-32bd-4223-a0f6-be703b12e0be",
   "metadata": {},
   "outputs": [
    {
     "name": "stdout",
     "output_type": "stream",
     "text": [
      "Welcome dear Teacher Zia\n",
      "Welcome dear Teacher Qasim\n",
      "Welcome dear Teacher Tayyab\n"
     ]
    }
   ],
   "source": [
    "names : list[str] = ['Zia' , 'Qasim' , \"Tayyab\"]\n",
    "for name in names: # for is for iteration\n",
    "    print(f'Welcome dear Teacher {name.title()}')"
   ]
  },
  {
   "cell_type": "code",
   "execution_count": 11,
   "id": "32dfd471-fcaf-4725-8009-e249759ed39a",
   "metadata": {},
   "outputs": [
    {
     "name": "stdout",
     "output_type": "stream",
     "text": [
      "Welcome dear Teacher Zia\n",
      "PIAIC Gen Ai Team\n",
      "\n",
      "Welcome dear Teacher Qasim\n",
      "PIAIC Gen Ai Team\n",
      "\n",
      "Welcome dear Teacher Tayyab\n",
      "PIAIC Gen Ai Team\n",
      "\n"
     ]
    }
   ],
   "source": [
    "names : list[str] = ['Zia' , 'Qasim' , \"Tayyab\"]\n",
    "for name in names: # for is for iteration\n",
    "    print(f'Welcome dear Teacher {name.title()}')\n",
    "    print(\"PIAIC Gen Ai Team\\n\")"
   ]
  },
  {
   "cell_type": "code",
   "execution_count": 17,
   "id": "da9a1aa4-306d-4a8e-956a-16ead422c085",
   "metadata": {},
   "outputs": [
    {
     "name": "stdout",
     "output_type": "stream",
     "text": [
      "Welcome dear Teacher ZIA\n",
      "PIAIC Gen Ai Team\n",
      "\n",
      "Welcome dear Teacher QASIM\n",
      "PIAIC Gen Ai Team\n",
      "\n",
      "Welcome dear Teacher TAYYAB\n",
      "PIAIC Gen Ai Team\n",
      "\n",
      "Loop Finished because intendation is removed so this print is removed from the loop\n"
     ]
    }
   ],
   "source": [
    "names : list[str] = ['Zia' , 'Qasim' , \"Tayyab\"]\n",
    "for name in names: # for is for iteration\n",
    "    print(f'Welcome dear Teacher {name.upper()}')\n",
    "    print(\"PIAIC Gen Ai Team\\n\")\n",
    "\n",
    "print(\"Loop Finished because intendation is removed so this print is removed from the loop\")"
   ]
  },
  {
   "cell_type": "code",
   "execution_count": 13,
   "id": "48978daa-62ef-409f-8456-84b96c9970f7",
   "metadata": {},
   "outputs": [
    {
     "name": "stdout",
     "output_type": "stream",
     "text": [
      "('Qasim', '123')\n",
      "('sir zia', '567')\n",
      "('ikhlas', '342')\n"
     ]
    }
   ],
   "source": [
    "data_base: list[tuple[str, str]] = [(\"Qasim\", '123'),\n",
    "                                    (\"sir zia\", '567'), (\"ikhlas\", '342')]\n",
    "for row in data_base:\n",
    "    print(row)\n"
   ]
  },
  {
   "cell_type": "code",
   "execution_count": 14,
   "id": "7c4f84ba-4d68-46d7-b961-dea6bf7267a1",
   "metadata": {},
   "outputs": [
    {
     "name": "stdout",
     "output_type": "stream",
     "text": [
      "Qasim 123\n",
      "sir zia 567\n",
      "ikhlas 342\n"
     ]
    }
   ],
   "source": [
    "data_base: list[tuple[str, str]] = [(\"Qasim\", '123'),\n",
    "                                    (\"sir zia\", '567'), (\"ikhlas\", '342')]\n",
    "for row in data_base:\n",
    "    user, password = row\n",
    "    print(user, password)\n"
   ]
  },
  {
   "cell_type": "code",
   "execution_count": 16,
   "id": "7440a5bd-5d57-4c8b-8d8f-e287d5401dcc",
   "metadata": {},
   "outputs": [
    {
     "name": "stdin",
     "output_type": "stream",
     "text": [
      "Enter user name ikhlas\n",
      "Enter password 342\n"
     ]
    },
    {
     "name": "stdout",
     "output_type": "stream",
     "text": [
      "valid User\n"
     ]
    }
   ],
   "source": [
    "data_base: list[tuple[str, str]] = [(\"Qasim\", '123'),\n",
    "                                    (\"sir zia\", '567'), (\"ikhlas\", '342')]\n",
    "input_user : str = input(\"Enter user name\")\n",
    "input_password : str = input(\"Enter password\")\n",
    "for row in data_base:\n",
    "    user, password = row\n",
    "    if input_user == user and input_password == password:\n",
    "        print(\"valid User\")\n",
    "        break\n",
    "else:\n",
    "    print(\"Invalid user name\")\n"
   ]
  },
  {
   "cell_type": "markdown",
   "id": "37c2cc14-3ea0-47f6-997f-fcb4751f7dad",
   "metadata": {},
   "source": [
    "# Difference Between else and without else "
   ]
  },
  {
   "cell_type": "markdown",
   "id": "69d52ef2-e8d9-4b01-944a-d60a566bd516",
   "metadata": {},
   "source": [
    "names : list[str] = ['Zia' , 'Qasim' , \"Tayyab\"]\n",
    "for name in names:\n",
    "    print(name)\n",
    "    break\n",
    "print(\"Hello World\")"
   ]
  },
  {
   "cell_type": "code",
   "execution_count": 19,
   "id": "1b46a04f-c72b-4882-a3f6-f51dcde876a6",
   "metadata": {},
   "outputs": [
    {
     "name": "stdout",
     "output_type": "stream",
     "text": [
      "Zia\n"
     ]
    }
   ],
   "source": [
    "names : list[str] = ['Zia' , 'Qasim' , \"Tayyab\"]\n",
    "for name in names:\n",
    "    print(name)\n",
    "    break\n",
    "else:\n",
    "    print(\"Hello World\")"
   ]
  },
  {
   "cell_type": "code",
   "execution_count": 25,
   "id": "7e3322bc-520a-4e08-b64b-d7782a4af83b",
   "metadata": {},
   "outputs": [
    {
     "data": {
      "text/plain": [
       "[(0, 'alice'), (1, 'david'), (2, 'carolian')]"
      ]
     },
     "execution_count": 25,
     "metadata": {},
     "output_type": "execute_result"
    }
   ],
   "source": [
    "magicians = [\"alice\", \"david\" , \"carolian\"]\n",
    "list(enumerate(magicians))"
   ]
  },
  {
   "cell_type": "code",
   "execution_count": 27,
   "id": "6c83fe92-ebf5-43b8-a56b-41a16d573d2f",
   "metadata": {},
   "outputs": [
    {
     "name": "stdout",
     "output_type": "stream",
     "text": [
      "0 alice\n",
      "1 david\n",
      "2 carolian\n"
     ]
    }
   ],
   "source": [
    "magicians = [\"alice\", \"david\" , \"carolian\"]\n",
    "\n",
    "for index, name in enumerate(magicians):\n",
    "    print(index, name)"
   ]
  },
  {
   "cell_type": "markdown",
   "id": "24d6a44c-5f6a-42f3-880d-d51f06946721",
   "metadata": {},
   "source": [
    "# Number with Loop\n",
    " * range(start,end,step)"
   ]
  },
  {
   "cell_type": "code",
   "execution_count": 20,
   "id": "6337c25c-fbe8-427c-bec6-875ef3f564e9",
   "metadata": {},
   "outputs": [
    {
     "data": {
      "text/plain": [
       "range(0, 10)"
      ]
     },
     "execution_count": 20,
     "metadata": {},
     "output_type": "execute_result"
    }
   ],
   "source": [
    "range(10)"
   ]
  },
  {
   "cell_type": "code",
   "execution_count": 21,
   "id": "d68944ed-ffe6-40ac-b1c5-10c56c4031d1",
   "metadata": {},
   "outputs": [
    {
     "data": {
      "text/plain": [
       "[0, 1, 2, 3, 4, 5, 6, 7, 8, 9]"
      ]
     },
     "execution_count": 21,
     "metadata": {},
     "output_type": "execute_result"
    }
   ],
   "source": [
    "list(range(10))  # starting = 0 , ending = n-1"
   ]
  },
  {
   "cell_type": "code",
   "execution_count": 22,
   "id": "0b768d33-db4d-40de-99f5-6d9754f20593",
   "metadata": {},
   "outputs": [
    {
     "data": {
      "text/plain": [
       "[2, 3, 4, 5, 6, 7, 8, 9]"
      ]
     },
     "execution_count": 22,
     "metadata": {},
     "output_type": "execute_result"
    }
   ],
   "source": [
    "list(range(2,10))"
   ]
  },
  {
   "cell_type": "code",
   "execution_count": 23,
   "id": "7a19c14e-5bf3-4c0a-a8d7-35221eeb2068",
   "metadata": {},
   "outputs": [
    {
     "data": {
      "text/plain": [
       "[2, 4, 6, 8, 10, 12, 14, 16, 18, 20]"
      ]
     },
     "execution_count": 23,
     "metadata": {},
     "output_type": "execute_result"
    }
   ],
   "source": [
    "list(range(2,21,2))"
   ]
  },
  {
   "cell_type": "code",
   "execution_count": 24,
   "id": "95439dbf-20a5-459a-aa77-d26587228918",
   "metadata": {},
   "outputs": [
    {
     "name": "stdout",
     "output_type": "stream",
     "text": [
      "2\n",
      "4\n",
      "6\n",
      "8\n",
      "10\n",
      "12\n",
      "14\n",
      "16\n",
      "18\n",
      "20\n"
     ]
    }
   ],
   "source": [
    "for n in range(2,21,2):\n",
    "    print(n)"
   ]
  },
  {
   "cell_type": "code",
   "execution_count": 28,
   "id": "c9d87214-c904-46b5-a5f4-7a3c47d20923",
   "metadata": {},
   "outputs": [
    {
     "name": "stdout",
     "output_type": "stream",
     "text": [
      "2 X 1 = 2\n",
      "2 X 2 = 4\n",
      "2 X 3 = 6\n",
      "2 X 4 = 8\n",
      "2 X 5 = 10\n",
      "2 X 6 = 12\n",
      "2 X 7 = 14\n",
      "2 X 8 = 16\n",
      "2 X 9 = 18\n",
      "2 X 10 = 20\n"
     ]
    }
   ],
   "source": [
    "for n in range(1,11):\n",
    "    print(f'{2} X {n} = {n*2}')"
   ]
  },
  {
   "cell_type": "code",
   "execution_count": 29,
   "id": "6fc07aca-65ec-45cc-9856-d1333d2415af",
   "metadata": {},
   "outputs": [
    {
     "name": "stdout",
     "output_type": "stream",
     "text": [
      "[1, 4, 9, 16, 25, 36, 49, 64, 81, 100]\n"
     ]
    }
   ],
   "source": [
    "squares = []\n",
    "for value in range(1,11):\n",
    "    square = value ** 2\n",
    "    squares.append(square)\n",
    "print(squares)"
   ]
  },
  {
   "cell_type": "markdown",
   "id": "baa677a4-b9f5-4570-b8f5-c1baac7679fc",
   "metadata": {},
   "source": [
    "# List Comprehensive\n",
    "```\n",
    "for item in items_list:\n",
    "loop_body\n",
    "```\n",
    "\n",
    "\n",
    "### Comprehensive Style\n",
    "\n",
    "```\n",
    "[loop_body for item in items_list]\n",
    "```"
   ]
  },
  {
   "cell_type": "code",
   "execution_count": 30,
   "id": "76d38818-9d86-4c7f-8497-c24b04bb6276",
   "metadata": {},
   "outputs": [
    {
     "data": {
      "text/plain": [
       "[1, 2, 3, 4, 5, 6, 7, 8, 9, 10]"
      ]
     },
     "execution_count": 30,
     "metadata": {},
     "output_type": "execute_result"
    }
   ],
   "source": [
    "list(range(1,11))"
   ]
  },
  {
   "cell_type": "code",
   "execution_count": 31,
   "id": "393acac5-8372-480c-bbc9-4666c237e582",
   "metadata": {},
   "outputs": [
    {
     "name": "stdout",
     "output_type": "stream",
     "text": [
      "1\n",
      "4\n",
      "9\n",
      "16\n",
      "25\n",
      "36\n",
      "49\n",
      "64\n",
      "81\n",
      "100\n"
     ]
    }
   ],
   "source": [
    "for i in range(1,11):\n",
    "    print(i**2)"
   ]
  },
  {
   "cell_type": "code",
   "execution_count": 32,
   "id": "39f51d31-b4c4-428a-9db0-591645e541ea",
   "metadata": {},
   "outputs": [
    {
     "data": {
      "text/plain": [
       "[1, 4, 9, 16, 25, 36, 49, 64, 81, 100]"
      ]
     },
     "execution_count": 32,
     "metadata": {},
     "output_type": "execute_result"
    }
   ],
   "source": [
    "[i**2 for i in range(1,11)]"
   ]
  },
  {
   "cell_type": "markdown",
   "id": "4b9949af-268c-40e8-8cb8-8428eb5cc6b3",
   "metadata": {},
   "source": [
    "# difference btw print and wihtout print value "
   ]
  },
  {
   "cell_type": "code",
   "execution_count": 33,
   "id": "16fec90f-20ff-4ecf-b2ff-b9ba27571528",
   "metadata": {},
   "outputs": [
    {
     "data": {
      "text/plain": [
       "'line3'"
      ]
     },
     "execution_count": 33,
     "metadata": {},
     "output_type": "execute_result"
    }
   ],
   "source": [
    "\"line1\"\n",
    "\"line2\"\n",
    "\"line3\""
   ]
  },
  {
   "cell_type": "code",
   "execution_count": 34,
   "id": "832a26ec-a8d6-49d7-9100-c90a068fee8d",
   "metadata": {},
   "outputs": [
    {
     "name": "stdout",
     "output_type": "stream",
     "text": [
      "line1\n",
      "line2\n",
      "line3\n"
     ]
    }
   ],
   "source": [
    "print(\"line1\")\n",
    "print(\"line2\")\n",
    "print(\"line3\")"
   ]
  },
  {
   "cell_type": "markdown",
   "id": "a48b6d08-9e2a-496e-8934-f825cc605e61",
   "metadata": {},
   "source": [
    "# Tuples\n"
   ]
  },
  {
   "cell_type": "code",
   "execution_count": 35,
   "id": "5a5f0345-b4ed-4e6d-995b-a2e761292b0f",
   "metadata": {},
   "outputs": [
    {
     "name": "stdout",
     "output_type": "stream",
     "text": [
      "a\n",
      "('a', 'b')\n"
     ]
    }
   ],
   "source": [
    "names : tuple[str] = ('a','b','c')\n",
    "print(names[0])\n",
    "print(names[0:2])"
   ]
  },
  {
   "cell_type": "code",
   "execution_count": 36,
   "id": "4c0eec13-5ac5-4794-a557-251eafb66d00",
   "metadata": {},
   "outputs": [
    {
     "ename": "TypeError",
     "evalue": "'tuple' object does not support item assignment",
     "output_type": "error",
     "traceback": [
      "\u001b[1;31m---------------------------------------------------------------------------\u001b[0m",
      "\u001b[1;31mTypeError\u001b[0m                                 Traceback (most recent call last)",
      "Cell \u001b[1;32mIn[36], line 2\u001b[0m\n\u001b[0;32m      1\u001b[0m names : \u001b[38;5;28mtuple\u001b[39m[\u001b[38;5;28mstr\u001b[39m] \u001b[38;5;241m=\u001b[39m (\u001b[38;5;124m'\u001b[39m\u001b[38;5;124ma\u001b[39m\u001b[38;5;124m'\u001b[39m,\u001b[38;5;124m'\u001b[39m\u001b[38;5;124mb\u001b[39m\u001b[38;5;124m'\u001b[39m,\u001b[38;5;124m'\u001b[39m\u001b[38;5;124mc\u001b[39m\u001b[38;5;124m'\u001b[39m)\n\u001b[1;32m----> 2\u001b[0m \u001b[43mnames\u001b[49m\u001b[43m[\u001b[49m\u001b[38;5;241;43m0\u001b[39;49m\u001b[43m]\u001b[49m \u001b[38;5;241m=\u001b[39m \u001b[38;5;124m\"\u001b[39m\u001b[38;5;124md\u001b[39m\u001b[38;5;124m\"\u001b[39m\n",
      "\u001b[1;31mTypeError\u001b[0m: 'tuple' object does not support item assignment"
     ]
    }
   ],
   "source": [
    "names : tuple[str] = ('a','b','c')\n",
    "names[0] = \"d\""
   ]
  },
  {
   "cell_type": "code",
   "execution_count": 37,
   "id": "042cf3b6-cab9-49d4-9db1-24d27ee86c4c",
   "metadata": {},
   "outputs": [
    {
     "name": "stdout",
     "output_type": "stream",
     "text": [
      "('a', 2, True)\n"
     ]
    }
   ],
   "source": [
    "from typing import Any\n",
    "data : tuple[Any] = ('a', 2 , True)\n",
    "print(data)"
   ]
  },
  {
   "cell_type": "code",
   "execution_count": 40,
   "id": "5eac9dc7-8ea9-4421-817a-c6f03ad0f2a3",
   "metadata": {},
   "outputs": [
    {
     "name": "stdout",
     "output_type": "stream",
     "text": [
      "2\n"
     ]
    },
    {
     "ename": "AttributeError",
     "evalue": "'int' object has no attribute 'append'",
     "output_type": "error",
     "traceback": [
      "\u001b[1;31m---------------------------------------------------------------------------\u001b[0m",
      "\u001b[1;31mAttributeError\u001b[0m                            Traceback (most recent call last)",
      "Cell \u001b[1;32mIn[40], line 5\u001b[0m\n\u001b[0;32m      2\u001b[0m data : \u001b[38;5;28mtuple\u001b[39m[Any] \u001b[38;5;241m=\u001b[39m (\u001b[38;5;124m'\u001b[39m\u001b[38;5;124ma\u001b[39m\u001b[38;5;124m'\u001b[39m, \u001b[38;5;241m2\u001b[39m , \u001b[38;5;28;01mTrue\u001b[39;00m)\n\u001b[0;32m      4\u001b[0m \u001b[38;5;28mprint\u001b[39m(data[\u001b[38;5;241m1\u001b[39m])\n\u001b[1;32m----> 5\u001b[0m \u001b[43mdata\u001b[49m\u001b[43m[\u001b[49m\u001b[38;5;241;43m1\u001b[39;49m\u001b[43m]\u001b[49m\u001b[38;5;241;43m.\u001b[39;49m\u001b[43mappend\u001b[49m(\u001b[38;5;241m2\u001b[39m)\n\u001b[0;32m      6\u001b[0m \u001b[38;5;28mprint\u001b[39m(data)\n",
      "\u001b[1;31mAttributeError\u001b[0m: 'int' object has no attribute 'append'"
     ]
    }
   ],
   "source": [
    "from typing import Any\n",
    "data : tuple[Any] = ('a', 2 , True)\n",
    "\n",
    "print(data[1])\n",
    "data[1].append(2)\n",
    "print(data)"
   ]
  },
  {
   "cell_type": "code",
   "execution_count": 41,
   "id": "4fdc57e7-04a4-4fa9-a718-7080a1ec14a2",
   "metadata": {},
   "outputs": [
    {
     "name": "stdout",
     "output_type": "stream",
     "text": [
      "[2, 3, 4]\n",
      "('a', [2, 3, 4, 2], True)\n"
     ]
    }
   ],
   "source": [
    "from typing import Any\n",
    "data : tuple[Any] = ('a', [2,3,4] , True)\n",
    "\n",
    "print(data[1])\n",
    "data[1].append(2)\n",
    "print(data)"
   ]
  },
  {
   "cell_type": "code",
   "execution_count": null,
   "id": "3768f411-100f-4f60-9bfb-42fe944bf9f6",
   "metadata": {},
   "outputs": [],
   "source": []
  }
 ],
 "metadata": {
  "kernelspec": {
   "display_name": "Python 3 (ipykernel)",
   "language": "python",
   "name": "python3"
  },
  "language_info": {
   "codemirror_mode": {
    "name": "ipython",
    "version": 3
   },
   "file_extension": ".py",
   "mimetype": "text/x-python",
   "name": "python",
   "nbconvert_exporter": "python",
   "pygments_lexer": "ipython3",
   "version": "3.12.0"
  }
 },
 "nbformat": 4,
 "nbformat_minor": 5
}
