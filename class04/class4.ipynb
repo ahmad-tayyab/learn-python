{
 "cells": [
  {
   "cell_type": "code",
   "execution_count": 1,
   "metadata": {},
   "outputs": [],
   "source": [
    "name1 : str = \"Ahmad\"\n",
    "name2 : str = \"Zia\" \n",
    "name3 : str = \"Tayyab\""
   ]
  },
  {
   "cell_type": "markdown",
   "metadata": {},
   "source": [
    "# List\n",
    "* Dynamic Length \n",
    "* hetrogenous data types (multiple type)\n",
    "* index \n",
    "\n",
    "      * positive 0 to n-1\n",
    "      * negative -1 to length\n",
    "* Slicing\n",
    "    * variable names[start:end:step]\n",
    "    * start : int = include\n",
    "    * end : int = n-1\n",
    "    * step : int = sequence"
   ]
  },
  {
   "cell_type": "code",
   "execution_count": 3,
   "metadata": {},
   "outputs": [
    {
     "name": "stdout",
     "output_type": "stream",
     "text": [
      "Qasim\n",
      "Qasim\n",
      "Zia\n"
     ]
    }
   ],
   "source": [
    "\n",
    "\n",
    "# =>        0         1        2\n",
    "names = [\"Qasim\" , \"Ahmad\" , \"Zia\"]\n",
    "#  <=      -3        -2       -1\n",
    "\n",
    "print(names[0]) #Qasim\n",
    "print(names[-3]) # Qasim\n",
    "print(names[-1]) # Zia\n"
   ]
  },
  {
   "cell_type": "code",
   "execution_count": 5,
   "metadata": {},
   "outputs": [
    {
     "name": "stdout",
     "output_type": "stream",
     "text": [
      "<class 'list'>\n",
      "<class 'str'>\n",
      "Founder of PIAIC QASIM\n"
     ]
    }
   ],
   "source": [
    "from typing import Any\n",
    "\n",
    "# =>        0         1        2\n",
    "names :list[Any] = [\"Qasim\" , \"Ahmad\" , \"Zia\"]\n",
    "#  <=      -3        -2       -1\n",
    "\n",
    "print(type(names))\n",
    "print(type(names[-2]))\n",
    "\n",
    "print(f'Founder of PIAIC {names[0].upper()}') #Qasim\n",
    "\n"
   ]
  },
  {
   "cell_type": "code",
   "execution_count": 7,
   "metadata": {},
   "outputs": [
    {
     "name": "stdout",
     "output_type": "stream",
     "text": [
      "['A', 'B', 'C', 'D', 'E', 'F', 'G', 'H', 'I', 'K', 'L', 'M', 'N', 'O', 'P', 'Q', 'R', 'S', 'T', 'U', 'V', 'W', 'X', 'Y', 'Z']\n"
     ]
    }
   ],
   "source": [
    "characters : list[str] = list(\"ABCDEFGHIKLMNOPQRSTUVWXYZ\")\n",
    "print(characters)"
   ]
  },
  {
   "cell_type": "code",
   "execution_count": 15,
   "metadata": {},
   "outputs": [
    {
     "name": "stdout",
     "output_type": "stream",
     "text": [
      "['A', 'B']\n",
      "['A', 'B']\n",
      "['A', 'B']\n",
      "['A', 'B']\n",
      "['A', 'B']\n"
     ]
    }
   ],
   "source": [
    "characters : list[str] = ['A', 'B', 'C', 'D', 'E', 'F', 'G', 'H', 'I', 'J' , 'K', 'L', 'M', 'N', 'O', 'P', 'Q', 'R', 'S', 'T', 'U', 'V', 'W', 'X', 'Y', 'Z']\n",
    "                        #   0    1   2    3     4                                                                                                  25\n",
    "# slicing always go to left to right\n",
    "print(characters[0:2]) # 0=include but 2=not included\n",
    "print(characters[:2])   # not pass any number = all till 2\n",
    "\n",
    "print(characters[-26:-24])\n",
    "\n",
    "print(characters[0:2:1])\n",
    "\n",
    "print(characters[0:2:])\n",
    "\n",
    "\n"
   ]
  },
  {
   "cell_type": "code",
   "execution_count": 16,
   "metadata": {},
   "outputs": [
    {
     "name": "stdout",
     "output_type": "stream",
     "text": [
      "['A', 'C', 'E', 'G', 'I', 'K', 'M', 'O', 'Q', 'S', 'U', 'W', 'Y']\n"
     ]
    }
   ],
   "source": [
    "characters : list[str] = ['A', 'B', 'C', 'D', 'E', 'F', 'G', 'H', 'I', 'J' , 'K', 'L', 'M', 'N', 'O', 'P', 'Q', 'R', 'S', 'T', 'U', 'V', 'W', 'X', 'Y', 'Z']\n",
    "\n",
    "print(characters[::2])\n",
    "\n",
    "# jumping values step values will be in list\n",
    "\n",
    "\n"
   ]
  },
  {
   "cell_type": "code",
   "execution_count": 18,
   "metadata": {},
   "outputs": [
    {
     "name": "stdout",
     "output_type": "stream",
     "text": [
      "['H', 'G', 'F', 'E', 'D', 'C', 'B', 'A']\n"
     ]
    }
   ],
   "source": [
    "characters : list[str] = ['A', 'B', 'C', 'D', 'E', 'F', 'G', 'H']\n",
    "print(characters[::-1]) # revert the list"
   ]
  },
  {
   "cell_type": "code",
   "execution_count": 19,
   "metadata": {},
   "outputs": [
    {
     "name": "stdout",
     "output_type": "stream",
     "text": [
      "['B', 'C', 'D', 'E']\n"
     ]
    }
   ],
   "source": [
    "characters : list[str] = ['A', 'B', 'C', 'D', 'E', 'F', 'G', 'H']\n",
    "print(characters[1:-3:])"
   ]
  },
  {
   "cell_type": "code",
   "execution_count": 20,
   "metadata": {},
   "outputs": [
    {
     "name": "stdout",
     "output_type": "stream",
     "text": [
      "[]\n"
     ]
    }
   ],
   "source": [
    "characters : list[str] = ['A', 'B', 'C', 'D', 'E', 'F', 'G', 'H']\n",
    "\n",
    "# iteration slicing =>\n",
    "# step => positive\n",
    "# step <= negative\n",
    "print(characters[-1:-5:])"
   ]
  },
  {
   "cell_type": "code",
   "execution_count": 21,
   "metadata": {},
   "outputs": [
    {
     "name": "stdout",
     "output_type": "stream",
     "text": [
      "['H', 'G', 'F', 'E']\n"
     ]
    }
   ],
   "source": [
    "characters : list[str] = ['A', 'B', 'C', 'D', 'E', 'F', 'G', 'H']\n",
    "\n",
    "# iteration slicing =>\n",
    "# step => positive\n",
    "# step <= negative\n",
    "print(characters[-1:-5:-1])"
   ]
  },
  {
   "cell_type": "markdown",
   "metadata": {},
   "source": [
    "# List Methods"
   ]
  },
  {
   "cell_type": "code",
   "execution_count": 28,
   "metadata": {},
   "outputs": [
    {
     "data": {
      "text/plain": [
       "['append',\n",
       " 'clear',\n",
       " 'copy',\n",
       " 'count',\n",
       " 'extend',\n",
       " 'index',\n",
       " 'insert',\n",
       " 'pop',\n",
       " 'remove',\n",
       " 'reverse',\n",
       " 'sort']"
      ]
     },
     "execution_count": 28,
     "metadata": {},
     "output_type": "execute_result"
    }
   ],
   "source": [
    "[i for i in dir(list) if \"__\" not in i]"
   ]
  },
  {
   "cell_type": "markdown",
   "metadata": {},
   "source": [
    "# Ways to take Help\n",
    "* help(object)\n",
    "* object?\n",
    "* object??\n",
    "* ?object\n",
    "* ??object"
   ]
  },
  {
   "cell_type": "code",
   "execution_count": 29,
   "metadata": {},
   "outputs": [
    {
     "name": "stdout",
     "output_type": "stream",
     "text": [
      "Help on built-in function print in module builtins:\n",
      "\n",
      "print(*args, sep=' ', end='\\n', file=None, flush=False)\n",
      "    Prints the values to a stream, or to sys.stdout by default.\n",
      "\n",
      "    sep\n",
      "      string inserted between values, default a space.\n",
      "    end\n",
      "      string appended after the last value, default a newline.\n",
      "    file\n",
      "      a file-like object (stream); defaults to the current sys.stdout.\n",
      "    flush\n",
      "      whether to forcibly flush the stream.\n",
      "\n"
     ]
    }
   ],
   "source": [
    "help(print)"
   ]
  },
  {
   "cell_type": "code",
   "execution_count": 24,
   "metadata": {},
   "outputs": [
    {
     "name": "stdout",
     "output_type": "stream",
     "text": [
      "['Qasim', 'Ahmad', 'Zia', 5, True]\n",
      "['Muhammad Qasim', 'Ahmad', 'Zia', 5, True]\n"
     ]
    }
   ],
   "source": [
    "# =>        0         1        2\n",
    "names :list[Any] = [\"Qasim\" , \"Ahmad\" , \"Zia\" , 5 , True]\n",
    "#  <=      -3        -2       -1\n",
    "\n",
    "print(names)\n",
    "names[0] = \"Muhammad Qasim\"\n",
    "\n",
    "print(names)\n",
    "\n",
    "\n"
   ]
  },
  {
   "cell_type": "code",
   "execution_count": 25,
   "metadata": {},
   "outputs": [
    {
     "name": "stdout",
     "output_type": "stream",
     "text": [
      "['Qasim', 'Ahmad', 'Zia', 5, True]\n",
      "['Qasim', 'Ahmad', 'Zia', True]\n"
     ]
    }
   ],
   "source": [
    "# =>        0         1        2\n",
    "names :list[Any] = [\"Qasim\" , \"Ahmad\" , \"Zia\" , 5 , True]\n",
    "#  <=      -3        -2       -1\n",
    "\n",
    "print(names)\n",
    "\n",
    "del names[3]    # delete value in the 3 index\n",
    "print(names)\n",
    "\n",
    "\n"
   ]
  },
  {
   "cell_type": "code",
   "execution_count": 26,
   "metadata": {},
   "outputs": [
    {
     "name": "stdout",
     "output_type": "stream",
     "text": [
      "pakistan\n"
     ]
    },
    {
     "data": {
      "text/plain": [
       "None"
      ]
     },
     "metadata": {},
     "output_type": "display_data"
    }
   ],
   "source": [
    "a : str = print(\"pakistan\") # none return function\n",
    "display(a)"
   ]
  },
  {
   "cell_type": "code",
   "execution_count": 27,
   "metadata": {},
   "outputs": [
    {
     "data": {
      "text/plain": [
       "2757606633792"
      ]
     },
     "metadata": {},
     "output_type": "display_data"
    }
   ],
   "source": [
    "a : str = id(names) # return function\n",
    "display(a)"
   ]
  },
  {
   "cell_type": "code",
   "execution_count": 33,
   "metadata": {},
   "outputs": [
    {
     "name": "stdout",
     "output_type": "stream",
     "text": [
      "['Qasim', 'Ahmad', 'Zia', 5, True]\n",
      "True\n",
      "['Qasim', 'Ahmad', 'Zia', 5]\n"
     ]
    }
   ],
   "source": [
    "# =>        0         1        2\n",
    "names :list[Any] = [\"Qasim\" , \"Ahmad\" , \"Zia\" , 5 , True]\n",
    "#  <=      -3        -2       -1\n",
    "print(names)\n",
    "\n",
    "a : str = names.pop()  # pop return method store the last value\n",
    "print(a)\n",
    "\n",
    "print(names)"
   ]
  },
  {
   "cell_type": "code",
   "execution_count": 34,
   "metadata": {},
   "outputs": [
    {
     "name": "stdout",
     "output_type": "stream",
     "text": [
      "['Qasim', 'Ahmad', 'Zia', 5, True]\n",
      "Qasim\n",
      "['Ahmad', 'Zia', 5, True]\n"
     ]
    }
   ],
   "source": [
    "# we can add index number in the pop()\n",
    "# =>                  0         1        2\n",
    "names :list[Any] = [\"Qasim\" , \"Ahmad\" , \"Zia\" , 5 , True]\n",
    "#  <=                -3        -2       -1\n",
    "print(names)\n",
    "\n",
    "a : str = names.pop(0)  # pop return method store the last value\n",
    "print(a)\n",
    "\n",
    "print(names)"
   ]
  },
  {
   "cell_type": "code",
   "execution_count": 36,
   "metadata": {},
   "outputs": [
    {
     "name": "stdout",
     "output_type": "stream",
     "text": [
      "[]\n",
      "['Muhammad Qasim']\n",
      "['Muhammad Qasim', 'Muhammad Ahmad']\n"
     ]
    }
   ],
   "source": [
    "# append method adds value in the end\n",
    "\n",
    "names : list[str] = []\n",
    "print(names)\n",
    "\n",
    "names.append(\"Muhammad Qasim\") # add element in the last\n",
    "print(names)\n",
    "names.append(\"Muhammad Ahmad\")\n",
    "print(names)"
   ]
  },
  {
   "cell_type": "code",
   "execution_count": 38,
   "metadata": {},
   "outputs": [
    {
     "name": "stdout",
     "output_type": "stream",
     "text": [
      "['a', 'Muhammad Qasim', 'b', 'c']\n"
     ]
    }
   ],
   "source": [
    "# we use insert to add a value in a particular index\n",
    "\n",
    "names : list[str] = ['a','b','c']\n",
    "names.insert(1,\"Muhammad Qasim\")\n",
    "print(names)"
   ]
  },
  {
   "cell_type": "code",
   "execution_count": 39,
   "metadata": {},
   "outputs": [
    {
     "name": "stdout",
     "output_type": "stream",
     "text": [
      "[]\n"
     ]
    }
   ],
   "source": [
    "# To delete all elements in the list\n",
    "\n",
    "names : list[str] = ['a','b','c']\n",
    "names.clear()\n",
    "print(names)"
   ]
  },
  {
   "cell_type": "code",
   "execution_count": 40,
   "metadata": {},
   "outputs": [
    {
     "name": "stdout",
     "output_type": "stream",
     "text": [
      "['a', 'b', 'c']\n",
      "['a', 'b', 'c']\n",
      "['Pakistan', 'b', 'c']\n",
      "['Pakistan', 'b', 'c']\n"
     ]
    }
   ],
   "source": [
    "a : list[str] = ['a','b','c']\n",
    "b = a  # Shallow copy\n",
    "print(a)\n",
    "print(b)\n",
    "\n",
    "b[0] = \"Pakistan\"  # it will change on both\n",
    "print(a)\n",
    "print(b)"
   ]
  },
  {
   "cell_type": "code",
   "execution_count": 41,
   "metadata": {},
   "outputs": [
    {
     "name": "stdout",
     "output_type": "stream",
     "text": [
      "['a', 'b', 'c']\n",
      "['a', 'b', 'c']\n",
      "['a', 'b', 'c']\n",
      "['Pakistan', 'b', 'c']\n"
     ]
    }
   ],
   "source": [
    "a : list[str] = ['a','b','c']\n",
    "b = a.copy() # Deep copy\n",
    "print(a)\n",
    "print(b)\n",
    "\n",
    "b[0] = \"Pakistan\"  # it will change on both\n",
    "print(a)\n",
    "print(b)"
   ]
  },
  {
   "cell_type": "code",
   "execution_count": 43,
   "metadata": {},
   "outputs": [
    {
     "name": "stdout",
     "output_type": "stream",
     "text": [
      "2\n"
     ]
    }
   ],
   "source": [
    "# count\n",
    "a : list[str] = ['a' , 'b' , 'c' , 'd' , 'c']\n",
    "print(a.count('c'))\n",
    "print(a.count('a'))"
   ]
  },
  {
   "cell_type": "code",
   "execution_count": 44,
   "metadata": {},
   "outputs": [
    {
     "data": {
      "text/plain": [
       "['Muahmmad Ahmad', 'Qasim', 'Zia', ['Tayyab', 'Usman']]"
      ]
     },
     "execution_count": 44,
     "metadata": {},
     "output_type": "execute_result"
    }
   ],
   "source": [
    "# extend\n",
    "\n",
    "names : list[str] = [\"Muahmmad Ahmad\" , \"Qasim\" , \"Zia\"]\n",
    "\n",
    "new_faculty_members : list[str] = [\"Tayyab\" , \"Usman\"]\n",
    "\n",
    "names.append(new_faculty_members)\n",
    "\n",
    "names"
   ]
  },
  {
   "cell_type": "code",
   "execution_count": 45,
   "metadata": {},
   "outputs": [
    {
     "data": {
      "text/plain": [
       "['Muahmmad Ahmad', 'Qasim', 'Zia', 'Tayyab', 'Usman']"
      ]
     },
     "execution_count": 45,
     "metadata": {},
     "output_type": "execute_result"
    }
   ],
   "source": [
    "# extend\n",
    "\n",
    "names : list[str] = [\"Muahmmad Ahmad\" , \"Qasim\" , \"Zia\"]\n",
    "\n",
    "new_faculty_members : list[str] = [\"Tayyab\" , \"Usman\"]\n",
    "\n",
    "names.extend(new_faculty_members)\n",
    "\n",
    "names"
   ]
  },
  {
   "cell_type": "code",
   "execution_count": 46,
   "metadata": {},
   "outputs": [
    {
     "data": {
      "text/plain": [
       "['Muahmmad Ahmad', 'Qasim', 'Zia', 'Usman']"
      ]
     },
     "execution_count": 46,
     "metadata": {},
     "output_type": "execute_result"
    }
   ],
   "source": [
    "names : list[str] = ['Muahmmad Ahmad', 'Qasim', 'Zia', 'Tayyab', 'Usman']\n",
    "\n",
    "names.remove(\"Tayyab\")  # remove with a text\n",
    "\n",
    "names"
   ]
  },
  {
   "cell_type": "code",
   "execution_count": 48,
   "metadata": {},
   "outputs": [
    {
     "data": {
      "text/plain": [
       "3"
      ]
     },
     "execution_count": 48,
     "metadata": {},
     "output_type": "execute_result"
    }
   ],
   "source": [
    "names : list[str] = ['Muahmmad Ahmad', 'Qasim', 'Zia', 'Tayyab', 'Usman']\n",
    "names.index(\"Tayyab\")\n"
   ]
  },
  {
   "cell_type": "code",
   "execution_count": 49,
   "metadata": {},
   "outputs": [
    {
     "name": "stdout",
     "output_type": "stream",
     "text": [
      "['Muahmmad Ahmad', 'Qasim', 'Zia', 'Tayyab', 'Usman']\n",
      "['Usman', 'Tayyab', 'Zia', 'Qasim', 'Muahmmad Ahmad']\n"
     ]
    }
   ],
   "source": [
    "# reverse\n",
    "\n",
    "names : list[str] = ['Muahmmad Ahmad', 'Qasim', 'Zia', 'Tayyab', 'Usman']\n",
    "print(names)\n",
    "names.reverse()    # in-memory = change in real data\n",
    "print(names)"
   ]
  },
  {
   "cell_type": "code",
   "execution_count": 50,
   "metadata": {},
   "outputs": [
    {
     "name": "stdout",
     "output_type": "stream",
     "text": [
      "['Muahmmad Ahmad', 'Qasim', 'Zia', 'Tayyab', 'Usman']\n",
      "['Muahmmad Ahmad', 'Qasim', 'Tayyab', 'Usman', 'Zia']\n"
     ]
    }
   ],
   "source": [
    "# sort\n",
    "names : list[str] = ['Muahmmad Ahmad', 'Qasim', 'Zia', 'Tayyab', 'Usman']\n",
    "print(names)\n",
    "names.sort() # in-memory = change in real data sort\n",
    "print(names)"
   ]
  }
 ],
 "metadata": {
  "kernelspec": {
   "display_name": "python12",
   "language": "python",
   "name": "python3"
  },
  "language_info": {
   "codemirror_mode": {
    "name": "ipython",
    "version": 3
   },
   "file_extension": ".py",
   "mimetype": "text/x-python",
   "name": "python",
   "nbconvert_exporter": "python",
   "pygments_lexer": "ipython3",
   "version": "3.12.0"
  }
 },
 "nbformat": 4,
 "nbformat_minor": 2
}
