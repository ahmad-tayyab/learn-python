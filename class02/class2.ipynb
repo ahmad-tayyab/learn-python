{
 "cells": [
  {
   "cell_type": "markdown",
   "metadata": {},
   "source": [
    "# String Data type in Python"
   ]
  },
  {
   "cell_type": "code",
   "execution_count": 27,
   "metadata": {},
   "outputs": [
    {
     "ename": "SyntaxError",
     "evalue": "unterminated string literal (detected at line 1) (158095321.py, line 1)",
     "output_type": "error",
     "traceback": [
      "\u001b[1;36m  Cell \u001b[1;32mIn[27], line 1\u001b[1;36m\u001b[0m\n\u001b[1;33m    message : str = 'PIAIC student card \\n father's name'\u001b[0m\n\u001b[1;37m                                                        ^\u001b[0m\n\u001b[1;31mSyntaxError\u001b[0m\u001b[1;31m:\u001b[0m unterminated string literal (detected at line 1)\n"
     ]
    }
   ],
   "source": [
    "message : str = 'PIAIC student card \\n father's name'\n",
    "print(message)"
   ]
  },
  {
   "cell_type": "code",
   "execution_count": null,
   "metadata": {},
   "outputs": [
    {
     "name": "stdout",
     "output_type": "stream",
     "text": [
      "PIAIC student card \n",
      " father's name\n"
     ]
    }
   ],
   "source": [
    "message : str = \"PIAIC student card \\n father's name\"\n",
    "print(message)"
   ]
  },
  {
   "cell_type": "code",
   "execution_count": null,
   "metadata": {},
   "outputs": [
    {
     "name": "stdout",
     "output_type": "stream",
     "text": [
      "PIAIC \"student card\" \n",
      " father name\n"
     ]
    }
   ],
   "source": [
    "message : str = 'PIAIC \"student card\" \\n father name'\n",
    "print(message)"
   ]
  },
  {
   "cell_type": "code",
   "execution_count": null,
   "metadata": {},
   "outputs": [
    {
     "name": "stdout",
     "output_type": "stream",
     "text": [
      "PIAIC student card \n",
      "Father's name\n"
     ]
    }
   ],
   "source": [
    "# convert any special character into simple character, place \\ before character\n",
    "message : str = 'PIAIC student card \\nFather\\'s name'\n",
    "print(message)"
   ]
  },
  {
   "cell_type": "code",
   "execution_count": null,
   "metadata": {},
   "outputs": [
    {
     "data": {
      "text/plain": [
       "'abc'"
      ]
     },
     "execution_count": 17,
     "metadata": {},
     "output_type": "execute_result"
    }
   ],
   "source": [
    "\"a\" + \"b\" + \"c\""
   ]
  },
  {
   "cell_type": "code",
   "execution_count": null,
   "metadata": {},
   "outputs": [
    {
     "ename": "TypeError",
     "evalue": "can only concatenate str (not \"int\") to str",
     "output_type": "error",
     "traceback": [
      "\u001b[1;31m---------------------------------------------------------------------------\u001b[0m",
      "\u001b[1;31mTypeError\u001b[0m                                 Traceback (most recent call last)",
      "\u001b[1;32mc:\\Users\\Ahmad\\Desktop\\class02\\class2.ipynb Cell 7\u001b[0m line \u001b[0;36m1\n\u001b[1;32m----> <a href='vscode-notebook-cell:/c%3A/Users/Ahmad/Desktop/class02/class2.ipynb#X13sZmlsZQ%3D%3D?line=0'>1</a>\u001b[0m \u001b[39m\"\u001b[39;49m\u001b[39ma\u001b[39;49m\u001b[39m\"\u001b[39;49m \u001b[39m+\u001b[39;49m \u001b[39m7\u001b[39;49m\n",
      "\u001b[1;31mTypeError\u001b[0m: can only concatenate str (not \"int\") to str"
     ]
    }
   ],
   "source": [
    "\"a\" + 7"
   ]
  },
  {
   "cell_type": "code",
   "execution_count": 28,
   "metadata": {},
   "outputs": [
    {
     "data": {
      "text/plain": [
       "'a7'"
      ]
     },
     "execution_count": 28,
     "metadata": {},
     "output_type": "execute_result"
    }
   ],
   "source": [
    "\"a\" + str(7)"
   ]
  },
  {
   "cell_type": "code",
   "execution_count": 32,
   "metadata": {},
   "outputs": [
    {
     "name": "stdout",
     "output_type": "stream",
     "text": [
      "<class 'str'>\n",
      "PIAIC Student Card\n",
      "Student Name: Muhammad Ahmad\n",
      "Age:\n",
      "26\n"
     ]
    }
   ],
   "source": [
    "#boundries\n",
    "#'string text' , \"string text\" , '''string text''',\"\"\"string text\"\"\"\n",
    "#`string text` using backticks\n",
    "name : str = \"Muhammad Ahmad\"\n",
    "fname : str = \"Muhammad Ali\"\n",
    "education :str = \"master in mathematics\"\n",
    "age : int = 26\n",
    "\n",
    "card : str = \"PIAIC Student Card\\nStudent Name: \" + name +\\\n",
    "      \"\\nAge:\" + \"\\n\" + str(age)\n",
    "print(type(name))\n",
    "print(card)"
   ]
  },
  {
   "cell_type": "code",
   "execution_count": 13,
   "metadata": {},
   "outputs": [
    {
     "name": "stdout",
     "output_type": "stream",
     "text": [
      "<class 'str'>\n",
      "Muhammad Ahmad\n"
     ]
    }
   ],
   "source": [
    "#using 'string text'\n",
    "name : str = 'Muhammad Ahmad'\n",
    "print(type(name))\n",
    "print(name)"
   ]
  },
  {
   "cell_type": "markdown",
   "metadata": {},
   "source": [
    "# \"\\ \" line continue\n",
    "\n",
    "it is used to continue same line in the next line\n"
   ]
  },
  {
   "cell_type": "code",
   "execution_count": 29,
   "metadata": {},
   "outputs": [
    {
     "name": "stdout",
     "output_type": "stream",
     "text": [
      "17\n"
     ]
    }
   ],
   "source": [
    "print(7 + 8 + 2)"
   ]
  },
  {
   "cell_type": "code",
   "execution_count": 30,
   "metadata": {},
   "outputs": [
    {
     "name": "stdout",
     "output_type": "stream",
     "text": [
      "17\n"
     ]
    }
   ],
   "source": [
    "print(7 + \\\n",
    "      + 8 \\\n",
    "        + 2)"
   ]
  },
  {
   "cell_type": "markdown",
   "metadata": {},
   "source": [
    "# Define multiline string \"\"\" \"\"\", ''' '''\n",
    "\n",
    "we know our code will be massie if we add \"\\\" to break the line to organize our code. To overcome this problem we use multiline string"
   ]
  },
  {
   "cell_type": "code",
   "execution_count": 34,
   "metadata": {},
   "outputs": [
    {
     "name": "stdout",
     "output_type": "stream",
     "text": [
      " \n",
      "PIAIC Student Card\n",
      "Student Name : ....\n",
      "Father's Name : ....\n",
      "Age : ....\n",
      "Education : ....\n",
      "\n"
     ]
    }
   ],
   "source": [
    "name : str = \"Muhammad Ahmad\"\n",
    "fname : str = \"Muhammad Ali\"\n",
    "education :str = \"Master in mathematics\"\n",
    "age : int = 26\n",
    "\n",
    "card : str = \"\"\" \n",
    "PIAIC Student Card\n",
    "Student Name : \n",
    "Father's Name : \n",
    "Age : \n",
    "Education : \n",
    "\"\"\"\n",
    "\n",
    "\n",
    "\n",
    "print(card)"
   ]
  },
  {
   "cell_type": "markdown",
   "metadata": {},
   "source": [
    "# F string\n",
    "\n",
    "In fstring we dont need to do concatenation or using str(7) to change number into string and we always use after = sign\n",
    "\n",
    "note: we can't use backticks here "
   ]
  },
  {
   "cell_type": "code",
   "execution_count": 35,
   "metadata": {},
   "outputs": [
    {
     "name": "stdout",
     "output_type": "stream",
     "text": [
      " \n",
      "PIAIC Student Card\n",
      "Student Name : Muhammad Ahmad\n",
      "Father's Name : Muhammad Ali\n",
      "Age : 26\n",
      "Education : Master in mathematics\n",
      "\n"
     ]
    }
   ],
   "source": [
    "name : str = \"Muhammad Ahmad\"\n",
    "fname : str = \"Muhammad Ali\"\n",
    "education :str = \"Master in Mathematics\"\n",
    "age : int = 26\n",
    "\n",
    "card : str = f\"\"\" \n",
    "PIAIC Student Card\n",
    "Student Name : {name}\n",
    "Father's Name : {fname}\n",
    "Age : {age}\n",
    "Education : {education}\n",
    "\"\"\"\n",
    "\n",
    "\n",
    "\n",
    "print(card)"
   ]
  },
  {
   "cell_type": "code",
   "execution_count": 37,
   "metadata": {},
   "outputs": [
    {
     "name": "stdout",
     "output_type": "stream",
     "text": [
      " \n",
      "PIAIC Student Card\n",
      "Student Name : Muhammad Ahmad\n",
      "Father's Name : Muhammad Ali\n",
      "Age : 26\n",
      "Education : Master in Mathematics\n",
      "\n",
      "\n",
      "total 12\n",
      "\n"
     ]
    }
   ],
   "source": [
    "# we can perform any task inside multiline string\n",
    "\n",
    "name : str = \"Muhammad Ahmad\"\n",
    "fname : str = \"Muhammad Ali\"\n",
    "education :str = \"Master in Mathematics\"\n",
    "age : int = 26\n",
    "\n",
    "card : str = f\"\"\" \n",
    "PIAIC Student Card\n",
    "Student Name : {name}\n",
    "Father's Name : {fname}\n",
    "Age : {age}\n",
    "Education : {education}\n",
    "\n",
    "\n",
    "total {2 + 4 + 6}\n",
    "\"\"\"\n",
    "\n",
    "\n",
    "\n",
    "print(card)"
   ]
  },
  {
   "cell_type": "markdown",
   "metadata": {},
   "source": [
    "# F-String and Jija style"
   ]
  },
  {
   "cell_type": "code",
   "execution_count": 38,
   "metadata": {},
   "outputs": [
    {
     "data": {
      "text/plain": [
       "'\\nstudent name Muhammad Ahmad\\n\\n'"
      ]
     },
     "execution_count": 38,
     "metadata": {},
     "output_type": "execute_result"
    }
   ],
   "source": [
    "f\"\"\"\n",
    "student name {name}\n",
    "\n",
    "\"\"\""
   ]
  },
  {
   "cell_type": "code",
   "execution_count": null,
   "metadata": {},
   "outputs": [],
   "source": [
    "# Jinja Style\n",
    "\"\"\"\n",
    "student name {{name}}\n",
    "\n",
    "\"\"\""
   ]
  },
  {
   "cell_type": "code",
   "execution_count": 41,
   "metadata": {},
   "outputs": [
    {
     "name": "stdout",
     "output_type": "stream",
     "text": [
      " \n",
      "PIAIC Student Card\n",
      "Student Name : Muhammad Ahmad\n",
      "Father's Name : Muhammad Ali \n",
      "Age : 26\n",
      "Education : Master in Mathematics \n",
      "\n"
     ]
    }
   ],
   "source": [
    "#ANOTHER METHOD FOR TYPECASTING %S FOR STRING %D FOR INTEGER \n",
    "# we use this type of casting in css language\n",
    "\n",
    "name : str = \"Muhammad Ahmad\"\n",
    "fname : str = \"Muhammad Ali\"\n",
    "education :str = \"Master in Mathematics\"\n",
    "age : int = 26\n",
    "\n",
    "\n",
    "card : str = f\"\"\" \n",
    "PIAIC Student Card\n",
    "Student Name : %s\n",
    "Father's Name : %s \n",
    "Age : %d\n",
    "Education : %s \n",
    "\"\"\"  % (name , fname, age, education)\n",
    "\n",
    "print(card)"
   ]
  },
  {
   "cell_type": "code",
   "execution_count": 42,
   "metadata": {},
   "outputs": [
    {
     "data": {
      "text/plain": [
       "['__add__',\n",
       " '__class__',\n",
       " '__contains__',\n",
       " '__delattr__',\n",
       " '__dir__',\n",
       " '__doc__',\n",
       " '__eq__',\n",
       " '__format__',\n",
       " '__ge__',\n",
       " '__getattribute__',\n",
       " '__getitem__',\n",
       " '__getnewargs__',\n",
       " '__getstate__',\n",
       " '__gt__',\n",
       " '__hash__',\n",
       " '__init__',\n",
       " '__init_subclass__',\n",
       " '__iter__',\n",
       " '__le__',\n",
       " '__len__',\n",
       " '__lt__',\n",
       " '__mod__',\n",
       " '__mul__',\n",
       " '__ne__',\n",
       " '__new__',\n",
       " '__reduce__',\n",
       " '__reduce_ex__',\n",
       " '__repr__',\n",
       " '__rmod__',\n",
       " '__rmul__',\n",
       " '__setattr__',\n",
       " '__sizeof__',\n",
       " '__str__',\n",
       " '__subclasshook__']"
      ]
     },
     "execution_count": 42,
     "metadata": {},
     "output_type": "execute_result"
    }
   ],
   "source": [
    "[i for i in dir(str) if \"__\" in i]"
   ]
  },
  {
   "cell_type": "code",
   "execution_count": 43,
   "metadata": {},
   "outputs": [
    {
     "name": "stdout",
     "output_type": "stream",
     "text": [
      "Muhammad ahmad\n",
      "muhammad ahmad\n"
     ]
    }
   ],
   "source": [
    "name : str = \"MuHamMad AhMAd\"\n",
    "print(name.capitalize())\n",
    "print(name.casefold())"
   ]
  },
  {
   "cell_type": "code",
   "execution_count": 45,
   "metadata": {},
   "outputs": [
    {
     "data": {
      "text/plain": [
       "'Pakistan value a = 7 and value b = 6'"
      ]
     },
     "execution_count": 45,
     "metadata": {},
     "output_type": "execute_result"
    }
   ],
   "source": [
    "a = 7\n",
    "b = 6\n",
    "\n",
    "# {} place holder\n",
    "\"Pakistan value a = {} and value b = {}\".format(a,b)"
   ]
  },
  {
   "cell_type": "code",
   "execution_count": 48,
   "metadata": {},
   "outputs": [
    {
     "name": "stdout",
     "output_type": "stream",
     "text": [
      " \n",
      "PIAIC Student Card\n",
      "Student Name : Muhammad Ahmad\n",
      "Father's Name : Muhammad Ali\n",
      "Age : 26\n",
      "Education : Master in Mathematics\n",
      "\n"
     ]
    }
   ],
   "source": [
    "# we can use placeholder instead f-string but the indexes changes the values\n",
    "\n",
    "name : str = \"Muhammad Ahmad\"\n",
    "fname : str = \"Muhammad Ali\"\n",
    "education :str = \"Master in Mathematics\"\n",
    "age : int = 26\n",
    "\n",
    "card : str = \"\"\" \n",
    "PIAIC Student Card\n",
    "Student Name : {}\n",
    "Father's Name : {}\n",
    "Age : {}\n",
    "Education : {}\n",
    "\"\"\".format(fname, name, education, age)\n",
    "\n",
    "\n",
    "\n",
    "print(card)"
   ]
  },
  {
   "cell_type": "code",
   "execution_count": 50,
   "metadata": {},
   "outputs": [
    {
     "name": "stdout",
     "output_type": "stream",
     "text": [
      " \n",
      "PIAIC Student Card\n",
      "Student Name : Muhammad Ahmad\n",
      "Father's Name : Muhammad Ali\n",
      "Age : 26\n",
      "Education : Master in Mathematics\n",
      "\n"
     ]
    }
   ],
   "source": [
    "# here we can give index number inside placeholder \n",
    "\n",
    "name : str = \"Muhammad Ahmad\"\n",
    "fname : str = \"Muhammad Ali\"\n",
    "education :str = \"Master in Mathematics\"\n",
    "age : int = 26\n",
    "\n",
    "card : str = \"\"\" \n",
    "PIAIC Student Card\n",
    "Student Name : {1}\n",
    "Father's Name : {0}\n",
    "Age : {3}\n",
    "Education : {2}\n",
    "\"\"\".format(fname, name, education, age)\n",
    "\n",
    "\n",
    "\n",
    "print(card)"
   ]
  },
  {
   "cell_type": "code",
   "execution_count": 52,
   "metadata": {},
   "outputs": [
    {
     "name": "stdout",
     "output_type": "stream",
     "text": [
      " \n",
      "PIAIC Student Card\n",
      "Student Name : Muhammad Ahmad\n",
      "Father's Name : Muhammad Ali\n",
      "Age : Master in Mathematics\n",
      "Education : 26\n",
      "\n"
     ]
    }
   ],
   "source": [
    "\n",
    "\n",
    "name : str = \"Muhammad Ahmad\"\n",
    "fname : str = \"Muhammad Ali\"\n",
    "education :str = \"Master in Mathematics\"\n",
    "age : int = 26\n",
    "\n",
    "card : str = \"\"\" \n",
    "PIAIC Student Card\n",
    "Student Name : {a}\n",
    "Father's Name : {b}\n",
    "Age : {c}\n",
    "Education : {d}\n",
    "\"\"\".format(b=fname, a=name, c=education, d=age)\n",
    "\n",
    "\n",
    "\n",
    "print(card)"
   ]
  },
  {
   "cell_type": "code",
   "execution_count": 54,
   "metadata": {},
   "outputs": [
    {
     "name": "stdout",
     "output_type": "stream",
     "text": [
      "MUhammad Ahmad\n",
      "14\n"
     ]
    }
   ],
   "source": [
    "student_code : str = \"\"\"\n",
    "print(\"MUhammad Ahmad\")\n",
    "a:int = 7\n",
    "b:int = 7\n",
    "print(a+b)\n",
    "\n",
    "\n",
    "\n",
    "\"\"\"\n",
    "exec(student_code)"
   ]
  },
  {
   "cell_type": "markdown",
   "metadata": {},
   "source": [
    "# Explore String Methods and attributes\n",
    "\n",
    "pre-define global function we have\n",
    "* print\n",
    "* type\n",
    "* dir\n",
    "* id\n",
    "* len"
   ]
  },
  {
   "cell_type": "code",
   "execution_count": 55,
   "metadata": {},
   "outputs": [
    {
     "name": "stdout",
     "output_type": "stream",
     "text": [
      "['__add__', '__class__', '__contains__', '__delattr__', '__dir__', '__doc__', '__eq__', '__format__', '__ge__', '__getattribute__', '__getitem__', '__getnewargs__', '__getstate__', '__gt__', '__hash__', '__init__', '__init_subclass__', '__iter__', '__le__', '__len__', '__lt__', '__mod__', '__mul__', '__ne__', '__new__', '__reduce__', '__reduce_ex__', '__repr__', '__rmod__', '__rmul__', '__setattr__', '__sizeof__', '__str__', '__subclasshook__']\n",
      "34\n"
     ]
    }
   ],
   "source": [
    "a: list[str] = [i for i in dir(str) if \"__\" in i]\n",
    "print(a)\n",
    "print(len(a))"
   ]
  },
  {
   "cell_type": "code",
   "execution_count": null,
   "metadata": {},
   "outputs": [],
   "source": [
    "name : str = \"MUhAMmad AhmAD\"\n",
    "print(name.capitalize())"
   ]
  },
  {
   "cell_type": "code",
   "execution_count": null,
   "metadata": {},
   "outputs": [],
   "source": [
    "name : str = \"MUhAMmad AhmAD\"\n",
    "print(name)\n",
    "print(name.casefold)"
   ]
  },
  {
   "cell_type": "code",
   "execution_count": 58,
   "metadata": {},
   "outputs": [
    {
     "data": {
      "text/plain": [
       "'                  MUhAMmad AhmAD                    '"
      ]
     },
     "metadata": {},
     "output_type": "display_data"
    },
    {
     "data": {
      "text/plain": [
       "'MUhAMmad AhmAD                    '"
      ]
     },
     "metadata": {},
     "output_type": "display_data"
    }
   ],
   "source": [
    "name : str = \"                  MUhAMmad AhmAD                    \"\n",
    "display(name)\n",
    "display(name.lstrip())"
   ]
  },
  {
   "cell_type": "code",
   "execution_count": 59,
   "metadata": {},
   "outputs": [
    {
     "data": {
      "text/plain": [
       "'                  MUhAMmad AhmAD                    '"
      ]
     },
     "metadata": {},
     "output_type": "display_data"
    },
    {
     "data": {
      "text/plain": [
       "'                  MUhAMmad AhmAD'"
      ]
     },
     "metadata": {},
     "output_type": "display_data"
    }
   ],
   "source": [
    "name : str = \"                  MUhAMmad AhmAD                    \"\n",
    "display(name)\n",
    "display(name.rstrip())"
   ]
  },
  {
   "cell_type": "code",
   "execution_count": 61,
   "metadata": {},
   "outputs": [
    {
     "data": {
      "text/plain": [
       "'                  MUhAMmad        AhmAD                    '"
      ]
     },
     "metadata": {},
     "output_type": "display_data"
    },
    {
     "data": {
      "text/plain": [
       "'MUhAMmad        AhmAD'"
      ]
     },
     "metadata": {},
     "output_type": "display_data"
    }
   ],
   "source": [
    "name : str = \"                  MUhAMmad        AhmAD                    \"\n",
    "display(name)\n",
    "display(name.strip())"
   ]
  },
  {
   "cell_type": "code",
   "execution_count": 69,
   "metadata": {},
   "outputs": [
    {
     "data": {
      "text/plain": [
       "'                  MUhAMmad            AhmAD                    '"
      ]
     },
     "metadata": {},
     "output_type": "display_data"
    },
    {
     "data": {
      "text/plain": [
       "'MUhAMmadAhmAD'"
      ]
     },
     "metadata": {},
     "output_type": "display_data"
    }
   ],
   "source": [
    "import re\n",
    "\n",
    "\n",
    "name : str = \"                  MUhAMmad            AhmAD                    \"\n",
    "display(name)\n",
    "name1 : str = re.sub('  {2,100}','', name).strip()\n",
    "\n",
    "display(name1)"
   ]
  },
  {
   "cell_type": "code",
   "execution_count": null,
   "metadata": {},
   "outputs": [],
   "source": [
    "\\n\n",
    "\\t \n",
    "\\b \n"
   ]
  },
  {
   "cell_type": "code",
   "execution_count": 70,
   "metadata": {},
   "outputs": [
    {
     "name": "stdout",
     "output_type": "stream",
     "text": [
      "Name:\t\t MUhammad Ahmad\n"
     ]
    }
   ],
   "source": [
    "print(\"Name:\\t\\t MUhammad Ahmad\")"
   ]
  },
  {
   "cell_type": "code",
   "execution_count": 72,
   "metadata": {},
   "outputs": [
    {
     "name": "stdout",
     "output_type": "stream",
     "text": [
      "Name:\n",
      "MUhammad Ahmad\n"
     ]
    }
   ],
   "source": [
    "print(\"Name:\\nMUhammad Ahmad\")"
   ]
  },
  {
   "cell_type": "code",
   "execution_count": 75,
   "metadata": {},
   "outputs": [
    {
     "name": "stdout",
     "output_type": "stream",
     "text": [
      "Name MUhammad Ahmad\n"
     ]
    }
   ],
   "source": [
    "print(\"Name:\\b MUhammad Ahmad\")"
   ]
  },
  {
   "cell_type": "code",
   "execution_count": 76,
   "metadata": {},
   "outputs": [
    {
     "data": {
      "text/plain": [
       "'nostarch.com'"
      ]
     },
     "execution_count": 76,
     "metadata": {},
     "output_type": "execute_result"
    }
   ],
   "source": [
    "nostarch_url : str = \"https://nostarch.com\"\n",
    "nostarch_url.removeprefix(\"https://\")"
   ]
  },
  {
   "cell_type": "code",
   "execution_count": 77,
   "metadata": {},
   "outputs": [
    {
     "name": "stdout",
     "output_type": "stream",
     "text": [
      "Muhammad Ahmad\n"
     ]
    }
   ],
   "source": [
    "piaic_student_name : str = \"Muhammad Ahmad\"\n",
    "print(piaic_student_name)"
   ]
  }
 ],
 "metadata": {
  "kernelspec": {
   "display_name": "python12",
   "language": "python",
   "name": "python3"
  },
  "language_info": {
   "codemirror_mode": {
    "name": "ipython",
    "version": 3
   },
   "file_extension": ".py",
   "mimetype": "text/x-python",
   "name": "python",
   "nbconvert_exporter": "python",
   "pygments_lexer": "ipython3",
   "version": "3.12.0"
  }
 },
 "nbformat": 4,
 "nbformat_minor": 2
}
