{
 "cells": [
  {
   "cell_type": "code",
   "execution_count": 21,
   "metadata": {},
   "outputs": [],
   "source": [
    "def obj1_speak(): pass\n",
    "def obj2_speak(): pass\n",
    "\n",
    "\n",
    "obj1_name : str = \"Zia\"\n",
    "obj2_name : str = \"qasim\""
   ]
  },
  {
   "cell_type": "markdown",
   "metadata": {},
   "source": [
    "## OOP (Object Oriented Programming)\n",
    "* Class\n",
    "    * method\n",
    "        * first argument must be additional variable (self, this , or anything else)\n",
    "    * attribute\n",
    "        * connect with individual object\n",
    "    * class variables\n",
    "    * constructor\n",
    "        * def ```__intit__(self, arg1,arg2)``` \n",
    "    * Class variable\n",
    "        * this value use for all objects\n",
    "            * \"ClassName.class_variable\"\n",
    "        * ```class ClassName():\n",
    "            class_variable1 : type = value\n",
    "            ```\n",
    "\n",
    "## Syntax of class\n",
    "```\n",
    "class ClassName():\n",
    "    pass\n",
    "```"
   ]
  },
  {
   "cell_type": "code",
   "execution_count": 22,
   "metadata": {},
   "outputs": [],
   "source": [
    "class Teacher():\n",
    "    def __init__(self, teacher_id:int,teacher_name:str) -> None: # method/constructor\n",
    "        self.name: str = teacher_name\n",
    "        self.teacher_id = teacher_id\n",
    "        self.organization_name = \"PIAIC\"\n",
    "\n",
    "\n",
    "\n",
    "    def speak(self,words:str): # method\n",
    "        print(f\"{self.name} is speaking {words}\")\n",
    "\n",
    "\n",
    "    def teaching(self,subject:str)->None: # method\n",
    "        print(f\"{self.name} is teaching {subject}\")\n",
    "\n",
    "\n",
    "\n",
    "\n",
    "\n"
   ]
  },
  {
   "cell_type": "code",
   "execution_count": 23,
   "metadata": {},
   "outputs": [],
   "source": [
    "obj1 : Teacher = Teacher(1,\"Qasim\")\n",
    "obj2 : Teacher = Teacher(2,\"Zia\")"
   ]
  },
  {
   "cell_type": "code",
   "execution_count": 24,
   "metadata": {},
   "outputs": [
    {
     "data": {
      "text/plain": [
       "['__class__',\n",
       " '__delattr__',\n",
       " '__dict__',\n",
       " '__dir__',\n",
       " '__doc__',\n",
       " '__eq__',\n",
       " '__format__',\n",
       " '__ge__',\n",
       " '__getattribute__',\n",
       " '__getstate__',\n",
       " '__gt__',\n",
       " '__hash__',\n",
       " '__init__',\n",
       " '__init_subclass__',\n",
       " '__le__',\n",
       " '__lt__',\n",
       " '__module__',\n",
       " '__ne__',\n",
       " '__new__',\n",
       " '__reduce__',\n",
       " '__reduce_ex__',\n",
       " '__repr__',\n",
       " '__setattr__',\n",
       " '__sizeof__',\n",
       " '__str__',\n",
       " '__subclasshook__',\n",
       " '__weakref__',\n",
       " 'name',\n",
       " 'organization_name',\n",
       " 'speak',\n",
       " 'teacher_id',\n",
       " 'teaching']"
      ]
     },
     "execution_count": 24,
     "metadata": {},
     "output_type": "execute_result"
    }
   ],
   "source": [
    "dir(obj1)"
   ]
  },
  {
   "cell_type": "code",
   "execution_count": 25,
   "metadata": {},
   "outputs": [
    {
     "name": "stdout",
     "output_type": "stream",
     "text": [
      "Qasim\n",
      "1\n",
      "PIAIC\n",
      "Zia\n",
      "2\n",
      "PIAIC\n"
     ]
    }
   ],
   "source": [
    "print(obj1.name)\n",
    "print(obj1.teacher_id)\n",
    "print(obj1.organization_name)\n",
    "print(obj2.name)\n",
    "print(obj2.teacher_id)\n",
    "print(obj2.organization_name)"
   ]
  },
  {
   "cell_type": "code",
   "execution_count": 26,
   "metadata": {},
   "outputs": [
    {
     "name": "stdout",
     "output_type": "stream",
     "text": [
      "Qasim is teaching Deep Learning\n"
     ]
    }
   ],
   "source": [
    "obj1.teaching(\"Deep Learning\")"
   ]
  },
  {
   "cell_type": "code",
   "execution_count": 27,
   "metadata": {},
   "outputs": [
    {
     "name": "stdout",
     "output_type": "stream",
     "text": [
      "Zia is teaching AI\n"
     ]
    }
   ],
   "source": [
    "obj2.teaching(\"AI\")"
   ]
  },
  {
   "cell_type": "markdown",
   "metadata": {},
   "source": [
    "## Class Variable\n",
    "\n",
    "* Class variable\n",
    "* this value use for all objects\n",
    "    * `ClassName.class_variable`\n",
    "    * `object_name.class_variable`\n",
    "\n",
    "```\n",
    "class ClassName():\n",
    "    class_variable1 : type = Value\n",
    "```"
   ]
  },
  {
   "cell_type": "code",
   "execution_count": 35,
   "metadata": {},
   "outputs": [
    {
     "name": "stdout",
     "output_type": "stream",
     "text": [
      "1 1\n"
     ]
    }
   ],
   "source": [
    "class Teacher():\n",
    "    counter: int = 0 # class variable1\n",
    "    help_line_number : str = \"03046629964\" # class variable 2\n",
    "\n",
    "    def __init__(self, teacher_id:int,teacher_name:str) -> None: # method/constructor\n",
    "        self.name: str = teacher_name\n",
    "        self.teacher_id = teacher_id\n",
    "        self.organization_name = \"PIAIC\"\n",
    "        Teacher.counter += 1\n",
    "\n",
    "\n",
    "\n",
    "    def speak(self,words:str): # method\n",
    "        print(f\"{self.name} is speaking {words}\")\n",
    "\n",
    "\n",
    "    def teaching(self,subject:str)->None: # method\n",
    "        print(f\"{self.name} is teaching {subject}\")\n",
    "    \n",
    "    def details(self)->None:\n",
    "        information: str = f\"\"\"\n",
    "teacher name is {self.name} \n",
    "our help line number is {Teacher.help_line_number}\n",
    "\n",
    " \"\"\"\n",
    "        print(information)\n",
    "\n",
    "\n",
    "\n",
    "obj1 : Teacher = Teacher(1,\"Qasim\")\n",
    "\n",
    "print(Teacher.counter, obj1.counter)"
   ]
  },
  {
   "cell_type": "code",
   "execution_count": 36,
   "metadata": {},
   "outputs": [
    {
     "name": "stdout",
     "output_type": "stream",
     "text": [
      "2 2\n"
     ]
    }
   ],
   "source": [
    "obj2 : Teacher = Teacher(2,\"Zia\")\n",
    "\n",
    "print(Teacher.counter,obj2.counter)"
   ]
  },
  {
   "cell_type": "code",
   "execution_count": 37,
   "metadata": {},
   "outputs": [
    {
     "name": "stdout",
     "output_type": "stream",
     "text": [
      "2\n",
      "2\n",
      "2\n",
      "03046629964\n",
      "03046629964\n",
      "03046629964\n"
     ]
    }
   ],
   "source": [
    "print(obj1.counter)\n",
    "print(obj2.counter)\n",
    "print(Teacher.counter)\n",
    "\n",
    "print(obj1.help_line_number)\n",
    "print(obj2.help_line_number)\n",
    "print(Teacher.help_line_number)"
   ]
  },
  {
   "cell_type": "code",
   "execution_count": 34,
   "metadata": {},
   "outputs": [
    {
     "name": "stdout",
     "output_type": "stream",
     "text": [
      "\n",
      "teacher name is Qasim \n",
      "our help line number is 03046629964\n",
      "\n",
      " \n"
     ]
    }
   ],
   "source": [
    "obj1.details()"
   ]
  },
  {
   "cell_type": "markdown",
   "metadata": {},
   "source": [
    "## 1. Inheritance\n",
    "\n",
    "\n",
    "```\n",
    "class ChildClass(ParentClass):\n",
    "    pass\n",
    "```"
   ]
  },
  {
   "cell_type": "code",
   "execution_count": 41,
   "metadata": {},
   "outputs": [
    {
     "name": "stdout",
     "output_type": "stream",
     "text": [
      "Brown\n",
      "Black\n",
      "parent method speak: {words}\n",
      "you are looking Viking\n",
      "Black\n",
      "Brown\n",
      "you are looking Dilemma\n",
      "parent method speak: {words}\n"
     ]
    }
   ],
   "source": [
    "class Parents():\n",
    "    def __init__(self) -> None:\n",
    "        self.eye_colour = \"Brown\"\n",
    "        self.hair_colour:str = \"Black\"\n",
    "\n",
    "    def speak(self,words:str)->None:\n",
    "        print(\"parent method speak: {words}\")\n",
    "\n",
    "    def watching(self, object_name : str)->None:\n",
    "        print(f\"you are looking {object_name}\")\n",
    "\n",
    "\n",
    "\n",
    "class Child(Parents):\n",
    "    pass\n",
    "\n",
    "\n",
    "obj1 : Parents = Parents()\n",
    "print(obj1.eye_colour)\n",
    "print(obj1.hair_colour)\n",
    "obj1.speak(\"Pakistan zindabad\")\n",
    "obj1.watching(\"Viking\")\n",
    "\n",
    "\n",
    "\n",
    "### Child Object\n",
    "\n",
    "\n",
    "obj2 : Child = Child()\n",
    "print(obj2.hair_colour)\n",
    "print(obj2.eye_colour)\n",
    "obj2.watching(\"Dilemma\")\n",
    "obj2.speak(\"How are YOU?\")"
   ]
  },
  {
   "cell_type": "code",
   "execution_count": 42,
   "metadata": {},
   "outputs": [
    {
     "name": "stdout",
     "output_type": "stream",
     "text": [
      "Brown\n",
      "Black\n",
      "parent method speak: {words}\n",
      "you are looking Viking\n",
      "Black\n",
      "Brown\n",
      "you are looking Dilemma\n",
      "parent method speak: {words}\n",
      "Child method for teaching: Generative AI\n"
     ]
    }
   ],
   "source": [
    "class Parents():\n",
    "    def __init__(self) -> None:\n",
    "        self.eye_colour = \"Brown\"\n",
    "        self.hair_colour:str = \"Black\"\n",
    "\n",
    "    def speak(self,words:str)->None:\n",
    "        print(\"parent method speak: {words}\")\n",
    "\n",
    "    def watching(self, object_name : str)->None:\n",
    "        print(f\"you are looking {object_name}\")\n",
    "\n",
    "\n",
    "\n",
    "class Child(Parents):\n",
    "    def teaching(self,subject:str = None)->None:\n",
    "        print(f\"Child method for teaching: {subject}\")\n",
    "\n",
    "\n",
    "obj1 : Parents = Parents()\n",
    "print(obj1.eye_colour)\n",
    "print(obj1.hair_colour)\n",
    "obj1.speak(\"Pakistan zindabad\")\n",
    "obj1.watching(\"Viking\")\n",
    "\n",
    "\n",
    "\n",
    "### Child Object\n",
    "\n",
    "\n",
    "obj2 : Child = Child()\n",
    "print(obj2.hair_colour)\n",
    "print(obj2.eye_colour)\n",
    "obj2.watching(\"Dilemma\")\n",
    "obj2.speak(\"How are YOU?\")\n",
    "obj2.teaching(\"Generative AI\")"
   ]
  },
  {
   "cell_type": "code",
   "execution_count": 44,
   "metadata": {},
   "outputs": [
    {
     "name": "stdout",
     "output_type": "stream",
     "text": [
      "Artist\n",
      "Python\n"
     ]
    }
   ],
   "source": [
    "class Employee():\n",
    "    def __init__(self) -> None:\n",
    "        self.name = None\n",
    "        self.education = None\n",
    "        self.department: str = \"\"\n",
    "\n",
    "\n",
    "class Design(Employee):\n",
    "    def __init__(self,title:str) -> None:\n",
    "        super().__init__()\n",
    "        self.title: str = title\n",
    "\n",
    "class Developer(Employee):\n",
    "    def __init__(self) -> None:\n",
    "        super().__init__()\n",
    "        self.programming_language : str = \"Python\"\n",
    "\n",
    "\n",
    "designee1 : Design = Design(\"Artist\")\n",
    "Develop : Developer = Developer()\n",
    "\n",
    "print(designee1.title)\n",
    "print(Develop.programming_language)"
   ]
  },
  {
   "cell_type": "markdown",
   "metadata": {},
   "source": [
    "## 1. Encapsulation\n",
    "Encapsulation: The bundling of data with the methods that operate on that data. It restricts direct access to some of an object's components and can prevent the accidental modification of data.\n",
    "\n",
    "## 2. Abstraction\n",
    "Abstraction: The concept of hiding the complex reality while exposing only the necessary parts. It helps to reduce programming complexity and effort.\n",
    "\n",
    "## 3. Inheritance\n",
    "Inheritance: A mechanism wherein a new class inherits properties and behavior (methods) from another class. This helps to create a new class based on an existing class.\n",
    "\n",
    "## 4. Polymorphism\n",
    "Polymorphism: The ability of different classes to respond to the same message (method call) in different ways. This allows for code to work with objects of various classes as if they were objects of a common superclass."
   ]
  },
  {
   "cell_type": "markdown",
   "metadata": {},
   "source": [
    "## At last we have created lucid chart of inheritance"
   ]
  }
 ],
 "metadata": {
  "kernelspec": {
   "display_name": "python12",
   "language": "python",
   "name": "python3"
  },
  "language_info": {
   "codemirror_mode": {
    "name": "ipython",
    "version": 3
   },
   "file_extension": ".py",
   "mimetype": "text/x-python",
   "name": "python",
   "nbconvert_exporter": "python",
   "pygments_lexer": "ipython3",
   "version": "3.12.0"
  }
 },
 "nbformat": 4,
 "nbformat_minor": 2
}
