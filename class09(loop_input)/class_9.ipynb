{
 "cells": [
  {
   "cell_type": "markdown",
   "metadata": {},
   "source": [
    "# Loop and input\n",
    "* while loop\n",
    "* for loop\n",
    "* controls\n",
    "    * break\n",
    "    * continue\n",
    "    * pass\n",
    "* input with input function\n",
    "* input from console\n",
    "\n",
    "\n",
    "# loop working on iterative data types\n",
    "* list\n",
    "* dictionary\n",
    "* string\n",
    "* tuple\n"
   ]
  },
  {
   "cell_type": "code",
   "execution_count": 1,
   "metadata": {},
   "outputs": [
    {
     "name": "stdout",
     "output_type": "stream",
     "text": [
      "[1, 2, 3, 4, 5, 6]\n"
     ]
    }
   ],
   "source": [
    "#                 0 1 2 3 4 5\n",
    "l1 : list[int] = [1,2,3,4,5,6]\n",
    "print(l1)"
   ]
  },
  {
   "cell_type": "code",
   "execution_count": 2,
   "metadata": {},
   "outputs": [
    {
     "name": "stdout",
     "output_type": "stream",
     "text": [
      "1\n",
      "2\n",
      "3\n",
      "4\n",
      "5\n",
      "6\n"
     ]
    }
   ],
   "source": [
    "# printing list one-by-one\n",
    "\n",
    "l1 : list[int] = [1,2,3,4,5,6]\n",
    "for n in l1:\n",
    "    print(n)"
   ]
  },
  {
   "cell_type": "code",
   "execution_count": 3,
   "metadata": {},
   "outputs": [
    {
     "name": "stdout",
     "output_type": "stream",
     "text": [
      "current number : 1\n",
      "current number : 2\n",
      "current number : 3\n",
      "current number : 4\n",
      "current number : 5\n",
      "current number : 6\n"
     ]
    }
   ],
   "source": [
    "l1 : list[int] = [1,2,3,4,5,6]\n",
    "for n in l1:\n",
    "    print(f\"current number : {n}\")"
   ]
  },
  {
   "cell_type": "code",
   "execution_count": 4,
   "metadata": {},
   "outputs": [
    {
     "name": "stdout",
     "output_type": "stream",
     "text": [
      "current number : 1\n",
      "current number : 2\n",
      "current number : 3\n",
      "current number : 4\n",
      "current number : 5\n",
      "current number : 6\n"
     ]
    }
   ],
   "source": [
    "l1 : tuple[int] = (1,2,3,4,5,6)\n",
    "for n in l1:\n",
    "    print(f\"current number : {n}\")"
   ]
  },
  {
   "cell_type": "code",
   "execution_count": 5,
   "metadata": {},
   "outputs": [
    {
     "name": "stdout",
     "output_type": "stream",
     "text": [
      "current character : P\n",
      "current character : a\n",
      "current character : k\n",
      "current character : i\n",
      "current character : s\n",
      "current character : t\n",
      "current character : a\n",
      "current character : n\n"
     ]
    }
   ],
   "source": [
    "l1 : str = \"Pakistan\"\n",
    "for c in l1:\n",
    "    print(f\"current character : {c}\")"
   ]
  },
  {
   "cell_type": "code",
   "execution_count": 6,
   "metadata": {},
   "outputs": [
    {
     "name": "stdout",
     "output_type": "stream",
     "text": [
      "dictionary keysname and value is qasim\n",
      "dictionary keysfname and value is Ali\n"
     ]
    }
   ],
   "source": [
    "from typing import Dict\n",
    "l1 : Dict[str,str] = {\"name\":\"qasim\",\"fname\":\"Ali\"}\n",
    "for k in l1:\n",
    "    print(f\"dictionary keys{k} and value is {l1[k]}\")"
   ]
  },
  {
   "cell_type": "code",
   "execution_count": 7,
   "metadata": {},
   "outputs": [
    {
     "name": "stdout",
     "output_type": "stream",
     "text": [
      "current number : 1\n",
      "current number : 2\n",
      "current number : 3\n",
      "current number : 4\n",
      "current number : 5\n",
      "current number : 6\n"
     ]
    }
   ],
   "source": [
    "l1 : set[int] = {1,1,2,3,4,5,2,3,4,5,6}\n",
    "for i in l1:\n",
    "    print(f\"current number : {i}\")"
   ]
  },
  {
   "cell_type": "markdown",
   "metadata": {},
   "source": [
    "# input from user\n",
    "* input function\n",
    "    * default type = string\n",
    "* sys.argv ( for console input in abc.py file)\n",
    "    * default type = object"
   ]
  },
  {
   "cell_type": "code",
   "execution_count": 8,
   "metadata": {},
   "outputs": [
    {
     "name": "stdout",
     "output_type": "stream",
     "text": [
      "<class 'str'>\n",
      "welcome dear user MR/MRs ahmad\n"
     ]
    }
   ],
   "source": [
    "name : str = input(\"What is your name? : \\t\")\n",
    "print(type(name))\n",
    "print(f\"welcome dear user MR/MRs {name}\")"
   ]
  },
  {
   "cell_type": "code",
   "execution_count": 9,
   "metadata": {},
   "outputs": [
    {
     "data": {
      "text/plain": [
       "<zip at 0x20e07a3f280>"
      ]
     },
     "execution_count": 9,
     "metadata": {},
     "output_type": "execute_result"
    }
   ],
   "source": [
    "name : list[str] = [\"a\",\"b\",\"c\"]\n",
    "fname : list[str] = [\"e\",\"f\",\"z\"]\n",
    "age : list[int] = [1,2,3]\n",
    "\n",
    "zip(name,fname,age)"
   ]
  },
  {
   "cell_type": "code",
   "execution_count": 10,
   "metadata": {},
   "outputs": [
    {
     "data": {
      "text/plain": [
       "[('a', 'e', 1), ('b', 'f', 2), ('c', 'z', 3)]"
      ]
     },
     "execution_count": 10,
     "metadata": {},
     "output_type": "execute_result"
    }
   ],
   "source": [
    "# how to iterate more than one list\n",
    "name : list[str] = [\"a\",\"b\",\"c\"]\n",
    "fname : list[str] = [\"e\",\"f\",\"z\"]\n",
    "age : list[int] = [1,2,3]\n",
    "\n",
    "list(zip(name,fname,age))"
   ]
  },
  {
   "cell_type": "code",
   "execution_count": 11,
   "metadata": {},
   "outputs": [
    {
     "name": "stdout",
     "output_type": "stream",
     "text": [
      "welcome dear a, s/o e!\n",
      "welcome dear b, s/o f!\n",
      "welcome dear c, s/o z!\n"
     ]
    }
   ],
   "source": [
    "# how to iterate more than one list\n",
    "name : list[str] = [\"a\",\"b\",\"c\"]\n",
    "fname : list[str] = [\"e\",\"f\",\"z\"]\n",
    "age : list[int] = [1,2,3]\n",
    "\n",
    "list(zip(name,fname,age))\n",
    "\n",
    "for name,fname,age in zip(name,fname,age):\n",
    "    print(f\"welcome dear {name}, s/o {fname}!\")"
   ]
  },
  {
   "cell_type": "markdown",
   "metadata": {},
   "source": [
    "# while loop\n",
    "```\n",
    "while logic: # True/false\n",
    "   lopp_body\n",
    "```"
   ]
  },
  {
   "cell_type": "code",
   "execution_count": 12,
   "metadata": {},
   "outputs": [
    {
     "name": "stdout",
     "output_type": "stream",
     "text": [
      "current number is : 1\n",
      "current number is : 2\n",
      "current number is : 3\n",
      "current number is : 4\n",
      "current number is : 5\n",
      "current number is : 6\n",
      "current number is : 7\n",
      "current number is : 8\n",
      "current number is : 9\n"
     ]
    }
   ],
   "source": [
    "flag : bool = True # flag must be stop otherwise it will run infinitely\n",
    "\n",
    "\n",
    "current_number : int = 1\n",
    "\n",
    "while flag:\n",
    "    print(f\"current number is : {current_number}\")\n",
    "    current_number += 1\n",
    "\n",
    "    if current_number == 10:\n",
    "        break"
   ]
  },
  {
   "cell_type": "code",
   "execution_count": 13,
   "metadata": {},
   "outputs": [
    {
     "name": "stdout",
     "output_type": "stream",
     "text": [
      "current number is : 0 and list value is 1000\n",
      "current number is : 1 and list value is 3444\n",
      "current number is : 2 and list value is 555\n"
     ]
    }
   ],
   "source": [
    "l1 : list[int] = [1000,3444,555]\n",
    "\n",
    "\n",
    "index : int = 0\n",
    "\n",
    "while index < len(l1):\n",
    "    print(f\"current number is : {index} and list value is {l1[index]}\")\n",
    "    index += 1"
   ]
  },
  {
   "cell_type": "code",
   "execution_count": 16,
   "metadata": {},
   "outputs": [
    {
     "name": "stdout",
     "output_type": "stream",
     "text": [
      "write quite or exit to stop this program\n",
      "write quite or exit to stop this program\n"
     ]
    },
    {
     "data": {
      "text/plain": [
       "[{'name': 'ahmad', 'education': 'msc'}]"
      ]
     },
     "metadata": {},
     "output_type": "display_data"
    }
   ],
   "source": [
    "data : list[dict[str,str]] = []\n",
    "\n",
    "flag : bool = True\n",
    "while flag:\n",
    "    print(\"write quite or exit to stop this program\")\n",
    "    name : str = input(\"Your good name is ? \\t:\")\n",
    "    education : str = input(\"Your last education? \\t:\")\n",
    "    if name in ['exit' , 'quite', 'close','stop'] or education in ['exit','quite','close','stop']:\n",
    "        flag=False\n",
    "        break\n",
    "    data.append({\"name\" :name,\n",
    "                 \"education\": education})\n",
    "    \n",
    "display(data)"
   ]
  },
  {
   "cell_type": "markdown",
   "metadata": {},
   "source": [
    "# controls\n",
    "* break \n",
    "* continue\n",
    "* pass"
   ]
  },
  {
   "cell_type": "code",
   "execution_count": 17,
   "metadata": {},
   "outputs": [
    {
     "name": "stdout",
     "output_type": "stream",
     "text": [
      "1\n",
      "2\n",
      "3\n",
      "4\n",
      "5\n"
     ]
    }
   ],
   "source": [
    "for i in range(1,11):\n",
    "    print(i)\n",
    "    if i ==5:\n",
    "        break"
   ]
  },
  {
   "cell_type": "code",
   "execution_count": 18,
   "metadata": {},
   "outputs": [
    {
     "name": "stdout",
     "output_type": "stream",
     "text": [
      "2 X 1 =2\n"
     ]
    }
   ],
   "source": [
    "for i in range(1,11):\n",
    "    print(f\"2 X {i} ={i*2}\")\n",
    "    break"
   ]
  },
  {
   "cell_type": "code",
   "execution_count": 19,
   "metadata": {},
   "outputs": [
    {
     "name": "stdout",
     "output_type": "stream",
     "text": [
      "2 X 1 =2\n",
      "2 X 2 =4\n",
      "2 X 3 =6\n",
      "2 X 4 =8\n",
      "2 X 5 =10\n",
      "2 X 6 =12\n",
      "2 X 7 =14\n",
      "2 X 8 =16\n",
      "2 X 9 =18\n",
      "2 X 10 =20\n"
     ]
    }
   ],
   "source": [
    "for i in range(1,11):\n",
    "    print(f\"2 X {i} ={i*2}\")"
   ]
  },
  {
   "cell_type": "markdown",
   "metadata": {},
   "source": [
    "# continue\n"
   ]
  },
  {
   "cell_type": "code",
   "execution_count": 20,
   "metadata": {},
   "outputs": [
    {
     "name": "stdout",
     "output_type": "stream",
     "text": [
      "1\n",
      "2\n",
      "3\n",
      "4\n",
      "6\n",
      "7\n",
      "8\n",
      "9\n",
      "10\n",
      "11\n"
     ]
    }
   ],
   "source": [
    "for i in range(1,12):\n",
    "    if i == 5:\n",
    "        continue   # skipping the iteration when i is 5\n",
    "    print(i)"
   ]
  },
  {
   "cell_type": "markdown",
   "metadata": {},
   "source": [
    "# pass\n"
   ]
  },
  {
   "cell_type": "code",
   "execution_count": 23,
   "metadata": {},
   "outputs": [
    {
     "ename": "SyntaxError",
     "evalue": "incomplete input (1050359147.py, line 1)",
     "output_type": "error",
     "traceback": [
      "\u001b[1;36m  Cell \u001b[1;32mIn[23], line 1\u001b[1;36m\u001b[0m\n\u001b[1;33m    for i in range(1,1000):\u001b[0m\n\u001b[1;37m                           ^\u001b[0m\n\u001b[1;31mSyntaxError\u001b[0m\u001b[1;31m:\u001b[0m incomplete input\n"
     ]
    }
   ],
   "source": [
    "for i in range(1,1000):"
   ]
  },
  {
   "cell_type": "code",
   "execution_count": 21,
   "metadata": {},
   "outputs": [],
   "source": [
    "for i in range(1,1000):\n",
    "    pass"
   ]
  },
  {
   "cell_type": "code",
   "execution_count": 22,
   "metadata": {},
   "outputs": [],
   "source": [
    "def abc(a : int , b: int) -> int:\n",
    "    pass"
   ]
  }
 ],
 "metadata": {
  "kernelspec": {
   "display_name": "python12",
   "language": "python",
   "name": "python3"
  },
  "language_info": {
   "codemirror_mode": {
    "name": "ipython",
    "version": 3
   },
   "file_extension": ".py",
   "mimetype": "text/x-python",
   "name": "python",
   "nbconvert_exporter": "python",
   "pygments_lexer": "ipython3",
   "version": "3.12.0"
  }
 },
 "nbformat": 4,
 "nbformat_minor": 2
}
