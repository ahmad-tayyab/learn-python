{
 "cells": [
  {
   "cell_type": "markdown",
   "metadata": {},
   "source": [
    "# Python divides the operators in the following groups:\n",
    "\n",
    "* Arithmetic operators\n",
    "* Assignment operators\n",
    "* Comparison operators\n",
    "* Logical operators\n",
    "* Identity operators\n",
    "* Membership operators\n",
    "* Bitwise operators"
   ]
  },
  {
   "cell_type": "code",
   "execution_count": 1,
   "metadata": {},
   "outputs": [
    {
     "name": "stdout",
     "output_type": "stream",
     "text": [
      "Collecting lxml\n",
      "  Obtaining dependency information for lxml from https://files.pythonhosted.org/packages/77/e5/1f23e56678244258483521872507d64130cac9466902aca3f3141b8fb06b/lxml-4.9.3-cp312-cp312-win_amd64.whl.metadata\n",
      "  Downloading lxml-4.9.3-cp312-cp312-win_amd64.whl.metadata (3.9 kB)\n",
      "Downloading lxml-4.9.3-cp312-cp312-win_amd64.whl (3.8 MB)\n",
      "   ---------------------------------------- 0.0/3.8 MB ? eta -:--:--\n",
      "   ---------------------------------------- 0.0/3.8 MB ? eta -:--:--\n",
      "   ---------------------------------------- 0.0/3.8 MB ? eta -:--:--\n",
      "   ---------------------------------------- 0.0/3.8 MB ? eta -:--:--\n",
      "   ---------------------------------------- 0.0/3.8 MB 220.2 kB/s eta 0:00:17\n",
      "   ---------------------------------------- 0.0/3.8 MB 219.4 kB/s eta 0:00:18\n",
      "   - -------------------------------------- 0.1/3.8 MB 469.7 kB/s eta 0:00:08\n",
      "   - -------------------------------------- 0.2/3.8 MB 573.4 kB/s eta 0:00:07\n",
      "   -- ------------------------------------- 0.2/3.8 MB 622.7 kB/s eta 0:00:06\n",
      "   -- ------------------------------------- 0.2/3.8 MB 626.9 kB/s eta 0:00:06\n",
      "   -- ------------------------------------- 0.3/3.8 MB 605.3 kB/s eta 0:00:06\n",
      "   -- ------------------------------------- 0.3/3.8 MB 609.2 kB/s eta 0:00:06\n",
      "   --- ------------------------------------ 0.3/3.8 MB 593.9 kB/s eta 0:00:06\n",
      "   --- ------------------------------------ 0.3/3.8 MB 600.1 kB/s eta 0:00:06\n",
      "   --- ------------------------------------ 0.4/3.8 MB 602.4 kB/s eta 0:00:06\n",
      "   ---- ----------------------------------- 0.4/3.8 MB 608.0 kB/s eta 0:00:06\n",
      "   ---- ----------------------------------- 0.4/3.8 MB 595.2 kB/s eta 0:00:06\n",
      "   ---- ----------------------------------- 0.5/3.8 MB 613.3 kB/s eta 0:00:06\n",
      "   ----- ---------------------------------- 0.5/3.8 MB 603.1 kB/s eta 0:00:06\n",
      "   ----- ---------------------------------- 0.5/3.8 MB 604.6 kB/s eta 0:00:06\n",
      "   ----- ---------------------------------- 0.5/3.8 MB 608.0 kB/s eta 0:00:06\n",
      "   ----- ---------------------------------- 0.6/3.8 MB 600.4 kB/s eta 0:00:06\n",
      "   ------ --------------------------------- 0.6/3.8 MB 603.0 kB/s eta 0:00:06\n",
      "   ------ --------------------------------- 0.6/3.8 MB 604.2 kB/s eta 0:00:06\n",
      "   ------ --------------------------------- 0.6/3.8 MB 607.0 kB/s eta 0:00:06\n",
      "   ------- -------------------------------- 0.7/3.8 MB 600.2 kB/s eta 0:00:06\n",
      "   ------- -------------------------------- 0.7/3.8 MB 602.4 kB/s eta 0:00:06\n",
      "   ------- -------------------------------- 0.7/3.8 MB 603.9 kB/s eta 0:00:06\n",
      "   -------- ------------------------------- 0.8/3.8 MB 598.0 kB/s eta 0:00:06\n",
      "   -------- ------------------------------- 0.8/3.8 MB 600.5 kB/s eta 0:00:05\n",
      "   -------- ------------------------------- 0.8/3.8 MB 601.4 kB/s eta 0:00:05\n",
      "   -------- ------------------------------- 0.8/3.8 MB 603.2 kB/s eta 0:00:05\n",
      "   --------- ------------------------------ 0.9/3.8 MB 598.6 kB/s eta 0:00:05\n",
      "   --------- ------------------------------ 0.9/3.8 MB 599.9 kB/s eta 0:00:05\n",
      "   --------- ------------------------------ 0.9/3.8 MB 601.6 kB/s eta 0:00:05\n",
      "   ---------- ----------------------------- 1.0/3.8 MB 597.0 kB/s eta 0:00:05\n",
      "   ---------- ----------------------------- 1.0/3.8 MB 598.6 kB/s eta 0:00:05\n",
      "   ---------- ----------------------------- 1.0/3.8 MB 593.6 kB/s eta 0:00:05\n",
      "   ---------- ----------------------------- 1.0/3.8 MB 601.3 kB/s eta 0:00:05\n",
      "   ----------- ---------------------------- 1.1/3.8 MB 602.7 kB/s eta 0:00:05\n",
      "   ----------- ---------------------------- 1.1/3.8 MB 599.0 kB/s eta 0:00:05\n",
      "   ----------- ---------------------------- 1.1/3.8 MB 599.4 kB/s eta 0:00:05\n",
      "   ------------ --------------------------- 1.1/3.8 MB 601.4 kB/s eta 0:00:05\n",
      "   ------------ --------------------------- 1.2/3.8 MB 602.7 kB/s eta 0:00:05\n",
      "   ------------ --------------------------- 1.2/3.8 MB 599.0 kB/s eta 0:00:05\n",
      "   ------------- -------------------------- 1.2/3.8 MB 600.0 kB/s eta 0:00:05\n",
      "   ------------- -------------------------- 1.3/3.8 MB 601.2 kB/s eta 0:00:05\n",
      "   ------------- -------------------------- 1.3/3.8 MB 602.4 kB/s eta 0:00:05\n",
      "   ------------- -------------------------- 1.3/3.8 MB 599.0 kB/s eta 0:00:05\n",
      "   -------------- ------------------------- 1.4/3.8 MB 600.5 kB/s eta 0:00:05\n",
      "   -------------- ------------------------- 1.4/3.8 MB 600.7 kB/s eta 0:00:05\n",
      "   -------------- ------------------------- 1.4/3.8 MB 597.9 kB/s eta 0:00:04\n",
      "   --------------- ------------------------ 1.4/3.8 MB 603.4 kB/s eta 0:00:04\n",
      "   --------------- ------------------------ 1.5/3.8 MB 600.6 kB/s eta 0:00:04\n",
      "   --------------- ------------------------ 1.5/3.8 MB 600.9 kB/s eta 0:00:04\n",
      "   ---------------- ----------------------- 1.5/3.8 MB 602.1 kB/s eta 0:00:04\n",
      "   ---------------- ----------------------- 1.5/3.8 MB 603.3 kB/s eta 0:00:04\n",
      "   ---------------- ----------------------- 1.6/3.8 MB 600.3 kB/s eta 0:00:04\n",
      "   ----------------- ---------------------- 1.6/3.8 MB 601.4 kB/s eta 0:00:04\n",
      "   ----------------- ---------------------- 1.6/3.8 MB 601.9 kB/s eta 0:00:04\n",
      "   ----------------- ---------------------- 1.6/3.8 MB 599.3 kB/s eta 0:00:04\n",
      "   ----------------- ---------------------- 1.7/3.8 MB 603.9 kB/s eta 0:00:04\n",
      "   ------------------ --------------------- 1.7/3.8 MB 601.5 kB/s eta 0:00:04\n",
      "   ------------------ --------------------- 1.7/3.8 MB 601.7 kB/s eta 0:00:04\n",
      "   ------------------ --------------------- 1.8/3.8 MB 603.0 kB/s eta 0:00:04\n",
      "   ------------------- -------------------- 1.8/3.8 MB 603.8 kB/s eta 0:00:04\n",
      "   ------------------- -------------------- 1.8/3.8 MB 601.2 kB/s eta 0:00:04\n",
      "   ------------------- -------------------- 1.9/3.8 MB 602.2 kB/s eta 0:00:04\n",
      "   ------------------- -------------------- 1.9/3.8 MB 602.5 kB/s eta 0:00:04\n",
      "   -------------------- ------------------- 1.9/3.8 MB 600.3 kB/s eta 0:00:04\n",
      "   -------------------- ------------------- 1.9/3.8 MB 604.2 kB/s eta 0:00:04\n",
      "   -------------------- ------------------- 2.0/3.8 MB 602.2 kB/s eta 0:00:03\n",
      "   --------------------- ------------------ 2.0/3.8 MB 602.4 kB/s eta 0:00:03\n",
      "   --------------------- ------------------ 2.0/3.8 MB 603.4 kB/s eta 0:00:03\n",
      "   --------------------- ------------------ 2.1/3.8 MB 604.1 kB/s eta 0:00:03\n",
      "   --------------------- ------------------ 2.1/3.8 MB 601.6 kB/s eta 0:00:03\n",
      "   ---------------------- ----------------- 2.1/3.8 MB 602.5 kB/s eta 0:00:03\n",
      "   ---------------------- ----------------- 2.1/3.8 MB 603.2 kB/s eta 0:00:03\n",
      "   ----------------------- ---------------- 2.2/3.8 MB 603.9 kB/s eta 0:00:03\n",
      "   ----------------------- ---------------- 2.2/3.8 MB 604.4 kB/s eta 0:00:03\n",
      "   ----------------------- ---------------- 2.2/3.8 MB 602.5 kB/s eta 0:00:03\n",
      "   ----------------------- ---------------- 2.3/3.8 MB 603.2 kB/s eta 0:00:03\n",
      "   ------------------------ --------------- 2.3/3.8 MB 603.5 kB/s eta 0:00:03\n",
      "   ------------------------ --------------- 2.3/3.8 MB 604.3 kB/s eta 0:00:03\n",
      "   ------------------------ --------------- 2.3/3.8 MB 602.4 kB/s eta 0:00:03\n",
      "   ------------------------- -------------- 2.4/3.8 MB 603.0 kB/s eta 0:00:03\n",
      "   ------------------------- -------------- 2.4/3.8 MB 603.4 kB/s eta 0:00:03\n",
      "   ------------------------- -------------- 2.4/3.8 MB 604.0 kB/s eta 0:00:03\n",
      "   ------------------------- -------------- 2.4/3.8 MB 602.4 kB/s eta 0:00:03\n",
      "   -------------------------- ------------- 2.5/3.8 MB 602.9 kB/s eta 0:00:03\n",
      "   -------------------------- ------------- 2.5/3.8 MB 603.2 kB/s eta 0:00:03\n",
      "   -------------------------- ------------- 2.5/3.8 MB 603.9 kB/s eta 0:00:03\n",
      "   --------------------------- ------------ 2.6/3.8 MB 602.2 kB/s eta 0:00:03\n",
      "   --------------------------- ------------ 2.6/3.8 MB 605.2 kB/s eta 0:00:02\n",
      "   --------------------------- ------------ 2.6/3.8 MB 603.2 kB/s eta 0:00:02\n",
      "   ---------------------------- ----------- 2.6/3.8 MB 603.7 kB/s eta 0:00:02\n",
      "   ---------------------------- ----------- 2.7/3.8 MB 604.5 kB/s eta 0:00:02\n",
      "   ---------------------------- ----------- 2.7/3.8 MB 604.8 kB/s eta 0:00:02\n",
      "   ---------------------------- ----------- 2.7/3.8 MB 603.3 kB/s eta 0:00:02\n",
      "   ----------------------------- ---------- 2.8/3.8 MB 603.8 kB/s eta 0:00:02\n",
      "   ----------------------------- ---------- 2.8/3.8 MB 604.3 kB/s eta 0:00:02\n",
      "   ----------------------------- ---------- 2.8/3.8 MB 604.8 kB/s eta 0:00:02\n",
      "   ------------------------------ --------- 2.8/3.8 MB 605.2 kB/s eta 0:00:02\n",
      "   ------------------------------ --------- 2.9/3.8 MB 603.6 kB/s eta 0:00:02\n",
      "   ------------------------------ --------- 2.9/3.8 MB 604.2 kB/s eta 0:00:02\n",
      "   ------------------------------- -------- 2.9/3.8 MB 604.7 kB/s eta 0:00:02\n",
      "   ------------------------------- -------- 3.0/3.8 MB 604.9 kB/s eta 0:00:02\n",
      "   ------------------------------- -------- 3.0/3.8 MB 603.6 kB/s eta 0:00:02\n",
      "   -------------------------------- ------- 3.0/3.8 MB 604.0 kB/s eta 0:00:02\n",
      "   -------------------------------- ------- 3.0/3.8 MB 604.4 kB/s eta 0:00:02\n",
      "   -------------------------------- ------- 3.1/3.8 MB 605.0 kB/s eta 0:00:02\n",
      "   --------------------------------- ------ 3.1/3.8 MB 605.4 kB/s eta 0:00:02\n",
      "   --------------------------------- ------ 3.1/3.8 MB 605.7 kB/s eta 0:00:02\n",
      "   --------------------------------- ------ 3.2/3.8 MB 604.4 kB/s eta 0:00:02\n",
      "   --------------------------------- ------ 3.2/3.8 MB 604.9 kB/s eta 0:00:01\n",
      "   ---------------------------------- ----- 3.2/3.8 MB 605.2 kB/s eta 0:00:01\n",
      "   ---------------------------------- ----- 3.2/3.8 MB 605.6 kB/s eta 0:00:01\n",
      "   ---------------------------------- ----- 3.3/3.8 MB 604.2 kB/s eta 0:00:01\n",
      "   ----------------------------------- ---- 3.3/3.8 MB 604.7 kB/s eta 0:00:01\n",
      "   ----------------------------------- ---- 3.3/3.8 MB 605.0 kB/s eta 0:00:01\n",
      "   ----------------------------------- ---- 3.4/3.8 MB 605.4 kB/s eta 0:00:01\n",
      "   ----------------------------------- ---- 3.4/3.8 MB 604.2 kB/s eta 0:00:01\n",
      "   ------------------------------------ --- 3.4/3.8 MB 604.6 kB/s eta 0:00:01\n",
      "   ------------------------------------ --- 3.4/3.8 MB 604.9 kB/s eta 0:00:01\n",
      "   ------------------------------------ --- 3.5/3.8 MB 605.3 kB/s eta 0:00:01\n",
      "   ------------------------------------- -- 3.5/3.8 MB 604.0 kB/s eta 0:00:01\n",
      "   ------------------------------------- -- 3.5/3.8 MB 604.4 kB/s eta 0:00:01\n",
      "   ------------------------------------- -- 3.6/3.8 MB 606.5 kB/s eta 0:00:01\n",
      "   -------------------------------------- - 3.6/3.8 MB 605.3 kB/s eta 0:00:01\n",
      "   -------------------------------------- - 3.6/3.8 MB 605.7 kB/s eta 0:00:01\n",
      "   -------------------------------------- - 3.6/3.8 MB 605.9 kB/s eta 0:00:01\n",
      "   -------------------------------------- - 3.7/3.8 MB 606.3 kB/s eta 0:00:01\n",
      "   ---------------------------------------  3.7/3.8 MB 605.1 kB/s eta 0:00:01\n",
      "   ---------------------------------------  3.7/3.8 MB 605.5 kB/s eta 0:00:01\n",
      "   ---------------------------------------  3.8/3.8 MB 605.8 kB/s eta 0:00:01\n",
      "   ---------------------------------------- 3.8/3.8 MB 603.6 kB/s eta 0:00:00\n",
      "Installing collected packages: lxml\n",
      "Successfully installed lxml-4.9.3\n"
     ]
    }
   ],
   "source": [
    "#!pip install lxml"
   ]
  },
  {
   "cell_type": "code",
   "execution_count": 2,
   "metadata": {},
   "outputs": [
    {
     "data": {
      "text/html": [
       "<div>\n",
       "<style scoped>\n",
       "    .dataframe tbody tr th:only-of-type {\n",
       "        vertical-align: middle;\n",
       "    }\n",
       "\n",
       "    .dataframe tbody tr th {\n",
       "        vertical-align: top;\n",
       "    }\n",
       "\n",
       "    .dataframe thead th {\n",
       "        text-align: right;\n",
       "    }\n",
       "</style>\n",
       "<table border=\"1\" class=\"dataframe\">\n",
       "  <thead>\n",
       "    <tr style=\"text-align: right;\">\n",
       "      <th></th>\n",
       "      <th>Operator</th>\n",
       "      <th>Name</th>\n",
       "      <th>Example</th>\n",
       "      <th>Try it</th>\n",
       "    </tr>\n",
       "  </thead>\n",
       "  <tbody>\n",
       "    <tr>\n",
       "      <th>0</th>\n",
       "      <td>+</td>\n",
       "      <td>Addition</td>\n",
       "      <td>x + y</td>\n",
       "      <td>Try it »</td>\n",
       "    </tr>\n",
       "    <tr>\n",
       "      <th>1</th>\n",
       "      <td>-</td>\n",
       "      <td>Subtraction</td>\n",
       "      <td>x - y</td>\n",
       "      <td>Try it »</td>\n",
       "    </tr>\n",
       "    <tr>\n",
       "      <th>2</th>\n",
       "      <td>*</td>\n",
       "      <td>Multiplication</td>\n",
       "      <td>x * y</td>\n",
       "      <td>Try it »</td>\n",
       "    </tr>\n",
       "    <tr>\n",
       "      <th>3</th>\n",
       "      <td>/</td>\n",
       "      <td>Division</td>\n",
       "      <td>x / y</td>\n",
       "      <td>Try it »</td>\n",
       "    </tr>\n",
       "    <tr>\n",
       "      <th>4</th>\n",
       "      <td>%</td>\n",
       "      <td>Modulus</td>\n",
       "      <td>x % y</td>\n",
       "      <td>Try it »</td>\n",
       "    </tr>\n",
       "    <tr>\n",
       "      <th>5</th>\n",
       "      <td>**</td>\n",
       "      <td>Exponentiation</td>\n",
       "      <td>x ** y</td>\n",
       "      <td>Try it »</td>\n",
       "    </tr>\n",
       "    <tr>\n",
       "      <th>6</th>\n",
       "      <td>//</td>\n",
       "      <td>Floor division</td>\n",
       "      <td>x // y</td>\n",
       "      <td>Try it »</td>\n",
       "    </tr>\n",
       "  </tbody>\n",
       "</table>\n",
       "</div>"
      ],
      "text/plain": [
       "  Operator            Name Example    Try it\n",
       "0        +        Addition   x + y  Try it »\n",
       "1        -     Subtraction   x - y  Try it »\n",
       "2        *  Multiplication   x * y  Try it »\n",
       "3        /        Division   x / y  Try it »\n",
       "4        %         Modulus   x % y  Try it »\n",
       "5       **  Exponentiation  x ** y  Try it »\n",
       "6       //  Floor division  x // y  Try it »"
      ]
     },
     "execution_count": 2,
     "metadata": {},
     "output_type": "execute_result"
    }
   ],
   "source": [
    "# !pip install pandas\n",
    "import pandas as pd\n",
    "\n",
    "table = pd.read_html('https://www.w3schools.com/python/python_operators.asp')\n",
    "table[0]\n"
   ]
  },
  {
   "cell_type": "code",
   "execution_count": 3,
   "metadata": {},
   "outputs": [
    {
     "name": "stdout",
     "output_type": "stream",
     "text": [
      "8\n"
     ]
    }
   ],
   "source": [
    "a = 3\n",
    "b = 5\n",
    "print(a + b)"
   ]
  },
  {
   "cell_type": "code",
   "execution_count": 4,
   "metadata": {},
   "outputs": [
    {
     "name": "stdout",
     "output_type": "stream",
     "text": [
      "-2\n"
     ]
    }
   ],
   "source": [
    "a = 3\n",
    "b = 5\n",
    "print(a - b)"
   ]
  },
  {
   "cell_type": "code",
   "execution_count": 5,
   "metadata": {},
   "outputs": [
    {
     "name": "stdout",
     "output_type": "stream",
     "text": [
      "15\n"
     ]
    }
   ],
   "source": [
    "a = 3\n",
    "b = 5\n",
    "print(a * b)"
   ]
  },
  {
   "cell_type": "code",
   "execution_count": 8,
   "metadata": {},
   "outputs": [
    {
     "name": "stdout",
     "output_type": "stream",
     "text": [
      "2\n"
     ]
    }
   ],
   "source": [
    "a = 3\n",
    "b = 5\n",
    "print(b % a)"
   ]
  },
  {
   "cell_type": "code",
   "execution_count": 6,
   "metadata": {},
   "outputs": [
    {
     "name": "stdout",
     "output_type": "stream",
     "text": [
      "0.6\n"
     ]
    }
   ],
   "source": [
    "a = 3\n",
    "b = 5\n",
    "print(a / b)"
   ]
  },
  {
   "cell_type": "code",
   "execution_count": 2,
   "metadata": {},
   "outputs": [
    {
     "name": "stdout",
     "output_type": "stream",
     "text": [
      "243\n"
     ]
    }
   ],
   "source": [
    "a = 3\n",
    "b = 5\n",
    "print(a ** b)"
   ]
  },
  {
   "cell_type": "code",
   "execution_count": 4,
   "metadata": {},
   "outputs": [
    {
     "name": "stdout",
     "output_type": "stream",
     "text": [
      "0\n",
      "2\n",
      "4.666666666666667\n",
      "4\n"
     ]
    }
   ],
   "source": [
    "a = 3\n",
    "b = 5\n",
    "print(a // b)\n",
    "print(4 // 2)\n",
    "print(14 / 3)\n",
    "print(14 // 3)"
   ]
  },
  {
   "cell_type": "markdown",
   "metadata": {},
   "source": [
    "# Python Assignment Operator"
   ]
  },
  {
   "cell_type": "code",
   "execution_count": 7,
   "metadata": {},
   "outputs": [
    {
     "data": {
      "text/html": [
       "<div>\n",
       "<style scoped>\n",
       "    .dataframe tbody tr th:only-of-type {\n",
       "        vertical-align: middle;\n",
       "    }\n",
       "\n",
       "    .dataframe tbody tr th {\n",
       "        vertical-align: top;\n",
       "    }\n",
       "\n",
       "    .dataframe thead th {\n",
       "        text-align: right;\n",
       "    }\n",
       "</style>\n",
       "<table border=\"1\" class=\"dataframe\">\n",
       "  <thead>\n",
       "    <tr style=\"text-align: right;\">\n",
       "      <th></th>\n",
       "      <th>Operator</th>\n",
       "      <th>Example</th>\n",
       "      <th>Same As</th>\n",
       "      <th>Try it</th>\n",
       "    </tr>\n",
       "  </thead>\n",
       "  <tbody>\n",
       "    <tr>\n",
       "      <th>0</th>\n",
       "      <td>=</td>\n",
       "      <td>x = 5</td>\n",
       "      <td>x = 5</td>\n",
       "      <td>Try it »</td>\n",
       "    </tr>\n",
       "    <tr>\n",
       "      <th>1</th>\n",
       "      <td>+=</td>\n",
       "      <td>x += 3</td>\n",
       "      <td>x = x + 3</td>\n",
       "      <td>Try it »</td>\n",
       "    </tr>\n",
       "    <tr>\n",
       "      <th>2</th>\n",
       "      <td>-=</td>\n",
       "      <td>x -= 3</td>\n",
       "      <td>x = x - 3</td>\n",
       "      <td>Try it »</td>\n",
       "    </tr>\n",
       "    <tr>\n",
       "      <th>3</th>\n",
       "      <td>*=</td>\n",
       "      <td>x *= 3</td>\n",
       "      <td>x = x * 3</td>\n",
       "      <td>Try it »</td>\n",
       "    </tr>\n",
       "    <tr>\n",
       "      <th>4</th>\n",
       "      <td>/=</td>\n",
       "      <td>x /= 3</td>\n",
       "      <td>x = x / 3</td>\n",
       "      <td>Try it »</td>\n",
       "    </tr>\n",
       "    <tr>\n",
       "      <th>5</th>\n",
       "      <td>%=</td>\n",
       "      <td>x %= 3</td>\n",
       "      <td>x = x % 3</td>\n",
       "      <td>Try it »</td>\n",
       "    </tr>\n",
       "    <tr>\n",
       "      <th>6</th>\n",
       "      <td>//=</td>\n",
       "      <td>x //= 3</td>\n",
       "      <td>x = x // 3</td>\n",
       "      <td>Try it »</td>\n",
       "    </tr>\n",
       "    <tr>\n",
       "      <th>7</th>\n",
       "      <td>**=</td>\n",
       "      <td>x **= 3</td>\n",
       "      <td>x = x ** 3</td>\n",
       "      <td>Try it »</td>\n",
       "    </tr>\n",
       "    <tr>\n",
       "      <th>8</th>\n",
       "      <td>&amp;=</td>\n",
       "      <td>x &amp;= 3</td>\n",
       "      <td>x = x &amp; 3</td>\n",
       "      <td>Try it »</td>\n",
       "    </tr>\n",
       "    <tr>\n",
       "      <th>9</th>\n",
       "      <td>|=</td>\n",
       "      <td>x |= 3</td>\n",
       "      <td>x = x | 3</td>\n",
       "      <td>Try it »</td>\n",
       "    </tr>\n",
       "    <tr>\n",
       "      <th>10</th>\n",
       "      <td>^=</td>\n",
       "      <td>x ^= 3</td>\n",
       "      <td>x = x ^ 3</td>\n",
       "      <td>Try it »</td>\n",
       "    </tr>\n",
       "    <tr>\n",
       "      <th>11</th>\n",
       "      <td>&gt;&gt;=</td>\n",
       "      <td>x &gt;&gt;= 3</td>\n",
       "      <td>x = x &gt;&gt; 3</td>\n",
       "      <td>Try it »</td>\n",
       "    </tr>\n",
       "    <tr>\n",
       "      <th>12</th>\n",
       "      <td>&lt;&lt;=</td>\n",
       "      <td>x &lt;&lt;= 3</td>\n",
       "      <td>x = x &lt;&lt; 3</td>\n",
       "      <td>Try it »</td>\n",
       "    </tr>\n",
       "  </tbody>\n",
       "</table>\n",
       "</div>"
      ],
      "text/plain": [
       "   Operator  Example     Same As    Try it\n",
       "0         =    x = 5       x = 5  Try it »\n",
       "1        +=   x += 3   x = x + 3  Try it »\n",
       "2        -=   x -= 3   x = x - 3  Try it »\n",
       "3        *=   x *= 3   x = x * 3  Try it »\n",
       "4        /=   x /= 3   x = x / 3  Try it »\n",
       "5        %=   x %= 3   x = x % 3  Try it »\n",
       "6       //=  x //= 3  x = x // 3  Try it »\n",
       "7       **=  x **= 3  x = x ** 3  Try it »\n",
       "8        &=   x &= 3   x = x & 3  Try it »\n",
       "9        |=   x |= 3   x = x | 3  Try it »\n",
       "10       ^=   x ^= 3   x = x ^ 3  Try it »\n",
       "11      >>=  x >>= 3  x = x >> 3  Try it »\n",
       "12      <<=  x <<= 3  x = x << 3  Try it »"
      ]
     },
     "execution_count": 7,
     "metadata": {},
     "output_type": "execute_result"
    }
   ],
   "source": [
    "table[1]"
   ]
  },
  {
   "cell_type": "code",
   "execution_count": 9,
   "metadata": {},
   "outputs": [
    {
     "name": "stdout",
     "output_type": "stream",
     "text": [
      "12\n"
     ]
    }
   ],
   "source": [
    "# = assign\n",
    "a : int = 10\n",
    "b : int = 8\n",
    "\n",
    "# +=\n",
    "a+=2\n",
    "print(a)"
   ]
  },
  {
   "cell_type": "code",
   "execution_count": 10,
   "metadata": {},
   "outputs": [
    {
     "name": "stdout",
     "output_type": "stream",
     "text": [
      "0\n"
     ]
    }
   ],
   "source": [
    "# -=\n",
    "\n",
    "a : int = 5\n",
    "a-=5\n",
    "print(a)"
   ]
  },
  {
   "cell_type": "code",
   "execution_count": 11,
   "metadata": {},
   "outputs": [
    {
     "name": "stdout",
     "output_type": "stream",
     "text": [
      "25\n"
     ]
    }
   ],
   "source": [
    "# *=\n",
    "a : int = 5\n",
    "a*=5\n",
    "print(a)"
   ]
  },
  {
   "cell_type": "markdown",
   "metadata": {},
   "source": [
    "# Python Comparison Operator"
   ]
  },
  {
   "cell_type": "code",
   "execution_count": 3,
   "metadata": {},
   "outputs": [
    {
     "data": {
      "text/html": [
       "<div>\n",
       "<style scoped>\n",
       "    .dataframe tbody tr th:only-of-type {\n",
       "        vertical-align: middle;\n",
       "    }\n",
       "\n",
       "    .dataframe tbody tr th {\n",
       "        vertical-align: top;\n",
       "    }\n",
       "\n",
       "    .dataframe thead th {\n",
       "        text-align: right;\n",
       "    }\n",
       "</style>\n",
       "<table border=\"1\" class=\"dataframe\">\n",
       "  <thead>\n",
       "    <tr style=\"text-align: right;\">\n",
       "      <th></th>\n",
       "      <th>Operator</th>\n",
       "      <th>Name</th>\n",
       "      <th>Example</th>\n",
       "      <th>Try it</th>\n",
       "    </tr>\n",
       "  </thead>\n",
       "  <tbody>\n",
       "    <tr>\n",
       "      <th>0</th>\n",
       "      <td>==</td>\n",
       "      <td>Equal</td>\n",
       "      <td>x == y</td>\n",
       "      <td>Try it »</td>\n",
       "    </tr>\n",
       "    <tr>\n",
       "      <th>1</th>\n",
       "      <td>!=</td>\n",
       "      <td>Not equal</td>\n",
       "      <td>x != y</td>\n",
       "      <td>Try it »</td>\n",
       "    </tr>\n",
       "    <tr>\n",
       "      <th>2</th>\n",
       "      <td>&gt;</td>\n",
       "      <td>Greater than</td>\n",
       "      <td>x &gt; y</td>\n",
       "      <td>Try it »</td>\n",
       "    </tr>\n",
       "    <tr>\n",
       "      <th>3</th>\n",
       "      <td>&lt;</td>\n",
       "      <td>Less than</td>\n",
       "      <td>x &lt; y</td>\n",
       "      <td>Try it »</td>\n",
       "    </tr>\n",
       "    <tr>\n",
       "      <th>4</th>\n",
       "      <td>&gt;=</td>\n",
       "      <td>Greater than or equal to</td>\n",
       "      <td>x &gt;= y</td>\n",
       "      <td>Try it »</td>\n",
       "    </tr>\n",
       "    <tr>\n",
       "      <th>5</th>\n",
       "      <td>&lt;=</td>\n",
       "      <td>Less than or equal to</td>\n",
       "      <td>x &lt;= y</td>\n",
       "      <td>Try it »</td>\n",
       "    </tr>\n",
       "  </tbody>\n",
       "</table>\n",
       "</div>"
      ],
      "text/plain": [
       "  Operator                      Name Example    Try it\n",
       "0       ==                     Equal  x == y  Try it »\n",
       "1       !=                 Not equal  x != y  Try it »\n",
       "2        >              Greater than   x > y  Try it »\n",
       "3        <                 Less than   x < y  Try it »\n",
       "4       >=  Greater than or equal to  x >= y  Try it »\n",
       "5       <=     Less than or equal to  x <= y  Try it »"
      ]
     },
     "execution_count": 3,
     "metadata": {},
     "output_type": "execute_result"
    }
   ],
   "source": [
    "table[2]"
   ]
  },
  {
   "cell_type": "code",
   "execution_count": 5,
   "metadata": {},
   "outputs": [
    {
     "name": "stdout",
     "output_type": "stream",
     "text": [
      "False\n",
      "False\n"
     ]
    }
   ],
   "source": [
    "a : int = 3\n",
    "b : int = 5\n",
    "c : str = '5'\n",
    "\n",
    "print(a == b)\n",
    "print(a == c)"
   ]
  },
  {
   "cell_type": "code",
   "execution_count": 6,
   "metadata": {},
   "outputs": [
    {
     "name": "stdout",
     "output_type": "stream",
     "text": [
      "False\n"
     ]
    }
   ],
   "source": [
    "a : int = 5\n",
    "b : int = 5\n",
    "\n",
    "print(a != b)"
   ]
  },
  {
   "cell_type": "code",
   "execution_count": 9,
   "metadata": {},
   "outputs": [
    {
     "name": "stdout",
     "output_type": "stream",
     "text": [
      "False\n",
      "True\n",
      "True\n",
      "False\n"
     ]
    }
   ],
   "source": [
    "a : int = 3\n",
    "b : int = 5\n",
    "\n",
    "print(a > b)\n",
    "print(a < b)\n",
    "print(a <= b)\n",
    "print(a >= b)\n"
   ]
  },
  {
   "cell_type": "markdown",
   "metadata": {},
   "source": [
    "# Python Logical Operators"
   ]
  },
  {
   "cell_type": "code",
   "execution_count": 10,
   "metadata": {},
   "outputs": [
    {
     "data": {
      "text/html": [
       "<div>\n",
       "<style scoped>\n",
       "    .dataframe tbody tr th:only-of-type {\n",
       "        vertical-align: middle;\n",
       "    }\n",
       "\n",
       "    .dataframe tbody tr th {\n",
       "        vertical-align: top;\n",
       "    }\n",
       "\n",
       "    .dataframe thead th {\n",
       "        text-align: right;\n",
       "    }\n",
       "</style>\n",
       "<table border=\"1\" class=\"dataframe\">\n",
       "  <thead>\n",
       "    <tr style=\"text-align: right;\">\n",
       "      <th></th>\n",
       "      <th>Operator</th>\n",
       "      <th>Description</th>\n",
       "      <th>Example</th>\n",
       "      <th>Try it</th>\n",
       "    </tr>\n",
       "  </thead>\n",
       "  <tbody>\n",
       "    <tr>\n",
       "      <th>0</th>\n",
       "      <td>and</td>\n",
       "      <td>Returns True if both statements are true</td>\n",
       "      <td>x &lt; 5 and x &lt; 10</td>\n",
       "      <td>Try it »</td>\n",
       "    </tr>\n",
       "    <tr>\n",
       "      <th>1</th>\n",
       "      <td>or</td>\n",
       "      <td>Returns True if one of the statements is true</td>\n",
       "      <td>x &lt; 5 or x &lt; 4</td>\n",
       "      <td>Try it »</td>\n",
       "    </tr>\n",
       "    <tr>\n",
       "      <th>2</th>\n",
       "      <td>not</td>\n",
       "      <td>Reverse the result, returns False if the resul...</td>\n",
       "      <td>not(x &lt; 5 and x &lt; 10)</td>\n",
       "      <td>Try it »</td>\n",
       "    </tr>\n",
       "  </tbody>\n",
       "</table>\n",
       "</div>"
      ],
      "text/plain": [
       "  Operator                                        Description  \\\n",
       "0      and           Returns True if both statements are true   \n",
       "1       or      Returns True if one of the statements is true   \n",
       "2      not  Reverse the result, returns False if the resul...   \n",
       "\n",
       "                 Example    Try it  \n",
       "0       x < 5 and x < 10  Try it »  \n",
       "1         x < 5 or x < 4  Try it »  \n",
       "2  not(x < 5 and x < 10)  Try it »  "
      ]
     },
     "execution_count": 10,
     "metadata": {},
     "output_type": "execute_result"
    }
   ],
   "source": [
    "table[3]"
   ]
  },
  {
   "cell_type": "code",
   "execution_count": 14,
   "metadata": {},
   "outputs": [
    {
     "name": "stdout",
     "output_type": "stream",
     "text": [
      "True\n"
     ]
    }
   ],
   "source": [
    "a : int = 10\n",
    "b : int = 11\n",
    "# and = must\n",
    "print(a > 7 and b > 10)"
   ]
  },
  {
   "cell_type": "code",
   "execution_count": 15,
   "metadata": {},
   "outputs": [
    {
     "name": "stdout",
     "output_type": "stream",
     "text": [
      "True\n"
     ]
    }
   ],
   "source": [
    "a : int = 10\n",
    "b : int = 11\n",
    "# or = optional\n",
    "print(a > 13 or b > 10)\n"
   ]
  },
  {
   "cell_type": "code",
   "execution_count": 27,
   "metadata": {},
   "outputs": [
    {
     "name": "stdout",
     "output_type": "stream",
     "text": [
      "False\n",
      "True\n"
     ]
    }
   ],
   "source": [
    "a : int = 10\n",
    "b : int = 11\n",
    "\n",
    "print(not a > 7 and b > 10)\n",
    "print(not a==b)"
   ]
  },
  {
   "cell_type": "markdown",
   "metadata": {},
   "source": [
    "# ASCII Code\n",
    "''' A = 65\n",
    "Z = 90\n",
    "\n",
    "a = 97 \n",
    "z = 122\n",
    "\n",
    "0=48\n",
    "0=57"
   ]
  },
  {
   "cell_type": "code",
   "execution_count": 17,
   "metadata": {},
   "outputs": [
    {
     "name": "stdout",
     "output_type": "stream",
     "text": [
      "True\n"
     ]
    }
   ],
   "source": [
    "a : str = 'A'\n",
    "b : str = 'B'\n",
    "\n",
    "print(a < b)"
   ]
  },
  {
   "cell_type": "code",
   "execution_count": 18,
   "metadata": {},
   "outputs": [
    {
     "name": "stdout",
     "output_type": "stream",
     "text": [
      "True\n"
     ]
    }
   ],
   "source": [
    "a : str = 'A'\n",
    "b : str = 'a'\n",
    "\n",
    "print(a < b)"
   ]
  },
  {
   "cell_type": "code",
   "execution_count": 25,
   "metadata": {},
   "outputs": [
    {
     "data": {
      "text/plain": [
       "'B'"
      ]
     },
     "execution_count": 25,
     "metadata": {},
     "output_type": "execute_result"
    }
   ],
   "source": [
    "chr(66)"
   ]
  },
  {
   "cell_type": "code",
   "execution_count": 24,
   "metadata": {},
   "outputs": [
    {
     "data": {
      "text/plain": [
       "65"
      ]
     },
     "execution_count": 24,
     "metadata": {},
     "output_type": "execute_result"
    }
   ],
   "source": [
    "ord('A')"
   ]
  },
  {
   "cell_type": "markdown",
   "metadata": {},
   "source": [
    "# Python Identity Operators"
   ]
  },
  {
   "cell_type": "code",
   "execution_count": 28,
   "metadata": {},
   "outputs": [
    {
     "data": {
      "text/html": [
       "<div>\n",
       "<style scoped>\n",
       "    .dataframe tbody tr th:only-of-type {\n",
       "        vertical-align: middle;\n",
       "    }\n",
       "\n",
       "    .dataframe tbody tr th {\n",
       "        vertical-align: top;\n",
       "    }\n",
       "\n",
       "    .dataframe thead th {\n",
       "        text-align: right;\n",
       "    }\n",
       "</style>\n",
       "<table border=\"1\" class=\"dataframe\">\n",
       "  <thead>\n",
       "    <tr style=\"text-align: right;\">\n",
       "      <th></th>\n",
       "      <th>Operator</th>\n",
       "      <th>Description</th>\n",
       "      <th>Example</th>\n",
       "      <th>Try it</th>\n",
       "    </tr>\n",
       "  </thead>\n",
       "  <tbody>\n",
       "    <tr>\n",
       "      <th>0</th>\n",
       "      <td>is</td>\n",
       "      <td>Returns True if both variables are the same ob...</td>\n",
       "      <td>x is y</td>\n",
       "      <td>Try it »</td>\n",
       "    </tr>\n",
       "    <tr>\n",
       "      <th>1</th>\n",
       "      <td>is not</td>\n",
       "      <td>Returns True if both variables are not the sam...</td>\n",
       "      <td>x is not y</td>\n",
       "      <td>Try it »</td>\n",
       "    </tr>\n",
       "  </tbody>\n",
       "</table>\n",
       "</div>"
      ],
      "text/plain": [
       "  Operator                                        Description     Example  \\\n",
       "0       is  Returns True if both variables are the same ob...      x is y   \n",
       "1   is not  Returns True if both variables are not the sam...  x is not y   \n",
       "\n",
       "     Try it  \n",
       "0  Try it »  \n",
       "1  Try it »  "
      ]
     },
     "execution_count": 28,
     "metadata": {},
     "output_type": "execute_result"
    }
   ],
   "source": [
    "table[4]"
   ]
  },
  {
   "cell_type": "code",
   "execution_count": 34,
   "metadata": {},
   "outputs": [
    {
     "name": "stdout",
     "output_type": "stream",
     "text": [
      "140718926860552\n",
      "1774839009360\n"
     ]
    }
   ],
   "source": [
    "x : str = 'abc'\n",
    "z : str = 'def'\n",
    "# backend value is different\n",
    "print(id(x))\n",
    "print(id(z))"
   ]
  },
  {
   "cell_type": "code",
   "execution_count": 30,
   "metadata": {},
   "outputs": [
    {
     "name": "stdout",
     "output_type": "stream",
     "text": [
      "False\n",
      "True\n"
     ]
    }
   ],
   "source": [
    "x : str = 'abc'\n",
    "z : str = 'def'\n",
    "print(x is z)\n",
    "print(x is not z)\n"
   ]
  },
  {
   "cell_type": "markdown",
   "metadata": {},
   "source": [
    "# Python Membership Operators"
   ]
  },
  {
   "cell_type": "code",
   "execution_count": 35,
   "metadata": {},
   "outputs": [
    {
     "data": {
      "text/html": [
       "<div>\n",
       "<style scoped>\n",
       "    .dataframe tbody tr th:only-of-type {\n",
       "        vertical-align: middle;\n",
       "    }\n",
       "\n",
       "    .dataframe tbody tr th {\n",
       "        vertical-align: top;\n",
       "    }\n",
       "\n",
       "    .dataframe thead th {\n",
       "        text-align: right;\n",
       "    }\n",
       "</style>\n",
       "<table border=\"1\" class=\"dataframe\">\n",
       "  <thead>\n",
       "    <tr style=\"text-align: right;\">\n",
       "      <th></th>\n",
       "      <th>Operator</th>\n",
       "      <th>Description</th>\n",
       "      <th>Example</th>\n",
       "      <th>Try it</th>\n",
       "    </tr>\n",
       "  </thead>\n",
       "  <tbody>\n",
       "    <tr>\n",
       "      <th>0</th>\n",
       "      <td>in</td>\n",
       "      <td>Returns True if a sequence with the specified ...</td>\n",
       "      <td>x in y</td>\n",
       "      <td>Try it »</td>\n",
       "    </tr>\n",
       "    <tr>\n",
       "      <th>1</th>\n",
       "      <td>not in</td>\n",
       "      <td>Returns True if a sequence with the specified ...</td>\n",
       "      <td>x not in y</td>\n",
       "      <td>Try it »</td>\n",
       "    </tr>\n",
       "  </tbody>\n",
       "</table>\n",
       "</div>"
      ],
      "text/plain": [
       "  Operator                                        Description     Example  \\\n",
       "0       in  Returns True if a sequence with the specified ...      x in y   \n",
       "1   not in  Returns True if a sequence with the specified ...  x not in y   \n",
       "\n",
       "     Try it  \n",
       "0  Try it »  \n",
       "1  Try it »  "
      ]
     },
     "execution_count": 35,
     "metadata": {},
     "output_type": "execute_result"
    }
   ],
   "source": [
    "table[5]"
   ]
  },
  {
   "cell_type": "code",
   "execution_count": 39,
   "metadata": {},
   "outputs": [
    {
     "data": {
      "text/plain": [
       "['A',\n",
       " 'B',\n",
       " 'C',\n",
       " 'D',\n",
       " 'E',\n",
       " 'F',\n",
       " 'G',\n",
       " 'H',\n",
       " 'I',\n",
       " 'J',\n",
       " 'K',\n",
       " 'L',\n",
       " 'M',\n",
       " 'N',\n",
       " 'O',\n",
       " 'P',\n",
       " 'Q',\n",
       " 'R',\n",
       " 'S',\n",
       " 'T',\n",
       " 'U',\n",
       " 'V',\n",
       " 'W',\n",
       " 'X',\n",
       " 'Y',\n",
       " 'Z']"
      ]
     },
     "execution_count": 39,
     "metadata": {},
     "output_type": "execute_result"
    }
   ],
   "source": [
    "names: list[str] = [chr(i) for i in range(65,91)]\n",
    "names"
   ]
  },
  {
   "cell_type": "code",
   "execution_count": 38,
   "metadata": {},
   "outputs": [
    {
     "name": "stdout",
     "output_type": "stream",
     "text": [
      "0 A\n",
      "1 B\n",
      "2 C\n",
      "3 D\n",
      "True\n"
     ]
    }
   ],
   "source": [
    "names: list[str] = [chr(i) for i in range(65,91)]\n",
    "\n",
    "for i in range(len(names)):\n",
    "    print(i, names[i])\n",
    "    if names[i] == \"D\":\n",
    "         print(\"True\")\n",
    "         break\n"
   ]
  },
  {
   "cell_type": "code",
   "execution_count": 40,
   "metadata": {},
   "outputs": [
    {
     "data": {
      "text/plain": [
       "True"
      ]
     },
     "execution_count": 40,
     "metadata": {},
     "output_type": "execute_result"
    }
   ],
   "source": [
    "names: list[str] = [chr(i) for i in range(65,91)]\n",
    "\"D\" in names"
   ]
  },
  {
   "cell_type": "code",
   "execution_count": 41,
   "metadata": {},
   "outputs": [
    {
     "data": {
      "text/plain": [
       "False"
      ]
     },
     "execution_count": 41,
     "metadata": {},
     "output_type": "execute_result"
    }
   ],
   "source": [
    "names: list[str] = [chr(i) for i in range(65,91)]\n",
    "\"Pakistan\" in names"
   ]
  },
  {
   "cell_type": "code",
   "execution_count": 42,
   "metadata": {},
   "outputs": [
    {
     "data": {
      "text/plain": [
       "False"
      ]
     },
     "execution_count": 42,
     "metadata": {},
     "output_type": "execute_result"
    }
   ],
   "source": [
    "names: list[str] = [chr(i) for i in range(65,91)]\n",
    "\"D\" not in names"
   ]
  },
  {
   "cell_type": "code",
   "execution_count": 2,
   "metadata": {},
   "outputs": [
    {
     "data": {
      "text/plain": [
       "True"
      ]
     },
     "execution_count": 2,
     "metadata": {},
     "output_type": "execute_result"
    }
   ],
   "source": [
    "names : list[str] = ['Muhammad Ahmad' , 'Qasim' , 'Miss Anum' , 'Sir Zia']\n",
    "uinput : str = input(\"Enter your name\")\n",
    "\n",
    "uinput in names"
   ]
  },
  {
   "cell_type": "code",
   "execution_count": 3,
   "metadata": {},
   "outputs": [
    {
     "data": {
      "text/plain": [
       "True"
      ]
     },
     "execution_count": 3,
     "metadata": {},
     "output_type": "execute_result"
    }
   ],
   "source": [
    "names : list[str] = ['Muhammad Ahmad' , 'Qasim' , 'Miss Anum' , 'Sir Zia']\n",
    "uinput : str = input(\"Enter your name\")\n",
    "\n",
    "uinput not in names"
   ]
  },
  {
   "cell_type": "markdown",
   "metadata": {},
   "source": [
    "# Python Precedance Operators"
   ]
  },
  {
   "cell_type": "markdown",
   "metadata": {},
   "source": [
    "<img src='https://learningmonkey.in/wp-content/uploads/2021/05/Operator-Precedence-and-Associativity-in-Python.jpg'>"
   ]
  },
  {
   "cell_type": "markdown",
   "metadata": {},
   "source": [
    "# PEMDAS"
   ]
  },
  {
   "cell_type": "code",
   "execution_count": 5,
   "metadata": {},
   "outputs": [
    {
     "name": "stdout",
     "output_type": "stream",
     "text": [
      "4.0\n"
     ]
    }
   ],
   "source": [
    "print(3 + 2 -2 * 9/3 + 5)"
   ]
  },
  {
   "cell_type": "code",
   "execution_count": 6,
   "metadata": {},
   "outputs": [
    {
     "name": "stdout",
     "output_type": "stream",
     "text": [
      "a\n",
      "7\n",
      "3.0\n"
     ]
    }
   ],
   "source": [
    "# unzip\n",
    "\n",
    "#0   1   2   0    1    2\n",
    "a , b , c = 'a' , 7 , 3.0\n",
    "\n",
    "print(a)\n",
    "print(b)\n",
    "print(c)"
   ]
  },
  {
   "cell_type": "code",
   "execution_count": 7,
   "metadata": {},
   "outputs": [
    {
     "name": "stdout",
     "output_type": "stream",
     "text": [
      "a\n",
      "7\n",
      "3.0\n"
     ]
    }
   ],
   "source": [
    "a , b , c = ('a' , 7 , 3.0)\n",
    "print(a)\n",
    "print(b)\n",
    "print(c)"
   ]
  },
  {
   "cell_type": "code",
   "execution_count": 8,
   "metadata": {},
   "outputs": [
    {
     "name": "stdout",
     "output_type": "stream",
     "text": [
      "a 7 3.0\n"
     ]
    }
   ],
   "source": [
    "data = ('a' , 7 , 3.0)\n",
    "print(data[0] , data[1] ,data[2])\n",
    "\n"
   ]
  },
  {
   "cell_type": "code",
   "execution_count": 9,
   "metadata": {},
   "outputs": [
    {
     "name": "stdout",
     "output_type": "stream",
     "text": [
      "a 7 3.0\n"
     ]
    }
   ],
   "source": [
    "data = ('a' , 7 , 3.0)\n",
    "print(*data)\n",
    "\n"
   ]
  },
  {
   "cell_type": "code",
   "execution_count": 11,
   "metadata": {},
   "outputs": [
    {
     "data": {
      "text/plain": [
       "'aaa'"
      ]
     },
     "execution_count": 11,
     "metadata": {},
     "output_type": "execute_result"
    }
   ],
   "source": [
    "2 * 2\n",
    "# 4 \n",
    "\"a\" * 3"
   ]
  },
  {
   "cell_type": "code",
   "execution_count": null,
   "metadata": {},
   "outputs": [],
   "source": [
    "# abdcgdeet\n",
    "\n",
    "# code will be commented if you press ctrl + /"
   ]
  },
  {
   "cell_type": "markdown",
   "metadata": {},
   "source": [
    "# Walrus Operator"
   ]
  },
  {
   "cell_type": "code",
   "execution_count": 12,
   "metadata": {},
   "outputs": [
    {
     "name": "stdout",
     "output_type": "stream",
     "text": [
      "10\n"
     ]
    }
   ],
   "source": [
    "a : int = 5\n",
    "if(a<(b:=a+5)):\n",
    "    print(b)\n",
    "else:\n",
    "    print('else is working')"
   ]
  },
  {
   "cell_type": "markdown",
   "metadata": {},
   "source": [
    "Zen of Python \n",
    "should Read"
   ]
  }
 ],
 "metadata": {
  "kernelspec": {
   "display_name": "python12",
   "language": "python",
   "name": "python3"
  },
  "language_info": {
   "codemirror_mode": {
    "name": "ipython",
    "version": 3
   },
   "file_extension": ".py",
   "mimetype": "text/x-python",
   "name": "python",
   "nbconvert_exporter": "python",
   "pygments_lexer": "ipython3",
   "version": "3.12.0"
  }
 },
 "nbformat": 4,
 "nbformat_minor": 2
}
