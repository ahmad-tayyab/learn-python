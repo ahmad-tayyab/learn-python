{
 "cells": [
  {
   "cell_type": "code",
   "execution_count": 5,
   "metadata": {},
   "outputs": [
    {
     "name": "stdout",
     "output_type": "stream",
     "text": [
      "object height 6 Feet\n",
      "object eye colour blue\n",
      "Mother speaking function Love YOu Python\n"
     ]
    }
   ],
   "source": [
    "class Mother():\n",
    "    def __init__(self,name:str) -> None:\n",
    "        self.name : str = name\n",
    "        self.eye_colour : str = \"blue\"\n",
    "\n",
    "    def speaking(self, words:str)->str:\n",
    "        return f\"Mother speaking function {words}\"\n",
    "\n",
    "class Father():\n",
    "    def __init__(self, name : str) -> None:\n",
    "        self.name : str =  name\n",
    "        self.height : str =  \"6 Feet\"\n",
    "\n",
    "\n",
    "class Child(Mother,Father):\n",
    "    def __init__(self, mother_name: str,father_name:str,child_name:str) -> None:\n",
    "        Mother.__init__(self,mother_name)\n",
    "        Father.__init__(self,father_name)\n",
    "        self.child_name : str = child_name\n",
    "\n",
    "\n",
    "qasim : Child = Child(\"Naseem Bibi\",\"Aslam\",\"Qasim\")\n",
    "print(f\"object height {qasim.height}\")\n",
    "print(f\"object eye colour {qasim.eye_colour}\")\n",
    "print(qasim.speaking(\"Love YOu Python\"))"
   ]
  },
  {
   "cell_type": "code",
   "execution_count": 6,
   "metadata": {},
   "outputs": [
    {
     "name": "stdout",
     "output_type": "stream",
     "text": [
      "object height 6 Feet\n",
      "object eye colour blue\n",
      "Father speaking function Love YOu Python\n"
     ]
    }
   ],
   "source": [
    "class Mother():\n",
    "    def __init__(self,name:str) -> None:\n",
    "        self.name : str = name\n",
    "        self.eye_colour : str = \"blue\"\n",
    "\n",
    "    def speaking(self, words:str)->str:\n",
    "        return f\"Mother speaking function {words}\"\n",
    "\n",
    "class Father():\n",
    "    def __init__(self, name : str) -> None:\n",
    "        self.name : str =  name\n",
    "        self.height : str =  \"6 Feet\"\n",
    "\n",
    "    def speaking(self, words:str)->str:\n",
    "        return f\"Father speaking function {words}\"\n",
    "\n",
    "class Child(Father,Mother):\n",
    "    def __init__(self, mother_name: str,father_name:str,child_name:str) -> None:\n",
    "        Mother.__init__(self,mother_name)\n",
    "        Father.__init__(self,father_name)\n",
    "        self.child_name : str = child_name\n",
    "\n",
    "\n",
    "qasim : Child = Child(\"Naseem Bibi\",\"Aslam\",\"Qasim\")\n",
    "print(f\"object height {qasim.height}\")\n",
    "print(f\"object eye colour {qasim.eye_colour}\")\n",
    "print(qasim.speaking(\"Love YOu Python\"))"
   ]
  },
  {
   "cell_type": "code",
   "execution_count": 3,
   "metadata": {},
   "outputs": [
    {
     "data": {
      "text/plain": [
       "['__class__',\n",
       " '__delattr__',\n",
       " '__dict__',\n",
       " '__dir__',\n",
       " '__doc__',\n",
       " '__eq__',\n",
       " '__format__',\n",
       " '__ge__',\n",
       " '__getattribute__',\n",
       " '__getstate__',\n",
       " '__gt__',\n",
       " '__hash__',\n",
       " '__init__',\n",
       " '__init_subclass__',\n",
       " '__le__',\n",
       " '__lt__',\n",
       " '__module__',\n",
       " '__ne__',\n",
       " '__new__',\n",
       " '__reduce__',\n",
       " '__reduce_ex__',\n",
       " '__repr__',\n",
       " '__setattr__',\n",
       " '__sizeof__',\n",
       " '__str__',\n",
       " '__subclasshook__',\n",
       " '__weakref__',\n",
       " 'child_name',\n",
       " 'eye_colour',\n",
       " 'height',\n",
       " 'name',\n",
       " 'speaking']"
      ]
     },
     "execution_count": 3,
     "metadata": {},
     "output_type": "execute_result"
    }
   ],
   "source": [
    "dir(qasim)"
   ]
  },
  {
   "cell_type": "markdown",
   "metadata": {},
   "source": [
    "## overloading\n"
   ]
  },
  {
   "cell_type": "code",
   "execution_count": null,
   "metadata": {},
   "outputs": [],
   "source": []
  },
  {
   "cell_type": "markdown",
   "metadata": {},
   "source": [
    "## Polymorphism\n",
    "* overloading\n",
    "* overriding\n"
   ]
  }
 ],
 "metadata": {
  "kernelspec": {
   "display_name": "python12",
   "language": "python",
   "name": "python3"
  },
  "language_info": {
   "codemirror_mode": {
    "name": "ipython",
    "version": 3
   },
   "file_extension": ".py",
   "mimetype": "text/x-python",
   "name": "python",
   "nbconvert_exporter": "python",
   "pygments_lexer": "ipython3",
   "version": "3.12.0"
  }
 },
 "nbformat": 4,
 "nbformat_minor": 2
}
