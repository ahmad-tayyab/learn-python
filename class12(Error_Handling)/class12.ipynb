{
 "cells": [
  {
   "cell_type": "code",
   "execution_count": 2,
   "metadata": {},
   "outputs": [
    {
     "name": "stdout",
     "output_type": "stream",
     "text": [
      "logic1\n",
      "logic2\n",
      "logic3\n",
      "logic4\n"
     ]
    }
   ],
   "source": [
    "print(\"logic1\")\n",
    "print(\"logic2\")\n",
    "l1 : list[int] = [1,2,3]\n",
    "try:\n",
    "    print(7/0)\n",
    "    print(l1[0])\n",
    "    print(l1[20])\n",
    "except (ZeroDivisionError,NameError,IndexError):\n",
    "    print(\"Zero Division Error\")\n",
    "print(\"logic3\")\n",
    "print(\"logic4\")"
   ]
  },
  {
   "cell_type": "code",
   "execution_count": 6,
   "metadata": {},
   "outputs": [
    {
     "name": "stdout",
     "output_type": "stream",
     "text": [
      "logic1\n",
      "logic2\n",
      "3.5\n",
      "1\n",
      "IndexError\n",
      "logic3\n",
      "logic4\n"
     ]
    }
   ],
   "source": [
    "print(\"logic1\")\n",
    "print(\"logic2\")\n",
    "l1 : list[int] = [1,2,3]\n",
    "try:\n",
    "    print(7/2)\n",
    "    print(l1[0])\n",
    "    # print(xyz)\n",
    "    print(l1[20])\n",
    "except (ZeroDivisionError):\n",
    "    print(\"Zero Division Error\")\n",
    "except(NameError):\n",
    "    print(\"NameError\")\n",
    "except(IndexError):\n",
    "    print(\"IndexError\")\n",
    "\n",
    "print(\"logic3\")\n",
    "print(\"logic4\")"
   ]
  },
  {
   "cell_type": "code",
   "execution_count": 8,
   "metadata": {},
   "outputs": [
    {
     "name": "stdout",
     "output_type": "stream",
     "text": [
      "logic1\n",
      "logic2\n",
      "3.5\n",
      "1\n",
      "Some thing is wrong!\n",
      "logic3\n",
      "logic4\n"
     ]
    }
   ],
   "source": [
    "print(\"logic1\")\n",
    "print(\"logic2\")\n",
    "l1 : list[int] = [1,2,3]\n",
    "try:\n",
    "    print(7/2)\n",
    "    print(l1[0])\n",
    "    # print(xyz)\n",
    "    # print(l1[20])\n",
    "    open(\"aa.txt\")\n",
    "except (ZeroDivisionError):\n",
    "    print(\"Zero Division Error\")\n",
    "except(NameError):\n",
    "    print(\"NameError\")\n",
    "except(IndexError):\n",
    "    print(\"IndexError\")\n",
    "except:\n",
    "    print(\"Some thing is wrong!\")\n",
    "\n",
    "print(\"logic3\")\n",
    "print(\"logic4\")"
   ]
  },
  {
   "cell_type": "code",
   "execution_count": 12,
   "metadata": {},
   "outputs": [
    {
     "name": "stdout",
     "output_type": "stream",
     "text": [
      "something is wrong!\n",
      "list index out of range\n"
     ]
    }
   ],
   "source": [
    "try:\n",
    "    # print(age)\n",
    "    print(l1[200])\n",
    "except Exception as e:\n",
    "    print(f\"something is wrong!\\n{e}\")"
   ]
  },
  {
   "cell_type": "code",
   "execution_count": null,
   "metadata": {},
   "outputs": [],
   "source": [
    "raise Exception(\"hello\")"
   ]
  },
  {
   "cell_type": "code",
   "execution_count": 14,
   "metadata": {},
   "outputs": [
    {
     "name": "stdout",
     "output_type": "stream",
     "text": [
      "Qasim 1 30\n"
     ]
    }
   ],
   "source": [
    "class StudentCard():\n",
    "    def __init__(self,roll_number: int,name:str,age:int) -> None:\n",
    "        if age < 18 or age>60:\n",
    "            raise StudentAgeError(\"You are not eligible for this program!\")\n",
    "        self.roll_number = roll_number\n",
    "        self.name = name\n",
    "        self.age = age\n",
    "\n",
    "\n",
    "\n",
    "class StudentAgeError(Exception):\n",
    "    pass\n",
    "\n",
    "\n",
    "\n",
    "student1 = StudentCard(1,\"Qasim\",30)\n",
    "print(student1.name,student1.roll_number,student1.age)"
   ]
  },
  {
   "cell_type": "code",
   "execution_count": 15,
   "metadata": {},
   "outputs": [
    {
     "ename": "StudentAgeError",
     "evalue": "You are not eligible for this program!",
     "output_type": "error",
     "traceback": [
      "\u001b[1;31m---------------------------------------------------------------------------\u001b[0m",
      "\u001b[1;31mStudentAgeError\u001b[0m                           Traceback (most recent call last)",
      "\u001b[1;32mc:\\Users\\Ahmad\\Desktop\\Python\\class12(Error_Handling)\\class12.ipynb Cell 7\u001b[0m line \u001b[0;36m1\n\u001b[1;32m----> <a href='vscode-notebook-cell:/c%3A/Users/Ahmad/Desktop/Python/class12%28Error_Handling%29/class12.ipynb#W6sZmlsZQ%3D%3D?line=0'>1</a>\u001b[0m student2 \u001b[39m=\u001b[39m StudentCard(\u001b[39m1\u001b[39;49m,\u001b[39m\"\u001b[39;49m\u001b[39mQasim\u001b[39;49m\u001b[39m\"\u001b[39;49m,\u001b[39m61\u001b[39;49m)\n\u001b[0;32m      <a href='vscode-notebook-cell:/c%3A/Users/Ahmad/Desktop/Python/class12%28Error_Handling%29/class12.ipynb#W6sZmlsZQ%3D%3D?line=1'>2</a>\u001b[0m \u001b[39mprint\u001b[39m(student1\u001b[39m.\u001b[39mname,student1\u001b[39m.\u001b[39mroll_number,student1\u001b[39m.\u001b[39mage)\n",
      "\u001b[1;32mc:\\Users\\Ahmad\\Desktop\\Python\\class12(Error_Handling)\\class12.ipynb Cell 7\u001b[0m line \u001b[0;36m4\n\u001b[0;32m      <a href='vscode-notebook-cell:/c%3A/Users/Ahmad/Desktop/Python/class12%28Error_Handling%29/class12.ipynb#W6sZmlsZQ%3D%3D?line=1'>2</a>\u001b[0m \u001b[39mdef\u001b[39;00m \u001b[39m__init__\u001b[39m(\u001b[39mself\u001b[39m,roll_number: \u001b[39mint\u001b[39m,name:\u001b[39mstr\u001b[39m,age:\u001b[39mint\u001b[39m) \u001b[39m-\u001b[39m\u001b[39m>\u001b[39m \u001b[39mNone\u001b[39;00m:\n\u001b[0;32m      <a href='vscode-notebook-cell:/c%3A/Users/Ahmad/Desktop/Python/class12%28Error_Handling%29/class12.ipynb#W6sZmlsZQ%3D%3D?line=2'>3</a>\u001b[0m     \u001b[39mif\u001b[39;00m age \u001b[39m<\u001b[39m \u001b[39m18\u001b[39m \u001b[39mor\u001b[39;00m age\u001b[39m>\u001b[39m\u001b[39m60\u001b[39m:\n\u001b[1;32m----> <a href='vscode-notebook-cell:/c%3A/Users/Ahmad/Desktop/Python/class12%28Error_Handling%29/class12.ipynb#W6sZmlsZQ%3D%3D?line=3'>4</a>\u001b[0m         \u001b[39mraise\u001b[39;00m StudentAgeError(\u001b[39m\"\u001b[39m\u001b[39mYou are not eligible for this program!\u001b[39m\u001b[39m\"\u001b[39m)\n\u001b[0;32m      <a href='vscode-notebook-cell:/c%3A/Users/Ahmad/Desktop/Python/class12%28Error_Handling%29/class12.ipynb#W6sZmlsZQ%3D%3D?line=4'>5</a>\u001b[0m     \u001b[39mself\u001b[39m\u001b[39m.\u001b[39mroll_number \u001b[39m=\u001b[39m roll_number\n\u001b[0;32m      <a href='vscode-notebook-cell:/c%3A/Users/Ahmad/Desktop/Python/class12%28Error_Handling%29/class12.ipynb#W6sZmlsZQ%3D%3D?line=5'>6</a>\u001b[0m     \u001b[39mself\u001b[39m\u001b[39m.\u001b[39mname \u001b[39m=\u001b[39m name\n",
      "\u001b[1;31mStudentAgeError\u001b[0m: You are not eligible for this program!"
     ]
    }
   ],
   "source": [
    "student2 = StudentCard(1,\"Qasim\",61)\n",
    "print(student1.name,student1.roll_number,student1.age)"
   ]
  },
  {
   "cell_type": "code",
   "execution_count": 16,
   "metadata": {},
   "outputs": [
    {
     "ename": "StudentAgeError",
     "evalue": "You are not eligible for this program!",
     "output_type": "error",
     "traceback": [
      "\u001b[1;31m---------------------------------------------------------------------------\u001b[0m",
      "\u001b[1;31mStudentAgeError\u001b[0m                           Traceback (most recent call last)",
      "\u001b[1;32mc:\\Users\\Ahmad\\Desktop\\Python\\class12(Error_Handling)\\class12.ipynb Cell 8\u001b[0m line \u001b[0;36m1\n\u001b[1;32m----> <a href='vscode-notebook-cell:/c%3A/Users/Ahmad/Desktop/Python/class12%28Error_Handling%29/class12.ipynb#X10sZmlsZQ%3D%3D?line=0'>1</a>\u001b[0m student2 \u001b[39m=\u001b[39m StudentCard(\u001b[39m1\u001b[39;49m,\u001b[39m\"\u001b[39;49m\u001b[39mQasim\u001b[39;49m\u001b[39m\"\u001b[39;49m,\u001b[39m16\u001b[39;49m)\n\u001b[0;32m      <a href='vscode-notebook-cell:/c%3A/Users/Ahmad/Desktop/Python/class12%28Error_Handling%29/class12.ipynb#X10sZmlsZQ%3D%3D?line=1'>2</a>\u001b[0m \u001b[39mprint\u001b[39m(student1\u001b[39m.\u001b[39mname,student1\u001b[39m.\u001b[39mroll_number,student1\u001b[39m.\u001b[39mage)\n",
      "\u001b[1;32mc:\\Users\\Ahmad\\Desktop\\Python\\class12(Error_Handling)\\class12.ipynb Cell 8\u001b[0m line \u001b[0;36m4\n\u001b[0;32m      <a href='vscode-notebook-cell:/c%3A/Users/Ahmad/Desktop/Python/class12%28Error_Handling%29/class12.ipynb#X10sZmlsZQ%3D%3D?line=1'>2</a>\u001b[0m \u001b[39mdef\u001b[39;00m \u001b[39m__init__\u001b[39m(\u001b[39mself\u001b[39m,roll_number: \u001b[39mint\u001b[39m,name:\u001b[39mstr\u001b[39m,age:\u001b[39mint\u001b[39m) \u001b[39m-\u001b[39m\u001b[39m>\u001b[39m \u001b[39mNone\u001b[39;00m:\n\u001b[0;32m      <a href='vscode-notebook-cell:/c%3A/Users/Ahmad/Desktop/Python/class12%28Error_Handling%29/class12.ipynb#X10sZmlsZQ%3D%3D?line=2'>3</a>\u001b[0m     \u001b[39mif\u001b[39;00m age \u001b[39m<\u001b[39m \u001b[39m18\u001b[39m \u001b[39mor\u001b[39;00m age\u001b[39m>\u001b[39m\u001b[39m60\u001b[39m:\n\u001b[1;32m----> <a href='vscode-notebook-cell:/c%3A/Users/Ahmad/Desktop/Python/class12%28Error_Handling%29/class12.ipynb#X10sZmlsZQ%3D%3D?line=3'>4</a>\u001b[0m         \u001b[39mraise\u001b[39;00m StudentAgeError(\u001b[39m\"\u001b[39m\u001b[39mYou are not eligible for this program!\u001b[39m\u001b[39m\"\u001b[39m)\n\u001b[0;32m      <a href='vscode-notebook-cell:/c%3A/Users/Ahmad/Desktop/Python/class12%28Error_Handling%29/class12.ipynb#X10sZmlsZQ%3D%3D?line=4'>5</a>\u001b[0m     \u001b[39mself\u001b[39m\u001b[39m.\u001b[39mroll_number \u001b[39m=\u001b[39m roll_number\n\u001b[0;32m      <a href='vscode-notebook-cell:/c%3A/Users/Ahmad/Desktop/Python/class12%28Error_Handling%29/class12.ipynb#X10sZmlsZQ%3D%3D?line=5'>6</a>\u001b[0m     \u001b[39mself\u001b[39m\u001b[39m.\u001b[39mname \u001b[39m=\u001b[39m name\n",
      "\u001b[1;31mStudentAgeError\u001b[0m: You are not eligible for this program!"
     ]
    }
   ],
   "source": [
    "student2 = StudentCard(1,\"Qasim\",16)\n",
    "print(student1.name,student1.roll_number,student1.age)"
   ]
  },
  {
   "cell_type": "markdown",
   "metadata": {},
   "source": [
    "# File Handling\n",
    "https://www.freecodecamp.org/news/file-handling-in-python/\n",
    "\n",
    "\n",
    "<img src=\"https://net-informations.com/python/file/img/modes.png\">\n"
   ]
  },
  {
   "cell_type": "code",
   "execution_count": 17,
   "metadata": {},
   "outputs": [
    {
     "data": {
      "text/plain": [
       "<_io.TextIOWrapper name='./abc.txt' mode='r' encoding='utf-8'>"
      ]
     },
     "execution_count": 17,
     "metadata": {},
     "output_type": "execute_result"
    }
   ],
   "source": [
    "open(\"./abc.txt\")"
   ]
  },
  {
   "cell_type": "code",
   "execution_count": 18,
   "metadata": {},
   "outputs": [
    {
     "data": {
      "text/plain": [
       "<_io.TextIOWrapper name='./abc.txt' mode='r' encoding='utf-8'>"
      ]
     },
     "execution_count": 18,
     "metadata": {},
     "output_type": "execute_result"
    }
   ],
   "source": [
    "data = open(\"./abc.txt\")\n",
    "data"
   ]
  },
  {
   "cell_type": "code",
   "execution_count": 19,
   "metadata": {},
   "outputs": [
    {
     "data": {
      "text/plain": [
       "['_CHUNK_SIZE',\n",
       " '_checkClosed',\n",
       " '_checkReadable',\n",
       " '_checkSeekable',\n",
       " '_checkWritable',\n",
       " '_finalizing',\n",
       " 'buffer',\n",
       " 'close',\n",
       " 'closed',\n",
       " 'detach',\n",
       " 'encoding',\n",
       " 'errors',\n",
       " 'fileno',\n",
       " 'flush',\n",
       " 'isatty',\n",
       " 'line_buffering',\n",
       " 'mode',\n",
       " 'name',\n",
       " 'newlines',\n",
       " 'read',\n",
       " 'readable',\n",
       " 'readline',\n",
       " 'readlines',\n",
       " 'reconfigure',\n",
       " 'seek',\n",
       " 'seekable',\n",
       " 'tell',\n",
       " 'truncate',\n",
       " 'writable',\n",
       " 'write',\n",
       " 'write_through',\n",
       " 'writelines']"
      ]
     },
     "execution_count": 19,
     "metadata": {},
     "output_type": "execute_result"
    }
   ],
   "source": [
    "[i for i in dir(data) if \"__\" not in i]"
   ]
  },
  {
   "cell_type": "code",
   "execution_count": 20,
   "metadata": {},
   "outputs": [
    {
     "data": {
      "text/plain": [
       "_io.TextIOWrapper"
      ]
     },
     "execution_count": 20,
     "metadata": {},
     "output_type": "execute_result"
    }
   ],
   "source": [
    "data = open(\"./abc.txt\")\n",
    "type(data)"
   ]
  },
  {
   "cell_type": "code",
   "execution_count": 21,
   "metadata": {},
   "outputs": [
    {
     "name": "stdout",
     "output_type": "stream",
     "text": [
      "line 1\n",
      "line 2\n",
      "\n"
     ]
    }
   ],
   "source": [
    "from typing import TextIO\n",
    "data: TextIO = open(\"./abc.txt\") # connectivity with abc.txt file\n",
    "print(data.read())"
   ]
  },
  {
   "cell_type": "code",
   "execution_count": 22,
   "metadata": {},
   "outputs": [
    {
     "name": "stdout",
     "output_type": "stream",
     "text": [
      "line 1\n",
      "line 2\n",
      "\n"
     ]
    }
   ],
   "source": [
    "from typing import TextIO\n",
    "data: TextIO = open(\"./abc.txt\") # connectivity with abc.txt file\n",
    "print(data.read())\n",
    "\n",
    "data.close()"
   ]
  },
  {
   "cell_type": "code",
   "execution_count": 25,
   "metadata": {},
   "outputs": [
    {
     "name": "stdout",
     "output_type": "stream",
     "text": [
      "line 1\n",
      "line 2\n",
      "line 3\n",
      "line 4\n",
      "line 5\n",
      "\n",
      "Pakistan zindabad!\n"
     ]
    }
   ],
   "source": [
    "with open(\"./abc.txt\") as file:\n",
    "    print(file.read())\n",
    "\n",
    "print(\"Pakistan zindabad!\")"
   ]
  },
  {
   "cell_type": "code",
   "execution_count": 27,
   "metadata": {},
   "outputs": [
    {
     "name": "stdout",
     "output_type": "stream",
     "text": [
      "line 1\n",
      "\n"
     ]
    }
   ],
   "source": [
    "with open(\"./abc.txt\") as file:\n",
    "    print(file.readline()) # read only first line"
   ]
  },
  {
   "cell_type": "code",
   "execution_count": 30,
   "metadata": {},
   "outputs": [
    {
     "name": "stdout",
     "output_type": "stream",
     "text": [
      "line 1\n",
      "\n",
      "line 2\n",
      "\n"
     ]
    }
   ],
   "source": [
    "with open(\"./abc.txt\") as file:\n",
    "    print(file.readline()) # read only one line\n",
    "    print(file.readline()) "
   ]
  },
  {
   "cell_type": "code",
   "execution_count": 31,
   "metadata": {},
   "outputs": [
    {
     "name": "stdout",
     "output_type": "stream",
     "text": [
      "line 1\n",
      "line 2\n"
     ]
    }
   ],
   "source": [
    "with open(\"./abc.txt\") as file:\n",
    "    print(file.readline(), end=\"\") # read only one line\n",
    "    print(file.readline(), end=\"\") "
   ]
  },
  {
   "cell_type": "code",
   "execution_count": 28,
   "metadata": {},
   "outputs": [
    {
     "name": "stdout",
     "output_type": "stream",
     "text": [
      "['line 1\\n', 'line 2\\n', 'line 3\\n', 'line 4\\n', 'line 5\\n']\n"
     ]
    }
   ],
   "source": [
    "with open(\"./abc.txt\") as file:\n",
    "    print(file.readlines())"
   ]
  },
  {
   "cell_type": "code",
   "execution_count": 29,
   "metadata": {},
   "outputs": [
    {
     "name": "stdout",
     "output_type": "stream",
     "text": [
      "['line 1\\n', 'line 2\\n', 'line 3\\n']\n"
     ]
    }
   ],
   "source": [
    "with open(\"./abc.txt\") as file:\n",
    "    print(file.readlines()[:3])"
   ]
  },
  {
   "cell_type": "code",
   "execution_count": 33,
   "metadata": {},
   "outputs": [
    {
     "name": "stdout",
     "output_type": "stream",
     "text": [
      "['line 1\\n', 'line 2\\n', 'line 3\\n']\n"
     ]
    },
    {
     "ename": "UnsupportedOperation",
     "evalue": "not writable",
     "output_type": "error",
     "traceback": [
      "\u001b[1;31m---------------------------------------------------------------------------\u001b[0m",
      "\u001b[1;31mUnsupportedOperation\u001b[0m                      Traceback (most recent call last)",
      "\u001b[1;32mc:\\Users\\Ahmad\\Desktop\\Python\\class12(Error_Handling)\\class12.ipynb Cell 22\u001b[0m line \u001b[0;36m3\n\u001b[0;32m      <a href='vscode-notebook-cell:/c%3A/Users/Ahmad/Desktop/Python/class12%28Error_Handling%29/class12.ipynb#X30sZmlsZQ%3D%3D?line=0'>1</a>\u001b[0m \u001b[39mwith\u001b[39;00m \u001b[39mopen\u001b[39m(\u001b[39m\"\u001b[39m\u001b[39m./abc.txt\u001b[39m\u001b[39m\"\u001b[39m, \u001b[39m'\u001b[39m\u001b[39mr\u001b[39m\u001b[39m'\u001b[39m) \u001b[39mas\u001b[39;00m file:\n\u001b[0;32m      <a href='vscode-notebook-cell:/c%3A/Users/Ahmad/Desktop/Python/class12%28Error_Handling%29/class12.ipynb#X30sZmlsZQ%3D%3D?line=1'>2</a>\u001b[0m     \u001b[39mprint\u001b[39m(file\u001b[39m.\u001b[39mreadlines()[:\u001b[39m3\u001b[39m])\n\u001b[1;32m----> <a href='vscode-notebook-cell:/c%3A/Users/Ahmad/Desktop/Python/class12%28Error_Handling%29/class12.ipynb#X30sZmlsZQ%3D%3D?line=2'>3</a>\u001b[0m     file\u001b[39m.\u001b[39;49mwrite(\u001b[39m\"\u001b[39;49m\u001b[39mpakistan zindabad\u001b[39;49m\u001b[39m\"\u001b[39;49m)\n",
      "\u001b[1;31mUnsupportedOperation\u001b[0m: not writable"
     ]
    }
   ],
   "source": [
    "with open(\"./abc.txt\", 'r') as file:\n",
    "    print(file.readlines()[:3])\n",
    "    file.write(\"pakistan zindabad\")"
   ]
  },
  {
   "cell_type": "code",
   "execution_count": 34,
   "metadata": {},
   "outputs": [
    {
     "ename": "UnsupportedOperation",
     "evalue": "not readable",
     "output_type": "error",
     "traceback": [
      "\u001b[1;31m---------------------------------------------------------------------------\u001b[0m",
      "\u001b[1;31mUnsupportedOperation\u001b[0m                      Traceback (most recent call last)",
      "\u001b[1;32mc:\\Users\\Ahmad\\Desktop\\Python\\class12(Error_Handling)\\class12.ipynb Cell 23\u001b[0m line \u001b[0;36m2\n\u001b[0;32m      <a href='vscode-notebook-cell:/c%3A/Users/Ahmad/Desktop/Python/class12%28Error_Handling%29/class12.ipynb#X31sZmlsZQ%3D%3D?line=0'>1</a>\u001b[0m \u001b[39mwith\u001b[39;00m \u001b[39mopen\u001b[39m(\u001b[39m\"\u001b[39m\u001b[39m./abc.txt\u001b[39m\u001b[39m\"\u001b[39m, \u001b[39m'\u001b[39m\u001b[39mw\u001b[39m\u001b[39m'\u001b[39m) \u001b[39mas\u001b[39;00m file:\n\u001b[1;32m----> <a href='vscode-notebook-cell:/c%3A/Users/Ahmad/Desktop/Python/class12%28Error_Handling%29/class12.ipynb#X31sZmlsZQ%3D%3D?line=1'>2</a>\u001b[0m     \u001b[39mprint\u001b[39m(file\u001b[39m.\u001b[39;49mreadlines()[:\u001b[39m3\u001b[39m])\n\u001b[0;32m      <a href='vscode-notebook-cell:/c%3A/Users/Ahmad/Desktop/Python/class12%28Error_Handling%29/class12.ipynb#X31sZmlsZQ%3D%3D?line=2'>3</a>\u001b[0m     file\u001b[39m.\u001b[39mwrite(\u001b[39m\"\u001b[39m\u001b[39mpakistan zindabad\u001b[39m\u001b[39m\"\u001b[39m)\n",
      "\u001b[1;31mUnsupportedOperation\u001b[0m: not readable"
     ]
    }
   ],
   "source": [
    "with open(\"./abc.txt\", 'w') as file:\n",
    "    print(file.readlines()[:3])\n",
    "    file.write(\"pakistan zindabad\")"
   ]
  },
  {
   "cell_type": "code",
   "execution_count": 38,
   "metadata": {},
   "outputs": [],
   "source": [
    "with open(\"./abc1.txt\", 'w') as file:\n",
    "    file.write(\"Pakistan Zindabad\")"
   ]
  },
  {
   "cell_type": "code",
   "execution_count": 39,
   "metadata": {},
   "outputs": [
    {
     "name": "stdout",
     "output_type": "stream",
     "text": [
      "Pakistan Zindabad\n"
     ]
    }
   ],
   "source": [
    "with open(\"./abc1.txt\", 'r+') as file:\n",
    "    print(file.read())\n",
    "    file.write(\"We love our country\")"
   ]
  },
  {
   "cell_type": "code",
   "execution_count": 40,
   "metadata": {},
   "outputs": [
    {
     "name": "stdout",
     "output_type": "stream",
     "text": [
      "\n"
     ]
    }
   ],
   "source": [
    "with open(\"./abc1.txt\", 'r+') as file:\n",
    "    file.write(\"We love our country!\")\n",
    "    print(file.read())"
   ]
  }
 ],
 "metadata": {
  "kernelspec": {
   "display_name": "python12",
   "language": "python",
   "name": "python3"
  },
  "language_info": {
   "codemirror_mode": {
    "name": "ipython",
    "version": 3
   },
   "file_extension": ".py",
   "mimetype": "text/x-python",
   "name": "python",
   "nbconvert_exporter": "python",
   "pygments_lexer": "ipython3",
   "version": "3.12.0"
  }
 },
 "nbformat": 4,
 "nbformat_minor": 2
}
