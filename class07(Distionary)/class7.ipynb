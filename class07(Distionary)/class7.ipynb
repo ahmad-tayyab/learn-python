{
 "cells": [
  {
   "cell_type": "code",
   "execution_count": 31,
   "metadata": {},
   "outputs": [
    {
     "name": "stdout",
     "output_type": "stream",
     "text": [
      "Qasim\n"
     ]
    }
   ],
   "source": [
    "# List                 0         1         2\n",
    "data : list[str] = [\"Aslam\" , \"Qasim\" , \"MBBS\"]\n",
    "print(data[1])"
   ]
  },
  {
   "cell_type": "code",
   "execution_count": 32,
   "metadata": {},
   "outputs": [
    {
     "name": "stdout",
     "output_type": "stream",
     "text": [
      "{1, 2, 3, 4}\n"
     ]
    },
    {
     "data": {
      "text/plain": [
       "['add',\n",
       " 'clear',\n",
       " 'copy',\n",
       " 'difference',\n",
       " 'difference_update',\n",
       " 'discard',\n",
       " 'intersection',\n",
       " 'intersection_update',\n",
       " 'isdisjoint',\n",
       " 'issubset',\n",
       " 'issuperset',\n",
       " 'pop',\n",
       " 'remove',\n",
       " 'symmetric_difference',\n",
       " 'symmetric_difference_update',\n",
       " 'union',\n",
       " 'update']"
      ]
     },
     "execution_count": 32,
     "metadata": {},
     "output_type": "execute_result"
    }
   ],
   "source": [
    "data : set = {1,1,1,1,1,2,2,2,3,3,3,4,4,4,4,}\n",
    "print(data)\n",
    "\n",
    "\n",
    "[i for i in dir(data) if \"__\" not in i]"
   ]
  },
  {
   "cell_type": "markdown",
   "metadata": {},
   "source": [
    "# Dictionary\n",
    "* key:value (items)\n",
    "    * replacement of indexes\n",
    "    * value item\n",
    "\n",
    "* dict_variable[key]\n",
    "    * dict_variable[new_key] = new_value\n",
    "        * add new value\n",
    "        * update value"
   ]
  },
  {
   "cell_type": "code",
   "execution_count": 33,
   "metadata": {},
   "outputs": [
    {
     "name": "stdout",
     "output_type": "stream",
     "text": [
      "{'education': 'MBBS', 'fname': 'Qasim', 'name': 'Aslam'}\n"
     ]
    }
   ],
   "source": [
    "from typing import Dict\n",
    "import pprint    # to give the styling to output\n",
    "# List\n",
    "\n",
    "data : Dict[str,str] = {\"name\" : \"Aslam\" , \"fname\" : \"Qasim\" ,\"education\" : \"MBBS\"}\n",
    "\n",
    "pprint.pprint(data) # pprint use for the styling of output"
   ]
  },
  {
   "cell_type": "code",
   "execution_count": 34,
   "metadata": {},
   "outputs": [
    {
     "name": "stdout",
     "output_type": "stream",
     "text": [
      "{0: 'pakistan', 'education': 'MBBS', 'fname': 'Qasim', 'name': 'Aslam'}\n",
      "Aslam\n",
      "Qasim\n",
      "MBBS\n",
      "pakistan\n"
     ]
    }
   ],
   "source": [
    "from typing import Dict, Union, Optional\n",
    "import pprint    # to give the styling to output\n",
    "\n",
    "Key = Union[int,str]  # custom type\n",
    "Value = Union[int,str, list, dict, tuple, set]\n",
    "data : Dict[Key,Value] = {\"name\" : \"Aslam\" , \"fname\" : \"Qasim\" ,\"education\" : \"MBBS\", 0:\"pakistan\"}\n",
    "\n",
    "pprint.pprint(data) # pprint use for the styling of output\n",
    "print(data[\"name\"])\n",
    "print(data[\"fname\"])\n",
    "print(data[\"education\"])\n",
    "print(data[0]) # not a index it's key"
   ]
  },
  {
   "cell_type": "code",
   "execution_count": 35,
   "metadata": {},
   "outputs": [
    {
     "name": "stdout",
     "output_type": "stream",
     "text": [
      "{0: 'pakistan',\n",
      " 'abc': [1, 2, 3],\n",
      " 'cde': (1, 2, 3),\n",
      " 'dict': {'a': 1, 'b': 2},\n",
      " 'education': 'MBBS',\n",
      " 'fname': 'Qasim',\n",
      " 'name': 'Aslam',\n",
      " 'xyz': {1, 2, 3}}\n",
      "Aslam\n",
      "Qasim\n",
      "MBBS\n",
      "pakistan\n",
      "{1, 2, 3}\n",
      "2\n"
     ]
    }
   ],
   "source": [
    "from typing import Dict, Union, Optional\n",
    "import pprint    # to give the styling to output\n",
    "\n",
    "Key = Union[int,str]  # custom type\n",
    "Value = Union[int,str, list, dict, tuple, set]\n",
    "data : Dict[Key,Value] = {\n",
    "                          \"name\" : \"Aslam\" , \n",
    "                          \"fname\" : \"Qasim\" ,\n",
    "                          \"education\" : \"MBBS\", \n",
    "                          0:\"pakistan\",\n",
    "                          \"abc\" : [1,2,3],\n",
    "                          \"xyz\" : {1,2,3},\n",
    "                          \"cde\" : (1,2,3),\n",
    "                          \"dict\" : {\"a\":1,\"b\":2}}\n",
    "\n",
    "pprint.pprint(data) # pprint use for the styling of output\n",
    "print(data[\"name\"])\n",
    "print(data[\"fname\"])\n",
    "print(data[\"education\"])\n",
    "print(data[0]) # not a index it's key\n",
    "print(data[\"xyz\"])\n",
    "print(data[\"dict\"][\"b\"])"
   ]
  },
  {
   "cell_type": "code",
   "execution_count": 36,
   "metadata": {},
   "outputs": [
    {
     "name": "stdout",
     "output_type": "stream",
     "text": [
      "{}\n",
      "{'name': 'Qasim', 'fname': 'Shabiir', 'edu': 'MBBS'}\n"
     ]
    }
   ],
   "source": [
    "from typing import Dict, Union, Optional\n",
    "import pprint    # to give the styling to output\n",
    "\n",
    "Key = Union[int,str]  # custom type\n",
    "Value = Union[int,str, list, dict, tuple, set]\n",
    "\n",
    "data : Dict[Key,Value] = {\n",
    "\n",
    "}\n",
    "\n",
    "print(data)\n",
    "\n",
    "data[\"name\"] = \"Qasim\"\n",
    "data[\"fname\"] = \"Shabiir\"\n",
    "data[\"edu\"] = \"MBBS\"\n",
    "print(data)"
   ]
  },
  {
   "cell_type": "code",
   "execution_count": 37,
   "metadata": {},
   "outputs": [
    {
     "name": "stdout",
     "output_type": "stream",
     "text": [
      "{'name': 'Aslam', 'fname': 'Qasim', 'education': 'MBBS', 0: 'pakistan', 'abc': [1, 2, 3], 'xyz': {1, 2, 3}, 'cde': (1, 2, 3), 'dict': {'a': 1, 'b': 2}}\n",
      "{'name': 'Jangoo', 'fname': 'Qasim', 'education': 'MBBS', 0: 'pakistan', 'abc': [1, 2, 3], 'xyz': {1, 2, 3}, 'cde': (1, 2, 3), 'dict': {'a': 1, 'b': 2}}\n"
     ]
    }
   ],
   "source": [
    "from typing import Dict, Union, Optional\n",
    "import pprint    # to give the styling to output\n",
    "\n",
    "Key = Union[int,str]  # custom type\n",
    "Value = Union[int,str, list, dict, tuple, set]\n",
    "\n",
    "data : Dict[Key,Value] = {\n",
    "                          \"name\" : \"Aslam\" , \n",
    "                          \"fname\" : \"Qasim\" ,\n",
    "                          \"education\" : \"MBBS\", \n",
    "                          0:\"pakistan\",\n",
    "                          \"abc\" : [1,2,3],\n",
    "                          \"xyz\" : {1,2,3},\n",
    "                          \"cde\" : (1,2,3),\n",
    "                          \"dict\" : {\"a\":1,\"b\":2}}\n",
    "\n",
    "print(data)\n",
    " \n",
    "data[\"name\"] = \"Jangoo\"\n",
    "\n",
    "print(data)"
   ]
  },
  {
   "cell_type": "code",
   "execution_count": 38,
   "metadata": {},
   "outputs": [
    {
     "name": "stdout",
     "output_type": "stream",
     "text": [
      "NA\n",
      "Aslam\n"
     ]
    },
    {
     "data": {
      "text/plain": [
       "['clear',\n",
       " 'copy',\n",
       " 'fromkeys',\n",
       " 'get',\n",
       " 'items',\n",
       " 'keys',\n",
       " 'pop',\n",
       " 'popitem',\n",
       " 'setdefault',\n",
       " 'update',\n",
       " 'values']"
      ]
     },
     "execution_count": 38,
     "metadata": {},
     "output_type": "execute_result"
    }
   ],
   "source": [
    "from typing import Dict, Union, Optional\n",
    "import pprint    # to give the styling to output\n",
    "\n",
    "Key = Union[int,str]  # custom type\n",
    "Value = Union[int,str, list, dict, tuple, set]\n",
    "\n",
    "data : Dict[Key,Value] = {\n",
    "                          \"name\" : \"Aslam\" , \n",
    "                          \"fname\" : \"Qasim\" ,\n",
    "                          \"education\" : \"MBBS\", \n",
    "                          }\n",
    "\n",
    "print(data.get(\"pakistan\",\"NA\"))\n",
    "print(data.get(\"name\",\"NA\"))\n",
    "[i for i in dir(data) if \"__\" not in i]"
   ]
  },
  {
   "cell_type": "code",
   "execution_count": 39,
   "metadata": {},
   "outputs": [
    {
     "name": "stdout",
     "output_type": "stream",
     "text": [
      "dict_keys(['name', 'fname', 'education'])\n",
      "dict_values(['Aslam', 'Qasim', 'MBBS'])\n",
      "dict_items([('name', 'Aslam'), ('fname', 'Qasim'), ('education', 'MBBS')])\n",
      "name\n",
      "fname\n",
      "education\n"
     ]
    }
   ],
   "source": [
    "from typing import Dict, Union, Optional\n",
    "import pprint    # to give the styling to output\n",
    "\n",
    "Key = Union[int,str]  # custom type\n",
    "Value = Union[int,str, list, dict, tuple, set]\n",
    "\n",
    "data : Dict[Key,Value] = {\n",
    "                          \"name\" : \"Aslam\" , \n",
    "                          \"fname\" : \"Qasim\" ,\n",
    "                          \"education\" : \"MBBS\", \n",
    "                          }\n",
    "\n",
    "print(data.keys())\n",
    "print(data.values())\n",
    "print(data.items())\n",
    "\n",
    "for k in data.keys():\n",
    "    print(k)\n",
    "\n",
    "# [i for i in dir(data) if \"__\" not in i]"
   ]
  },
  {
   "cell_type": "code",
   "execution_count": 28,
   "metadata": {},
   "outputs": [
    {
     "name": "stdout",
     "output_type": "stream",
     "text": [
      "dict_keys(['name', 'fname', 'education'])\n",
      "dict_values(['Aslam', 'Qasim', 'MBBS'])\n",
      "dict_items([('name', 'Aslam'), ('fname', 'Qasim'), ('education', 'MBBS')])\n",
      "name Aslam\n",
      "fname Qasim\n",
      "education MBBS\n"
     ]
    }
   ],
   "source": [
    "from typing import Dict, Union, Optional\n",
    "import pprint    # to give the styling to output\n",
    "\n",
    "Key = Union[int,str]  # custom type\n",
    "Value = Union[int,str, list, dict, tuple, set]\n",
    "\n",
    "data : Dict[Key,Value] = {\n",
    "                          \"name\" : \"Aslam\" , \n",
    "                          \"fname\" : \"Qasim\" ,\n",
    "                          \"education\" : \"MBBS\", \n",
    "                          }\n",
    "\n",
    "print(data.keys())\n",
    "print(data.values())\n",
    "print(data.items())\n",
    "\n",
    "for k in data.keys():\n",
    "    print(k, data[k])\n",
    "\n",
    "# [i for i in dir(data) if \"__\" not in i]"
   ]
  },
  {
   "cell_type": "code",
   "execution_count": 30,
   "metadata": {},
   "outputs": [
    {
     "name": "stdout",
     "output_type": "stream",
     "text": [
      "dict_keys(['name', 'fname', 'education'])\n",
      "dict_values(['Aslam', 'Qasim', 'MBBS'])\n",
      "dict_items([('name', 'Aslam'), ('fname', 'Qasim'), ('education', 'MBBS')])\n",
      "Aslam\n",
      "Qasim\n",
      "MBBS\n"
     ]
    }
   ],
   "source": [
    "from typing import Dict, Union, Optional\n",
    "import pprint    # to give the styling to output\n",
    "\n",
    "Key = Union[int,str]  # custom type\n",
    "Value = Union[int,str, list, dict, tuple, set]\n",
    "\n",
    "data : Dict[Key,Value] = {\n",
    "                          \"name\" : \"Aslam\" , \n",
    "                          \"fname\" : \"Qasim\" ,\n",
    "                          \"education\" : \"MBBS\", \n",
    "                          }\n",
    "\n",
    "print(data.keys())\n",
    "print(data.values())\n",
    "print(data.items())\n",
    "\n",
    "for v in data.values():\n",
    "    print(v)\n",
    "\n",
    "# [i for i in dir(data) if \"__\" not in i]"
   ]
  },
  {
   "cell_type": "code",
   "execution_count": 40,
   "metadata": {},
   "outputs": [
    {
     "name": "stdout",
     "output_type": "stream",
     "text": [
      "dict_keys(['name', 'fname', 'education'])\n",
      "dict_values(['Aslam', 'Qasim', 'MBBS'])\n",
      "dict_items([('name', 'Aslam'), ('fname', 'Qasim'), ('education', 'MBBS')])\n",
      "name Aslam\n",
      "fname Qasim\n",
      "education MBBS\n"
     ]
    }
   ],
   "source": [
    "from typing import Dict, Union, Optional\n",
    "import pprint    # to give the styling to output\n",
    "\n",
    "Key = Union[int,str]  # custom type\n",
    "Value = Union[int,str, list, dict, tuple, set]\n",
    "\n",
    "data : Dict[Key,Value] = {\n",
    "                          \"name\" : \"Aslam\" , \n",
    "                          \"fname\" : \"Qasim\" ,\n",
    "                          \"education\" : \"MBBS\", \n",
    "                          }\n",
    "\n",
    "print(data.keys())\n",
    "print(data.values())\n",
    "print(data.items())\n",
    "\n",
    "for k,v in data.items():\n",
    "    print(k,v)\n",
    "\n",
    "# [i for i in dir(data) if \"__\" not in i]"
   ]
  },
  {
   "cell_type": "code",
   "execution_count": 42,
   "metadata": {},
   "outputs": [
    {
     "name": "stdout",
     "output_type": "stream",
     "text": [
      "dict_keys(['name', 'fname', 'education'])\n",
      "dict_values(['Aslam', 'Qasim', 'MBBS'])\n",
      "dict_items([('name', 'Aslam'), ('fname', 'Qasim'), ('education', 'MBBS')])\n"
     ]
    },
    {
     "data": {
      "text/plain": [
       "{'Aslam': 'name', 'Qasim': 'fname', 'MBBS': 'education'}"
      ]
     },
     "execution_count": 42,
     "metadata": {},
     "output_type": "execute_result"
    }
   ],
   "source": [
    "from typing import Dict, Union, Optional\n",
    "import pprint    # to give the styling to output\n",
    "\n",
    "Key = Union[int,str]  # custom type\n",
    "Value = Union[int,str, list, dict, tuple, set]\n",
    "\n",
    "data : Dict[Key,Value] = {\n",
    "                          \"name\" : \"Aslam\" , \n",
    "                          \"fname\" : \"Qasim\" ,\n",
    "                          \"education\" : \"MBBS\", \n",
    "                          }\n",
    "\n",
    "print(data.keys())\n",
    "print(data.values())\n",
    "print(data.items())\n",
    "\n",
    "{v:k for k,v in data.items()}\n",
    "\n",
    "# [i for i in dir(data) if \"__\" not in i]"
   ]
  },
  {
   "cell_type": "code",
   "execution_count": 43,
   "metadata": {},
   "outputs": [
    {
     "name": "stdout",
     "output_type": "stream",
     "text": [
      "7 3\n"
     ]
    }
   ],
   "source": [
    "a : int = 3\n",
    "b : int = 7\n",
    "\n",
    "a, b = b, a\n",
    "\n",
    "print(a,b)"
   ]
  },
  {
   "cell_type": "code",
   "execution_count": 45,
   "metadata": {},
   "outputs": [
    {
     "name": "stdout",
     "output_type": "stream",
     "text": [
      "{}\n"
     ]
    },
    {
     "data": {
      "text/plain": [
       "{'id': None, 'name': None, 'course': None}"
      ]
     },
     "execution_count": 45,
     "metadata": {},
     "output_type": "execute_result"
    }
   ],
   "source": [
    "keys : list[str] = [\"id\", \"name\" , \"course\"]\n",
    "\n",
    "data : Dict[Key, Value] = {}\n",
    "\n",
    "print(data)\n",
    "\n",
    "data.fromkeys(keys)"
   ]
  }
 ],
 "metadata": {
  "kernelspec": {
   "display_name": "python12",
   "language": "python",
   "name": "python3"
  },
  "language_info": {
   "codemirror_mode": {
    "name": "ipython",
    "version": 3
   },
   "file_extension": ".py",
   "mimetype": "text/x-python",
   "name": "python",
   "nbconvert_exporter": "python",
   "pygments_lexer": "ipython3",
   "version": "3.12.0"
  }
 },
 "nbformat": 4,
 "nbformat_minor": 2
}
